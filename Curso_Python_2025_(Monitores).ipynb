{
  "nbformat": 4,
  "nbformat_minor": 0,
  "metadata": {
    "colab": {
      "provenance": [],
      "collapsed_sections": [
        "3b3fecd1",
        "3adH7FFCyqlR"
      ]
    },
    "kernelspec": {
      "name": "python3",
      "display_name": "Python 3"
    },
    "language_info": {
      "name": "python"
    }
  },
  "cells": [
    {
      "cell_type": "markdown",
      "source": [
        "#**Escrevendo seu primeiro código em python**\n",
        "\n",
        "Nesse primeiro código iremos utilizar a função `print()` para escrever um texto na tela."
      ],
      "metadata": {
        "id": "IvjfQ3xjtUvV"
      }
    },
    {
      "cell_type": "code",
      "execution_count": 264,
      "metadata": {
        "id": "qfTSGq-7tSjY",
        "colab": {
          "base_uri": "https://localhost:8080/"
        },
        "outputId": "2dcdbf38-32c9-4569-87a2-24a6a8ab51e9"
      },
      "outputs": [
        {
          "output_type": "stream",
          "name": "stdout",
          "text": [
            "Olá, mundo!\n"
          ]
        }
      ],
      "source": [
        "print(\"Olá, mundo!\")"
      ]
    },
    {
      "cell_type": "markdown",
      "source": [
        "* Por que utilizar aspas? E os parênteses?\n",
        "* Essa formatação é obrigatória?\n",
        "* O que mais se pode fazer com python?\n",
        "\n",
        "Vamos explicar essas questões nas próximas seções..."
      ],
      "metadata": {
        "id": "kf0ptvWJ1WH5"
      }
    },
    {
      "cell_type": "markdown",
      "source": [
        "# **Tipos de dados e variáveis em Python**\n",
        "\n",
        "Em Python, todo dado pertence a um tipo. Os tipos mais comuns são:\n",
        "\n",
        "- **int** → números inteiros  \n",
        "- **float** → números decimais  \n",
        "- **str** → textos (strings)  \n",
        "- **bool** → valores lógicos (True ou False)  \n",
        "- **list** → coleções ordenadas de dados  \n",
        "- **dict** → pares chave/valor\n",
        "\n",
        "Para facilitar o uso desses dados, podemos **associá-los a nomes escolhidos por nós**.  Esses nomes são chamados de **variáveis**."
      ],
      "metadata": {
        "id": "wO6F-WXYnUMo"
      }
    },
    {
      "cell_type": "markdown",
      "source": [
        "# **Variáveis**\n",
        "\n",
        "Uma **variável** funciona como uma “caixa com etiqueta”, onde guardamos um valor para reutilizá-lo depois.\n",
        "\n",
        "Usamos o operador `=` para **atribuir** um valor a uma variável.\n",
        "\n",
        "Os nomes de variáveis em Python podem conter letras (A-Z, a-z), números (0-9) e o caractere sublinhado (_). Porém, eles não podem começar com números nem usar símbolos especiais, como @, & ou #, ou espaços. Além disso, letras maiúsculas e minúsculas são tratadas de modo distinto."
      ],
      "metadata": {
        "id": "76if-2aToFhY"
      }
    },
    {
      "cell_type": "code",
      "source": [
        "Species = \"Setaria viridis\""
      ],
      "metadata": {
        "id": "OHPFXhyAoJx2"
      },
      "execution_count": 265,
      "outputs": []
    },
    {
      "cell_type": "code",
      "source": [
        "species = \"Setaria italica\" # A variável species é diferente da Species"
      ],
      "metadata": {
        "id": "Cor4L3jCP2p3"
      },
      "execution_count": 266,
      "outputs": []
    },
    {
      "cell_type": "markdown",
      "source": [
        "### **Verificando o conteúdo de uma variável**\n",
        "\n",
        "Para verificar o conteúdo de uma variável pode-se utilizar a função **`print()`**.  \n",
        "Essa função **imprime na tela** o que passarmos entre parênteses.\n",
        "\n"
      ],
      "metadata": {
        "id": "wtPM-GbHpgv5"
      }
    },
    {
      "cell_type": "code",
      "source": [
        "print(Species)"
      ],
      "metadata": {
        "id": "4frWLhuePqL5",
        "colab": {
          "base_uri": "https://localhost:8080/"
        },
        "outputId": "c2a7e3b7-3d13-4496-ca4a-472d52006acd"
      },
      "execution_count": 267,
      "outputs": [
        {
          "output_type": "stream",
          "name": "stdout",
          "text": [
            "Setaria viridis\n"
          ]
        }
      ]
    },
    {
      "cell_type": "code",
      "source": [
        "print(species)"
      ],
      "metadata": {
        "id": "HkkVokcpPyOc",
        "colab": {
          "base_uri": "https://localhost:8080/"
        },
        "outputId": "33d1dd61-1483-4d3c-b0cf-870ea4526b4e"
      },
      "execution_count": 268,
      "outputs": [
        {
          "output_type": "stream",
          "name": "stdout",
          "text": [
            "Setaria italica\n"
          ]
        }
      ]
    },
    {
      "cell_type": "markdown",
      "source": [
        "Também é possível utilizar o print() diretamente com um texto, número ou qualquer outro tipo de dado em Python.\n",
        "Além disso, é possível exibir mais de um objeto ao mesmo tempo, separando-os por vírgulas."
      ],
      "metadata": {
        "id": "khnDKBYIz8lZ"
      }
    },
    {
      "cell_type": "code",
      "source": [
        "print(\"Species:\", Species)"
      ],
      "metadata": {
        "colab": {
          "base_uri": "https://localhost:8080/"
        },
        "id": "DzhzWayy0Juh",
        "outputId": "db984648-5bfd-425d-ed81-015986b81b4e"
      },
      "execution_count": 269,
      "outputs": [
        {
          "output_type": "stream",
          "name": "stdout",
          "text": [
            "Species: Setaria viridis\n"
          ]
        }
      ]
    },
    {
      "cell_type": "markdown",
      "source": [
        "### **Verificando o tipo de uma variável**\n",
        "\n",
        "Para descobrir o tipo de dado armazenado em uma variável usamos a função **`type()`**.  \n",
        "Ela retorna a **classe** do valor, como `<class 'int'>`, `<class 'str'>`, `<class 'float'>`, etc."
      ],
      "metadata": {
        "id": "KCDsWAbjlRFs"
      }
    },
    {
      "cell_type": "markdown",
      "source": [
        "## **Strings (textos)**\n",
        "\n",
        "Strings são sequências de caracteres, ou seja, textos.  \n",
        "Usamos aspas simples `' '` ou aspas duplas `\" \"` para defini-las."
      ],
      "metadata": {
        "id": "eUj5urr4PpqQ"
      }
    },
    {
      "cell_type": "code",
      "source": [
        "nome = \"João\""
      ],
      "metadata": {
        "id": "w2addf7jQTdu"
      },
      "execution_count": 270,
      "outputs": []
    },
    {
      "cell_type": "code",
      "source": [
        "print(type(nome))"
      ],
      "metadata": {
        "colab": {
          "base_uri": "https://localhost:8080/"
        },
        "id": "5jyAysBWlkY6",
        "outputId": "f2e72cca-d8ce-466d-94a6-d30e148aac9f"
      },
      "execution_count": 271,
      "outputs": [
        {
          "output_type": "stream",
          "name": "stdout",
          "text": [
            "<class 'str'>\n"
          ]
        }
      ]
    },
    {
      "cell_type": "code",
      "source": [
        "print(\"oi\\\"\")"
      ],
      "metadata": {
        "colab": {
          "base_uri": "https://localhost:8080/"
        },
        "id": "R2nGW-1Mi4Om",
        "outputId": "e40cc7cb-3318-4106-c817-76d4f7929f75"
      },
      "execution_count": 272,
      "outputs": [
        {
          "output_type": "stream",
          "name": "stdout",
          "text": [
            "oi\"\n"
          ]
        }
      ]
    },
    {
      "cell_type": "markdown",
      "source": [
        "## **Números (int e float)**\n",
        "\n",
        "Podemos trabalhar com números inteiros (`int`) ou decimais (`float`)."
      ],
      "metadata": {
        "id": "8vFhOIo-QTQk"
      }
    },
    {
      "cell_type": "code",
      "source": [
        "contagem = 5  # número inteiro\n",
        "print(\"Valor:\", contagem)\n",
        "print(\"Tipo:\", type(contagem))"
      ],
      "metadata": {
        "id": "vwfucratlvqX",
        "colab": {
          "base_uri": "https://localhost:8080/"
        },
        "outputId": "6613c888-8ffe-41a4-f114-874c7addd0af"
      },
      "execution_count": 273,
      "outputs": [
        {
          "output_type": "stream",
          "name": "stdout",
          "text": [
            "Valor: 5\n",
            "Tipo: <class 'int'>\n"
          ]
        }
      ]
    },
    {
      "cell_type": "code",
      "source": [
        "contagem = 10.5  # número decimal\n",
        "print(\"Valor:\", contagem)\n",
        "print(\"Tipo:\", type(contagem))"
      ],
      "metadata": {
        "id": "GTGiJBMLlyiu",
        "colab": {
          "base_uri": "https://localhost:8080/"
        },
        "outputId": "a846ecc1-9356-46e4-ce37-e4c02e958447"
      },
      "execution_count": 274,
      "outputs": [
        {
          "output_type": "stream",
          "name": "stdout",
          "text": [
            "Valor: 10.5\n",
            "Tipo: <class 'float'>\n"
          ]
        }
      ]
    },
    {
      "cell_type": "markdown",
      "source": [
        "## **Booleanos (valores lógicos)**\n",
        "\n",
        "Booleanos podem ser apenas **True** (verdadeiro) ou **False** (falso).  \n",
        "Eles são usados principalmente em condições."
      ],
      "metadata": {
        "id": "wVj0WRzvlzFW"
      }
    },
    {
      "cell_type": "code",
      "source": [
        "aprovado = True\n",
        "reprovado = False\n",
        "\n",
        "print(\"Aprovado:\", aprovado, \"| Tipo:\", type(aprovado))\n",
        "print(\"Reprovado:\", reprovado, \"| Tipo:\", type(reprovado))"
      ],
      "metadata": {
        "id": "ZuH-2yLEl2Yw",
        "colab": {
          "base_uri": "https://localhost:8080/"
        },
        "outputId": "8d913c23-4b9d-4f74-bbfb-f7a64b0b6e3d"
      },
      "execution_count": 275,
      "outputs": [
        {
          "output_type": "stream",
          "name": "stdout",
          "text": [
            "Aprovado: True | Tipo: <class 'bool'>\n",
            "Reprovado: False | Tipo: <class 'bool'>\n"
          ]
        }
      ]
    },
    {
      "cell_type": "markdown",
      "source": [
        "## **Listas**\n",
        "\n",
        "Listas guardam uma coleção de valores **ordenados**, que podem ser de variados tipos.  \n",
        "Cada item tem uma posição chamada **índice**, que começa em zero."
      ],
      "metadata": {
        "id": "y68ByJrWl-f4"
      }
    },
    {
      "cell_type": "code",
      "source": [
        "dias = ['Dom', 'Seg', 'Ter', 'Qua', 'Qui', 'Sex', 'Sab']\n",
        "\n",
        "print(\"Lista de dias:\", dias)\n",
        "print(\"Tipo:\", type(dias))"
      ],
      "metadata": {
        "colab": {
          "base_uri": "https://localhost:8080/"
        },
        "id": "Gj_uz-DNl_ei",
        "outputId": "1fbab9f6-6fa0-441b-fe46-278f9183ad45"
      },
      "execution_count": 276,
      "outputs": [
        {
          "output_type": "stream",
          "name": "stdout",
          "text": [
            "Lista de dias: ['Dom', 'Seg', 'Ter', 'Qua', 'Qui', 'Sex', 'Sab']\n",
            "Tipo: <class 'list'>\n"
          ]
        }
      ]
    },
    {
      "cell_type": "markdown",
      "source": [
        "Cada item da lista possui um **índice numérico**, atribuído automaticamente a partir de zero:\n",
        "\n",
        "| Índice | Valor |\n",
        "|--------|-------|\n",
        "| 0      | 'Dom' |\n",
        "| 1      | 'Seg' |\n",
        "| 2      | 'Ter' |\n",
        "| 3      | 'Qua' |\n",
        "| 4      | 'Qui' |\n",
        "| 5      | 'Sex' |\n",
        "| 6      | 'Sab' |"
      ],
      "metadata": {
        "id": "UxjS2Fu3mO7L"
      }
    },
    {
      "cell_type": "code",
      "source": [
        "print(\"Primeiro dia:\", dias[0])\n",
        "print(\"Último dia:\", dias[6])"
      ],
      "metadata": {
        "colab": {
          "base_uri": "https://localhost:8080/"
        },
        "id": "BPWnNXq3mOpn",
        "outputId": "37a4ae02-5d7f-495f-9d72-d963d0f28a80"
      },
      "execution_count": 277,
      "outputs": [
        {
          "output_type": "stream",
          "name": "stdout",
          "text": [
            "Primeiro dia: Dom\n",
            "Último dia: Sab\n"
          ]
        }
      ]
    },
    {
      "cell_type": "code",
      "source": [
        "print(\"Primeiro dia:\", dias[0], \"| Tipo:\", type(dias[0])) #Perceba que as cada elemento da lista mantém seu próprio tipo"
      ],
      "metadata": {
        "id": "oYdQAEtJmagC",
        "colab": {
          "base_uri": "https://localhost:8080/"
        },
        "outputId": "6d04b6b8-83bf-4325-8fa3-1bb4f6ba703d"
      },
      "execution_count": 278,
      "outputs": [
        {
          "output_type": "stream",
          "name": "stdout",
          "text": [
            "Primeiro dia: Dom | Tipo: <class 'str'>\n"
          ]
        }
      ]
    },
    {
      "cell_type": "markdown",
      "source": [
        "## **Dicionários**\n",
        "\n",
        "Dicionários guardam pares **chave → valor**.  \n",
        "São muito usados para representar dados estruturados (como se fossem tabelas com dados que são *nomeados* ou *rotulados*)."
      ],
      "metadata": {
        "id": "hFBxoJdCmrr5"
      }
    },
    {
      "cell_type": "code",
      "source": [
        "aluno = {\"nome\": \"João\", \"idade\": 18, \"curso\": \"Estatística\"}"
      ],
      "metadata": {
        "id": "zmGEtOGPmvz9"
      },
      "execution_count": 279,
      "outputs": []
    },
    {
      "cell_type": "code",
      "source": [
        "print(aluno, type(aluno))"
      ],
      "metadata": {
        "colab": {
          "base_uri": "https://localhost:8080/"
        },
        "id": "Phz1TwMFmzSo",
        "outputId": "733f8371-01fd-4fdc-dfef-7a026150c6c0"
      },
      "execution_count": 280,
      "outputs": [
        {
          "output_type": "stream",
          "name": "stdout",
          "text": [
            "{'nome': 'João', 'idade': 18, 'curso': 'Estatística'} <class 'dict'>\n"
          ]
        }
      ]
    },
    {
      "cell_type": "markdown",
      "source": [
        "Podemos acessar os valores de um dicionário utilizando **o nome do dicionário** seguido da **chave correspondente entre colchetes**."
      ],
      "metadata": {
        "id": "qHO27gp-m592"
      }
    },
    {
      "cell_type": "code",
      "source": [
        "print(aluno[\"nome\"])   # acessa o valor da chave \"nome\"\n",
        "print(aluno[\"idade\"])  # acessa o valor da chave \"idade\"\n",
        "print(aluno[\"curso\"])  # acessa o valor da chave \"curso\""
      ],
      "metadata": {
        "id": "DZsvvaR8m8Pc",
        "colab": {
          "base_uri": "https://localhost:8080/"
        },
        "outputId": "ae181fd2-324d-451e-b4db-5225bb21b9b8"
      },
      "execution_count": 281,
      "outputs": [
        {
          "output_type": "stream",
          "name": "stdout",
          "text": [
            "João\n",
            "18\n",
            "Estatística\n"
          ]
        }
      ]
    },
    {
      "cell_type": "markdown",
      "source": [
        "**Atenção!**\n",
        "Observe que tudo o que inserimos após o `#` no código é destacado em verde e é considerado como um comentário.\n",
        "Isso significa que o Python não executa o que vem depois do `#`.\n",
        "Comentários são usados para explicar o código ou anotar observações, sem afetar a execução."
      ],
      "metadata": {
        "id": "0Ml1fCE8EW3m"
      }
    },
    {
      "cell_type": "markdown",
      "source": [
        "# **Expressões**\n",
        "\n",
        "Uma expressão é uma combinação de valores, variáveis e operadores. Dentro seus tipos existem:\n",
        "- Operadores de Atribuição: Para atribuir valores em variáveis.\n",
        "\n",
        "- Operadores Aritméticos: Para realizar operações matemáticas.\n",
        "\n",
        "- Operadores Relacionais: Para comparar valores.\n",
        "\n",
        "- Operadores Lógicos: Para combinar expressões booleanas.\n",
        "\n",
        "- Operadores de Filiação: Para verificar se um valor pertence a uma sequência."
      ],
      "metadata": {
        "id": "7DGo4XLR4crF"
      }
    },
    {
      "cell_type": "markdown",
      "source": [
        "## **Operadores de Atribuição**\n",
        "\n",
        "Consiste no uso do operador `=` para atribuir um valor a uma variável."
      ],
      "metadata": {
        "id": "tO9jmdl1yJVr"
      }
    },
    {
      "cell_type": "code",
      "source": [
        "a = 10\n",
        "b = 5"
      ],
      "metadata": {
        "id": "MmbseHoPyMuR"
      },
      "execution_count": 282,
      "outputs": []
    },
    {
      "cell_type": "code",
      "source": [
        "a"
      ],
      "metadata": {
        "colab": {
          "base_uri": "https://localhost:8080/"
        },
        "id": "3j_aubO2a-1c",
        "outputId": "af5fd6bf-c849-404b-bd1c-84328b998af7"
      },
      "execution_count": 283,
      "outputs": [
        {
          "output_type": "execute_result",
          "data": {
            "text/plain": [
              "10"
            ]
          },
          "metadata": {},
          "execution_count": 283
        }
      ]
    },
    {
      "cell_type": "code",
      "source": [
        "b"
      ],
      "metadata": {
        "colab": {
          "base_uri": "https://localhost:8080/"
        },
        "id": "V4E4MwIKbCe9",
        "outputId": "c9b42743-7267-4737-da1d-287c1eb0dbc1"
      },
      "execution_count": 284,
      "outputs": [
        {
          "output_type": "execute_result",
          "data": {
            "text/plain": [
              "5"
            ]
          },
          "metadata": {},
          "execution_count": 284
        }
      ]
    },
    {
      "cell_type": "markdown",
      "source": [
        "## **Operadores Aritméticos**\n",
        "\n",
        "As 4 operações básicas: adição, subtração, multiplicação e divisão estão presentes aqui."
      ],
      "metadata": {
        "id": "g4yvG-yO6iCu"
      }
    },
    {
      "cell_type": "code",
      "source": [
        "a + b"
      ],
      "metadata": {
        "colab": {
          "base_uri": "https://localhost:8080/"
        },
        "id": "1u2_yp5f6fw3",
        "outputId": "78efbdf3-7503-4009-8fe4-57625ca79fd4"
      },
      "execution_count": 285,
      "outputs": [
        {
          "output_type": "execute_result",
          "data": {
            "text/plain": [
              "15"
            ]
          },
          "metadata": {},
          "execution_count": 285
        }
      ]
    },
    {
      "cell_type": "code",
      "source": [
        "a - b"
      ],
      "metadata": {
        "colab": {
          "base_uri": "https://localhost:8080/"
        },
        "id": "CYNp76oMbIc7",
        "outputId": "6301a6a5-3013-4558-f48d-f5637876c2ba"
      },
      "execution_count": 286,
      "outputs": [
        {
          "output_type": "execute_result",
          "data": {
            "text/plain": [
              "5"
            ]
          },
          "metadata": {},
          "execution_count": 286
        }
      ]
    },
    {
      "cell_type": "code",
      "source": [
        "a * b"
      ],
      "metadata": {
        "colab": {
          "base_uri": "https://localhost:8080/"
        },
        "id": "dDP0jFJzbJwl",
        "outputId": "ae008487-ffc3-4a0f-dacc-9de756262d97"
      },
      "execution_count": 287,
      "outputs": [
        {
          "output_type": "execute_result",
          "data": {
            "text/plain": [
              "50"
            ]
          },
          "metadata": {},
          "execution_count": 287
        }
      ]
    },
    {
      "cell_type": "code",
      "source": [
        "a / b"
      ],
      "metadata": {
        "colab": {
          "base_uri": "https://localhost:8080/"
        },
        "id": "vPChBgf_bKkN",
        "outputId": "56b67835-404f-413d-eb32-5ab5ec94219b"
      },
      "execution_count": 288,
      "outputs": [
        {
          "output_type": "execute_result",
          "data": {
            "text/plain": [
              "2.0"
            ]
          },
          "metadata": {},
          "execution_count": 288
        }
      ]
    },
    {
      "cell_type": "markdown",
      "source": [
        "Com esses operadores, também podemos realizar operações como:\n",
        "- Exponenciação\n",
        "- Resto\n",
        "- Divisão inteira"
      ],
      "metadata": {
        "id": "GBR9GpJ0__8I"
      }
    },
    {
      "cell_type": "code",
      "source": [
        "a = 5\n",
        "b = 2"
      ],
      "metadata": {
        "id": "St4cEMifALg4"
      },
      "execution_count": 289,
      "outputs": []
    },
    {
      "cell_type": "code",
      "source": [
        "a ** b"
      ],
      "metadata": {
        "colab": {
          "base_uri": "https://localhost:8080/"
        },
        "id": "Qu0tdzNhbSxn",
        "outputId": "6ec52fb3-31d7-43b8-9ef4-0c0858dc7df2"
      },
      "execution_count": 290,
      "outputs": [
        {
          "output_type": "execute_result",
          "data": {
            "text/plain": [
              "25"
            ]
          },
          "metadata": {},
          "execution_count": 290
        }
      ]
    },
    {
      "cell_type": "code",
      "source": [
        "a % b"
      ],
      "metadata": {
        "colab": {
          "base_uri": "https://localhost:8080/"
        },
        "id": "fcxjCRkNbVcv",
        "outputId": "88a78cc2-3269-4d8c-e179-5bfcae30ccee"
      },
      "execution_count": 291,
      "outputs": [
        {
          "output_type": "execute_result",
          "data": {
            "text/plain": [
              "1"
            ]
          },
          "metadata": {},
          "execution_count": 291
        }
      ]
    },
    {
      "cell_type": "code",
      "source": [
        "a // b"
      ],
      "metadata": {
        "colab": {
          "base_uri": "https://localhost:8080/"
        },
        "id": "tqZ4wS3ObXwN",
        "outputId": "610fd539-908b-4bcc-e5d0-5539b28d9d43"
      },
      "execution_count": 292,
      "outputs": [
        {
          "output_type": "execute_result",
          "data": {
            "text/plain": [
              "2"
            ]
          },
          "metadata": {},
          "execution_count": 292
        }
      ]
    },
    {
      "cell_type": "markdown",
      "source": [
        "### Operadores de Atribuição Compostos\n",
        "\n",
        "Consistem na junção do operador `=` com os operadores aritméticos."
      ],
      "metadata": {
        "id": "WqmDyauRy6co"
      }
    },
    {
      "cell_type": "code",
      "source": [
        "a = 7"
      ],
      "metadata": {
        "id": "1lkjukMmzKWi"
      },
      "execution_count": 293,
      "outputs": []
    },
    {
      "cell_type": "code",
      "source": [
        "a += 6 # a = a + 6\n",
        "a"
      ],
      "metadata": {
        "colab": {
          "base_uri": "https://localhost:8080/"
        },
        "id": "QVln7wySbfVh",
        "outputId": "6c6fda90-8335-4cc7-ce97-998d50e9873c"
      },
      "execution_count": 294,
      "outputs": [
        {
          "output_type": "execute_result",
          "data": {
            "text/plain": [
              "13"
            ]
          },
          "metadata": {},
          "execution_count": 294
        }
      ]
    },
    {
      "cell_type": "code",
      "source": [
        "a -= 3 # a = a - 3\n",
        "a"
      ],
      "metadata": {
        "colab": {
          "base_uri": "https://localhost:8080/"
        },
        "id": "0KTg4ca8bggx",
        "outputId": "1f4abb92-97b9-467b-a13a-7e547e3d9e71"
      },
      "execution_count": 295,
      "outputs": [
        {
          "output_type": "execute_result",
          "data": {
            "text/plain": [
              "10"
            ]
          },
          "metadata": {},
          "execution_count": 295
        }
      ]
    },
    {
      "cell_type": "code",
      "source": [
        "a *= a # a = a * a\n",
        "a"
      ],
      "metadata": {
        "colab": {
          "base_uri": "https://localhost:8080/"
        },
        "id": "lfdjwe6ZbgWn",
        "outputId": "11e4faae-83c1-4990-f70a-c7a993be23a4"
      },
      "execution_count": 296,
      "outputs": [
        {
          "output_type": "execute_result",
          "data": {
            "text/plain": [
              "100"
            ]
          },
          "metadata": {},
          "execution_count": 296
        }
      ]
    },
    {
      "cell_type": "code",
      "source": [
        "a /= 2 # a = a / 2\n",
        "a"
      ],
      "metadata": {
        "colab": {
          "base_uri": "https://localhost:8080/"
        },
        "id": "B0MbdM6pbgLS",
        "outputId": "815e9bd3-2b5c-4db6-df33-782223277608"
      },
      "execution_count": 297,
      "outputs": [
        {
          "output_type": "execute_result",
          "data": {
            "text/plain": [
              "50.0"
            ]
          },
          "metadata": {},
          "execution_count": 297
        }
      ]
    },
    {
      "cell_type": "code",
      "source": [
        "a //= 3 # a = a // 3\n",
        "a"
      ],
      "metadata": {
        "colab": {
          "base_uri": "https://localhost:8080/"
        },
        "id": "TtAl_5a_bf_8",
        "outputId": "9a8bb2e1-6c58-46a7-ed92-3885e5bfeae6"
      },
      "execution_count": 298,
      "outputs": [
        {
          "output_type": "execute_result",
          "data": {
            "text/plain": [
              "16.0"
            ]
          },
          "metadata": {},
          "execution_count": 298
        }
      ]
    },
    {
      "cell_type": "code",
      "source": [
        "a %= 6 # a = a % 6\n",
        "a"
      ],
      "metadata": {
        "colab": {
          "base_uri": "https://localhost:8080/"
        },
        "id": "tX_7eRXfbfzR",
        "outputId": "8f5e8bf4-86d6-4ce8-ed69-c2d0666306b7"
      },
      "execution_count": 299,
      "outputs": [
        {
          "output_type": "execute_result",
          "data": {
            "text/plain": [
              "4.0"
            ]
          },
          "metadata": {},
          "execution_count": 299
        }
      ]
    },
    {
      "cell_type": "markdown",
      "source": [
        "## Ordem de precedência aritmética\n",
        "\n",
        "Python segue a ordem de precedência da matemática que aprendemos no ensino fundamental. Também é possível utilizar parênteses para alterar a ordem que as operações devem ser executadas."
      ],
      "metadata": {
        "id": "5EuH7SoOEUVV"
      }
    },
    {
      "cell_type": "code",
      "source": [
        "12 + 2.1 * 100"
      ],
      "metadata": {
        "colab": {
          "base_uri": "https://localhost:8080/"
        },
        "id": "5EyTAAsVFU53",
        "outputId": "b7cea092-2a7d-4a52-f250-7472c7d3a0e9"
      },
      "execution_count": 300,
      "outputs": [
        {
          "output_type": "execute_result",
          "data": {
            "text/plain": [
              "222.0"
            ]
          },
          "metadata": {},
          "execution_count": 300
        }
      ]
    },
    {
      "cell_type": "code",
      "source": [
        "(12 + 2.1) * 100"
      ],
      "metadata": {
        "colab": {
          "base_uri": "https://localhost:8080/"
        },
        "id": "FrCK3BkQF8Y0",
        "outputId": "b57835f4-845f-452b-d97c-7991288d33f8"
      },
      "execution_count": 301,
      "outputs": [
        {
          "output_type": "execute_result",
          "data": {
            "text/plain": [
              "1410.0"
            ]
          },
          "metadata": {},
          "execution_count": 301
        }
      ]
    },
    {
      "cell_type": "code",
      "source": [
        "12 + (2.1 * 100)"
      ],
      "metadata": {
        "colab": {
          "base_uri": "https://localhost:8080/"
        },
        "id": "oZbUDEEcGvDf",
        "outputId": "a1dc9923-5884-4c95-888d-112e2665be7b"
      },
      "execution_count": 302,
      "outputs": [
        {
          "output_type": "execute_result",
          "data": {
            "text/plain": [
              "222.0"
            ]
          },
          "metadata": {},
          "execution_count": 302
        }
      ]
    },
    {
      "cell_type": "markdown",
      "source": [
        "## Manipulação de Strings com operadores aritméticos\n",
        "\n",
        "Não somente dados numéricos podem ser manipulados por esses operadores, porém, com as strings o funcionamento é um pouco diferente. Operações como adição e multiplicação estão presentes aqui também."
      ],
      "metadata": {
        "id": "VV27da1kOx7e"
      }
    },
    {
      "cell_type": "code",
      "source": [
        "\"1\" + \"1\""
      ],
      "metadata": {
        "colab": {
          "base_uri": "https://localhost:8080/",
          "height": 35
        },
        "id": "fD9I5u0VJRav",
        "outputId": "7c1e456f-e969-4c84-9033-dbf2049a97e0"
      },
      "execution_count": 303,
      "outputs": [
        {
          "output_type": "execute_result",
          "data": {
            "text/plain": [
              "'11'"
            ],
            "application/vnd.google.colaboratory.intrinsic+json": {
              "type": "string"
            }
          },
          "metadata": {},
          "execution_count": 303
        }
      ]
    },
    {
      "cell_type": "code",
      "source": [
        "gene1 = \"ATGCG\"\n",
        "gene2 = \"CCGAAAT\""
      ],
      "metadata": {
        "id": "D7axWISzQJpa"
      },
      "execution_count": 304,
      "outputs": []
    },
    {
      "cell_type": "code",
      "source": [
        "gene1 + gene2"
      ],
      "metadata": {
        "colab": {
          "base_uri": "https://localhost:8080/",
          "height": 35
        },
        "id": "WZkr2YZVaW1N",
        "outputId": "af7f96ac-df1e-49bc-9545-afdd4f38d664"
      },
      "execution_count": 305,
      "outputs": [
        {
          "output_type": "execute_result",
          "data": {
            "text/plain": [
              "'ATGCGCCGAAAT'"
            ],
            "application/vnd.google.colaboratory.intrinsic+json": {
              "type": "string"
            }
          },
          "metadata": {},
          "execution_count": 305
        }
      ]
    },
    {
      "cell_type": "code",
      "source": [
        "gene1 * 3"
      ],
      "metadata": {
        "colab": {
          "base_uri": "https://localhost:8080/",
          "height": 35
        },
        "id": "4_LuvaiSanA4",
        "outputId": "fd302724-1e0a-451a-fe91-b79d48d580eb"
      },
      "execution_count": 306,
      "outputs": [
        {
          "output_type": "execute_result",
          "data": {
            "text/plain": [
              "'ATGCGATGCGATGCG'"
            ],
            "application/vnd.google.colaboratory.intrinsic+json": {
              "type": "string"
            }
          },
          "metadata": {},
          "execution_count": 306
        }
      ]
    },
    {
      "cell_type": "markdown",
      "source": [
        "Mas operações como subtração e divisão não podem ser usadas..."
      ],
      "metadata": {
        "id": "I_bjL8MuavQp"
      }
    },
    {
      "cell_type": "code",
      "source": [
        "gene1 - 2"
      ],
      "metadata": {
        "id": "YeLbelc3SO36",
        "colab": {
          "base_uri": "https://localhost:8080/",
          "height": 141
        },
        "outputId": "f29d2385-1a7f-452d-d86b-ace03c5de498"
      },
      "execution_count": 447,
      "outputs": [
        {
          "output_type": "error",
          "ename": "TypeError",
          "evalue": "unsupported operand type(s) for -: 'str' and 'int'",
          "traceback": [
            "\u001b[0;31m---------------------------------------------------------------------------\u001b[0m",
            "\u001b[0;31mTypeError\u001b[0m                                 Traceback (most recent call last)",
            "\u001b[0;32m/tmp/ipython-input-4033547823.py\u001b[0m in \u001b[0;36m<cell line: 0>\u001b[0;34m()\u001b[0m\n\u001b[0;32m----> 1\u001b[0;31m \u001b[0mgene1\u001b[0m \u001b[0;34m-\u001b[0m \u001b[0;36m2\u001b[0m\u001b[0;34m\u001b[0m\u001b[0;34m\u001b[0m\u001b[0m\n\u001b[0m",
            "\u001b[0;31mTypeError\u001b[0m: unsupported operand type(s) for -: 'str' and 'int'"
          ]
        }
      ]
    },
    {
      "cell_type": "code",
      "source": [
        "gene2 / 4"
      ],
      "metadata": {
        "id": "w2A6gTsjSikD",
        "colab": {
          "base_uri": "https://localhost:8080/",
          "height": 141
        },
        "outputId": "aa1b6054-883b-43b6-d84f-917e487adc75"
      },
      "execution_count": 448,
      "outputs": [
        {
          "output_type": "error",
          "ename": "TypeError",
          "evalue": "unsupported operand type(s) for /: 'str' and 'int'",
          "traceback": [
            "\u001b[0;31m---------------------------------------------------------------------------\u001b[0m",
            "\u001b[0;31mTypeError\u001b[0m                                 Traceback (most recent call last)",
            "\u001b[0;32m/tmp/ipython-input-1491624632.py\u001b[0m in \u001b[0;36m<cell line: 0>\u001b[0;34m()\u001b[0m\n\u001b[0;32m----> 1\u001b[0;31m \u001b[0mgene2\u001b[0m \u001b[0;34m/\u001b[0m \u001b[0;36m4\u001b[0m\u001b[0;34m\u001b[0m\u001b[0;34m\u001b[0m\u001b[0m\n\u001b[0m",
            "\u001b[0;31mTypeError\u001b[0m: unsupported operand type(s) for /: 'str' and 'int'"
          ]
        }
      ]
    },
    {
      "cell_type": "markdown",
      "source": [
        "## **Operadores Relacionais**\n",
        "\n",
        "Os operadores relacionais são usados para comparar dois valores. Os resultados dessas operações são sempre um valor booleano: True (verdadeiro) ou False (falso).\n",
        "\n",
        "Dentre os operadores relacionais, estão:\n",
        "- igual (`==`)\n",
        "- diferente (`!=`)\n",
        "- maior que (`>`)\n",
        "- menor que (`<`)\n",
        "- maior ou igual (`>=`)\n",
        "- menor ou igual (`<=`)"
      ],
      "metadata": {
        "id": "M00suIeQHcPP"
      }
    },
    {
      "cell_type": "code",
      "source": [
        "a = 1\n",
        "b = 2"
      ],
      "metadata": {
        "id": "Mjf5hZularHu"
      },
      "execution_count": 309,
      "outputs": []
    },
    {
      "cell_type": "code",
      "source": [
        "a == a"
      ],
      "metadata": {
        "colab": {
          "base_uri": "https://localhost:8080/"
        },
        "id": "G2AXLnhCx3Le",
        "outputId": "fca29508-1b4b-41c6-a9d9-3ac8e8d108f1"
      },
      "execution_count": 310,
      "outputs": [
        {
          "output_type": "execute_result",
          "data": {
            "text/plain": [
              "True"
            ]
          },
          "metadata": {},
          "execution_count": 310
        }
      ]
    },
    {
      "cell_type": "code",
      "source": [
        "a == b"
      ],
      "metadata": {
        "colab": {
          "base_uri": "https://localhost:8080/"
        },
        "id": "JqkbUhAox60v",
        "outputId": "de60ffe0-69cd-4088-de3d-1bab2f9348c3"
      },
      "execution_count": 311,
      "outputs": [
        {
          "output_type": "execute_result",
          "data": {
            "text/plain": [
              "False"
            ]
          },
          "metadata": {},
          "execution_count": 311
        }
      ]
    },
    {
      "cell_type": "code",
      "source": [
        "a > b"
      ],
      "metadata": {
        "colab": {
          "base_uri": "https://localhost:8080/"
        },
        "id": "VXFhykaCx8bY",
        "outputId": "53640e10-f9f8-4839-c231-48f743740c61"
      },
      "execution_count": 312,
      "outputs": [
        {
          "output_type": "execute_result",
          "data": {
            "text/plain": [
              "False"
            ]
          },
          "metadata": {},
          "execution_count": 312
        }
      ]
    },
    {
      "cell_type": "code",
      "source": [
        "a < b"
      ],
      "metadata": {
        "colab": {
          "base_uri": "https://localhost:8080/"
        },
        "id": "gVtucgJHx-In",
        "outputId": "e98da685-01dc-4e7f-b204-0f6fd0869be6"
      },
      "execution_count": 313,
      "outputs": [
        {
          "output_type": "execute_result",
          "data": {
            "text/plain": [
              "True"
            ]
          },
          "metadata": {},
          "execution_count": 313
        }
      ]
    },
    {
      "cell_type": "code",
      "source": [
        "a >= b"
      ],
      "metadata": {
        "colab": {
          "base_uri": "https://localhost:8080/"
        },
        "id": "crbP2M5kx_fb",
        "outputId": "f93e04f7-3e81-4e0a-ae4b-0902f2478430"
      },
      "execution_count": 314,
      "outputs": [
        {
          "output_type": "execute_result",
          "data": {
            "text/plain": [
              "False"
            ]
          },
          "metadata": {},
          "execution_count": 314
        }
      ]
    },
    {
      "cell_type": "code",
      "source": [
        "a <= b"
      ],
      "metadata": {
        "colab": {
          "base_uri": "https://localhost:8080/"
        },
        "id": "Md0sAKUjyBMP",
        "outputId": "1fa421c9-8f73-4fe9-aa4e-492197bc5567"
      },
      "execution_count": 315,
      "outputs": [
        {
          "output_type": "execute_result",
          "data": {
            "text/plain": [
              "True"
            ]
          },
          "metadata": {},
          "execution_count": 315
        }
      ]
    },
    {
      "cell_type": "markdown",
      "source": [
        "## **Operadores Lógicos**\n",
        "\n",
        "Os operadores lógicos são usados para combinar expressões booleanas. Eles são fundamentais para criar lógicas de controle em nossos programas (como em `if`).\n",
        "\n",
        "Sendo `and`, `or` e `not`."
      ],
      "metadata": {
        "id": "e5hVakREwnED"
      }
    },
    {
      "cell_type": "code",
      "source": [
        "expressao1 = (5 > 3)  # True\n",
        "expressao2 = (10 < 20) # True\n",
        "expressao3 = (8 == 7)  # False\n",
        "expressao4 = (11 in [1, 10, 100, 1000])  # False"
      ],
      "metadata": {
        "id": "eXBUFSFjVkPV"
      },
      "execution_count": 316,
      "outputs": []
    },
    {
      "cell_type": "code",
      "source": [
        "expressao1 and expressao2"
      ],
      "metadata": {
        "colab": {
          "base_uri": "https://localhost:8080/"
        },
        "id": "hqhTVIIX1Hfd",
        "outputId": "54137ab0-5c56-412e-e27c-82080e51b1e9"
      },
      "execution_count": 317,
      "outputs": [
        {
          "output_type": "execute_result",
          "data": {
            "text/plain": [
              "True"
            ]
          },
          "metadata": {},
          "execution_count": 317
        }
      ]
    },
    {
      "cell_type": "code",
      "source": [
        "expressao1 and expressao3"
      ],
      "metadata": {
        "colab": {
          "base_uri": "https://localhost:8080/"
        },
        "id": "_Enz-DH71LDh",
        "outputId": "2cb9878e-2b93-4929-a8ad-ac46f044b7ee"
      },
      "execution_count": 318,
      "outputs": [
        {
          "output_type": "execute_result",
          "data": {
            "text/plain": [
              "False"
            ]
          },
          "metadata": {},
          "execution_count": 318
        }
      ]
    },
    {
      "cell_type": "code",
      "source": [
        "expressao1 or expressao2"
      ],
      "metadata": {
        "colab": {
          "base_uri": "https://localhost:8080/"
        },
        "id": "f-ooAsgZ1MqN",
        "outputId": "1f741891-6cae-4e61-da14-6aefd12df696"
      },
      "execution_count": 319,
      "outputs": [
        {
          "output_type": "execute_result",
          "data": {
            "text/plain": [
              "True"
            ]
          },
          "metadata": {},
          "execution_count": 319
        }
      ]
    },
    {
      "cell_type": "code",
      "source": [
        "expressao3 or expressao4"
      ],
      "metadata": {
        "colab": {
          "base_uri": "https://localhost:8080/"
        },
        "id": "2glz5UZo1Ox8",
        "outputId": "dd91067b-d8d0-44b3-98dc-fbed1b16e137"
      },
      "execution_count": 320,
      "outputs": [
        {
          "output_type": "execute_result",
          "data": {
            "text/plain": [
              "False"
            ]
          },
          "metadata": {},
          "execution_count": 320
        }
      ]
    },
    {
      "cell_type": "code",
      "source": [
        "not True"
      ],
      "metadata": {
        "colab": {
          "base_uri": "https://localhost:8080/"
        },
        "id": "lITUu7hH1QzH",
        "outputId": "51893b6b-dce2-4692-a41e-d24fc3f60234"
      },
      "execution_count": 321,
      "outputs": [
        {
          "output_type": "execute_result",
          "data": {
            "text/plain": [
              "False"
            ]
          },
          "metadata": {},
          "execution_count": 321
        }
      ]
    },
    {
      "cell_type": "code",
      "source": [
        "not False"
      ],
      "metadata": {
        "colab": {
          "base_uri": "https://localhost:8080/"
        },
        "id": "sDxBUHbJ1SS_",
        "outputId": "ad4c92ba-4316-412e-aff4-04e3edc9d838"
      },
      "execution_count": 322,
      "outputs": [
        {
          "output_type": "execute_result",
          "data": {
            "text/plain": [
              "True"
            ]
          },
          "metadata": {},
          "execution_count": 322
        }
      ]
    },
    {
      "cell_type": "code",
      "source": [
        "not not True"
      ],
      "metadata": {
        "colab": {
          "base_uri": "https://localhost:8080/"
        },
        "id": "kdnx3ffO1TrV",
        "outputId": "aa521832-9cac-4551-fff0-b660363851fd"
      },
      "execution_count": 323,
      "outputs": [
        {
          "output_type": "execute_result",
          "data": {
            "text/plain": [
              "True"
            ]
          },
          "metadata": {},
          "execution_count": 323
        }
      ]
    },
    {
      "cell_type": "code",
      "source": [
        "not (5 > 10) # 5 > 10 é False, então not False é True"
      ],
      "metadata": {
        "colab": {
          "base_uri": "https://localhost:8080/"
        },
        "id": "HR8_vvTL1Vhw",
        "outputId": "023b26d4-e92b-406f-c9aa-85ac9ec3072d"
      },
      "execution_count": 324,
      "outputs": [
        {
          "output_type": "execute_result",
          "data": {
            "text/plain": [
              "True"
            ]
          },
          "metadata": {},
          "execution_count": 324
        }
      ]
    },
    {
      "cell_type": "markdown",
      "source": [
        "## **Operadores de Filiação**\n",
        "\n",
        " São usados para nos certificarmos se um ou mais valores estão presentes em um grupo de valores. Os resultados dessas operações são sempre um valor booleano: True (verdadeiro) ou False (falso).\n",
        "\n",
        " Podem ser:\n",
        " - `in` (presente no conjunto)\n",
        " - `not in` (não presente no conjunto)"
      ],
      "metadata": {
        "id": "aw20HdSEJ0Nd"
      }
    },
    {
      "cell_type": "code",
      "source": [
        "dna = [\"A\", \"T\", \"C\", \"G\"]"
      ],
      "metadata": {
        "id": "QL1dC14hkNr8"
      },
      "execution_count": 325,
      "outputs": []
    },
    {
      "cell_type": "code",
      "source": [
        "\"A\" in dna"
      ],
      "metadata": {
        "colab": {
          "base_uri": "https://localhost:8080/"
        },
        "id": "6CU8gc3GyNFH",
        "outputId": "697b4b79-3811-41a4-add2-904a4b303642"
      },
      "execution_count": 326,
      "outputs": [
        {
          "output_type": "execute_result",
          "data": {
            "text/plain": [
              "True"
            ]
          },
          "metadata": {},
          "execution_count": 326
        }
      ]
    },
    {
      "cell_type": "code",
      "source": [
        "\"U\" in dna"
      ],
      "metadata": {
        "colab": {
          "base_uri": "https://localhost:8080/"
        },
        "id": "sF5T_2jRyOik",
        "outputId": "a565a37d-c686-4353-c2dc-33823e375065"
      },
      "execution_count": 327,
      "outputs": [
        {
          "output_type": "execute_result",
          "data": {
            "text/plain": [
              "False"
            ]
          },
          "metadata": {},
          "execution_count": 327
        }
      ]
    },
    {
      "cell_type": "code",
      "source": [
        "\"G\" not in dna"
      ],
      "metadata": {
        "colab": {
          "base_uri": "https://localhost:8080/"
        },
        "id": "lxVpz0wTyPs0",
        "outputId": "ab2c0f04-efc1-460d-82a1-6a4eb89e92a7"
      },
      "execution_count": 328,
      "outputs": [
        {
          "output_type": "execute_result",
          "data": {
            "text/plain": [
              "False"
            ]
          },
          "metadata": {},
          "execution_count": 328
        }
      ]
    },
    {
      "cell_type": "markdown",
      "source": [
        "Operações de filiação não se limitam à listas, podendo ser também strings, dicionários, entre outros..."
      ],
      "metadata": {
        "id": "MkWrijF6pMvu"
      }
    },
    {
      "cell_type": "code",
      "source": [
        "sequencia = \"ATCGGCAAAATCGATCGAGGCTCATCC\"\n",
        "sub_seq1 = \"AGGCT\"\n",
        "sub_seq2 = \"GGTC\""
      ],
      "metadata": {
        "id": "wq7aoRxmoCde"
      },
      "execution_count": 329,
      "outputs": []
    },
    {
      "cell_type": "code",
      "source": [
        "print(sub_seq1, \"está presente em\", sequencia, \"?\")"
      ],
      "metadata": {
        "colab": {
          "base_uri": "https://localhost:8080/"
        },
        "id": "WnBKjszDzGFM",
        "outputId": "b7ec5a7c-17d9-4677-be0d-72d320394d9c"
      },
      "execution_count": 330,
      "outputs": [
        {
          "output_type": "stream",
          "name": "stdout",
          "text": [
            "AGGCT está presente em ATCGGCAAAATCGATCGAGGCTCATCC ?\n"
          ]
        }
      ]
    },
    {
      "cell_type": "code",
      "source": [
        "sub_seq1 in sequencia"
      ],
      "metadata": {
        "colab": {
          "base_uri": "https://localhost:8080/"
        },
        "id": "xzE-BNiUye7l",
        "outputId": "567c7626-3558-4b51-8182-70ee98256508"
      },
      "execution_count": 331,
      "outputs": [
        {
          "output_type": "execute_result",
          "data": {
            "text/plain": [
              "True"
            ]
          },
          "metadata": {},
          "execution_count": 331
        }
      ]
    },
    {
      "cell_type": "code",
      "source": [
        "print(sub_seq2, \"está presente em\", sequencia, \"?\")"
      ],
      "metadata": {
        "colab": {
          "base_uri": "https://localhost:8080/"
        },
        "id": "ucQK84olys8y",
        "outputId": "ecef3d0f-0567-4711-b34a-9858b06d1a05"
      },
      "execution_count": 332,
      "outputs": [
        {
          "output_type": "stream",
          "name": "stdout",
          "text": [
            "GGTC está presente em ATCGGCAAAATCGATCGAGGCTCATCC ?\n"
          ]
        }
      ]
    },
    {
      "cell_type": "code",
      "source": [
        "sub_seq2 in sequencia"
      ],
      "metadata": {
        "colab": {
          "base_uri": "https://localhost:8080/"
        },
        "id": "UhW0K5e7z1Sn",
        "outputId": "73606cbc-134e-4f81-d8b6-6b07c8d869b6"
      },
      "execution_count": 333,
      "outputs": [
        {
          "output_type": "execute_result",
          "data": {
            "text/plain": [
              "False"
            ]
          },
          "metadata": {},
          "execution_count": 333
        }
      ]
    },
    {
      "cell_type": "markdown",
      "source": [
        "## ========================================================================================================="
      ],
      "metadata": {
        "id": "ToXH8DCsyzPC"
      }
    },
    {
      "cell_type": "code",
      "source": [
        "canidae = {\n",
        "  \"Canina\": {\n",
        "      \"Canis\",\n",
        "      \"Cuon\",\n",
        "      \"Lycaon\"\n",
        "  },\n",
        "  \"Vulpini\": {\n",
        "      \"Nyctereutes\",\n",
        "      \"Otocyon\"\n",
        "  },\n",
        "  \"Urocyon\": {\n",
        "      \"Urocyon\",\n",
        "  }\n",
        "}"
      ],
      "metadata": {
        "id": "FlJZZigGyuxb"
      },
      "execution_count": 334,
      "outputs": []
    },
    {
      "cell_type": "code",
      "source": [
        "print(\"Canina é diretamente filho de Canidae?\")"
      ],
      "metadata": {
        "colab": {
          "base_uri": "https://localhost:8080/"
        },
        "id": "EngBCSP5y6Ni",
        "outputId": "88879f14-9616-4244-f5a0-c037dbb5e431"
      },
      "execution_count": 335,
      "outputs": [
        {
          "output_type": "stream",
          "name": "stdout",
          "text": [
            "Canina é diretamente filho de Canidae?\n"
          ]
        }
      ]
    },
    {
      "cell_type": "code",
      "source": [
        "\"Canina\" in canidae"
      ],
      "metadata": {
        "colab": {
          "base_uri": "https://localhost:8080/"
        },
        "id": "4iPEshzx0bB-",
        "outputId": "52f2edbe-62d7-464a-f015-f2adce4881e6"
      },
      "execution_count": 336,
      "outputs": [
        {
          "output_type": "execute_result",
          "data": {
            "text/plain": [
              "True"
            ]
          },
          "metadata": {},
          "execution_count": 336
        }
      ]
    },
    {
      "cell_type": "code",
      "source": [
        "print(\"Canis é diretamente filho de Canidae?\")"
      ],
      "metadata": {
        "colab": {
          "base_uri": "https://localhost:8080/"
        },
        "id": "z9Hz351Dy7rl",
        "outputId": "a0100892-9cf8-48e7-8017-ed3f70de32dd"
      },
      "execution_count": 337,
      "outputs": [
        {
          "output_type": "stream",
          "name": "stdout",
          "text": [
            "Canis é diretamente filho de Canidae?\n"
          ]
        }
      ]
    },
    {
      "cell_type": "code",
      "source": [
        "\"Canis\" in canidae"
      ],
      "metadata": {
        "colab": {
          "base_uri": "https://localhost:8080/"
        },
        "id": "hkeXJjuN0pW6",
        "outputId": "50d4ebb4-dfb3-4f41-fe66-18208e329930"
      },
      "execution_count": 338,
      "outputs": [
        {
          "output_type": "execute_result",
          "data": {
            "text/plain": [
              "False"
            ]
          },
          "metadata": {},
          "execution_count": 338
        }
      ]
    },
    {
      "cell_type": "code",
      "source": [
        "print(\"Canis é diretamente filho de Canina?\")"
      ],
      "metadata": {
        "colab": {
          "base_uri": "https://localhost:8080/"
        },
        "id": "RtL_ScCXy8sL",
        "outputId": "fe7b370d-cf08-4fa1-c5a2-6e5cab293ce1"
      },
      "execution_count": 339,
      "outputs": [
        {
          "output_type": "stream",
          "name": "stdout",
          "text": [
            "Canis é diretamente filho de Canina?\n"
          ]
        }
      ]
    },
    {
      "cell_type": "code",
      "source": [
        "\"Canis\" in canidae[\"Canina\"]"
      ],
      "metadata": {
        "colab": {
          "base_uri": "https://localhost:8080/"
        },
        "id": "CrqzlaPP0zMI",
        "outputId": "e699b933-0f5f-4793-8eee-c75872fc539c"
      },
      "execution_count": 340,
      "outputs": [
        {
          "output_type": "execute_result",
          "data": {
            "text/plain": [
              "True"
            ]
          },
          "metadata": {},
          "execution_count": 340
        }
      ]
    },
    {
      "cell_type": "markdown",
      "metadata": {
        "id": "3eea99ab"
      },
      "source": [
        "# **Estruturas condicionais: if, elif e else**\n",
        "\n",
        "Em Python, podemos fazer com que nossos programas tomem decisões com base em condições. Isso é feito usando as estruturas `if`, `elif` (else if) e `else`. Elas nos permitem executar blocos de código diferentes dependendo se uma expressão booleana é `True` ou `False`.\n",
        "\n",
        "**Observações importantes:**\n",
        "* Apenas o primeiro bloco cuja condição for verdadeira será executado.\n",
        "* Os blocos `elif` e `else` não são necessários para se utilizar o `if`, mas só podem ser usados após ele.\n",
        "* O bloco `else` não precisa de condição: ele é usado como “último caso”, sendo executado apenas se todas as condições anteriores (`if` e `elif`) forem falsas."
      ]
    },
    {
      "cell_type": "markdown",
      "metadata": {
        "id": "3b3fecd1"
      },
      "source": [
        "### Identação em Python\n",
        "\n",
        "Para a execução correta das estruturas condicionais, a identação (o espaço no início de uma linha de código) é muito importante. Ela ajuda a definir **blocos de código**.\n",
        "\n",
        "Quando você usa estruturas de controle, por exemplo, o código que faz parte dessa estrutura é colocado em um novo bloco e deve ser **identado**.\n",
        "\n",
        "Geralmente usamos 4 espaços ou um tab para cada nível de identação, contudo, não podemos misturar esses dois tipos de representação, devemos escolher um e seguir pelo código inteiro com o mesmo.\n",
        "\n",
        "Veja o exemplo da estrutura condicional novamente, com a identação destacada:"
      ]
    },
    {
      "cell_type": "markdown",
      "metadata": {
        "id": "bd10ff95"
      },
      "source": [
        "### `if`\n",
        "Inicia a estrutura condicional e testa a primeira condição. Se a expressão booleana após o `if` for verdadeira (`True`), o bloco de código indentado abaixo dele será executado."
      ]
    },
    {
      "cell_type": "code",
      "metadata": {
        "id": "55677330",
        "colab": {
          "base_uri": "https://localhost:8080/"
        },
        "outputId": "4355fe83-ab85-4403-c70e-9e45026e696b"
      },
      "source": [
        "temperatura = 28\n",
        "\n",
        "if temperatura > 25:\n",
        "    print(\"Está quente!\")"
      ],
      "execution_count": 341,
      "outputs": [
        {
          "output_type": "stream",
          "name": "stdout",
          "text": [
            "Está quente!\n"
          ]
        }
      ]
    },
    {
      "cell_type": "code",
      "source": [
        "temperatura = 25\n",
        "umidade = 60\n",
        "\n",
        "if temperatura > 30 and umidade > 70:\n",
        "    # Bloco de código indentado para a primeira condição 'if'\n",
        "    print(\"Condições ideais para crescimento de fungos.\")\n",
        "elif temperatura < 10 or umidade < 30:\n",
        "    # Bloco de código indentado para a condição 'elif'\n",
        "    print(\"Condições de estresse para a planta.\")\n",
        "else:\n",
        "    # Bloco de código indentado para a condição 'else'\n",
        "    print(\"Condições moderadas.\")"
      ],
      "metadata": {
        "id": "tn1qc5U-A3Ft",
        "colab": {
          "base_uri": "https://localhost:8080/"
        },
        "outputId": "affb0d22-e134-459e-c945-e7a766615cd1"
      },
      "execution_count": 342,
      "outputs": [
        {
          "output_type": "stream",
          "name": "stdout",
          "text": [
            "Condições moderadas.\n"
          ]
        }
      ]
    },
    {
      "cell_type": "markdown",
      "metadata": {
        "id": "670e91b8"
      },
      "source": [
        "### Exemplo: Classificação de Planta por Idade\n",
        "Vamos usar `if`, `elif` e `else` juntos para classificar uma planta com base na sua idade em semanas, como no exemplo anterior, mas agora com a estrutura separada."
      ]
    },
    {
      "cell_type": "code",
      "metadata": {
        "id": "70b94372",
        "colab": {
          "base_uri": "https://localhost:8080/"
        },
        "outputId": "d5546bec-e198-47e5-e72e-7ab529f98911"
      },
      "source": [
        "idade_planta = 7\n",
        "\n",
        "if idade_planta < 4:\n",
        "    print(\"A planta é uma muda.\")\n",
        "elif idade_planta < 10:\n",
        "    print(\"A planta está em crescimento vegetativo.\")\n",
        "else:\n",
        "    print(\"A planta está em fase reprodutiva ou senescência.\")"
      ],
      "execution_count": 343,
      "outputs": [
        {
          "output_type": "stream",
          "name": "stdout",
          "text": [
            "A planta está em crescimento vegetativo.\n"
          ]
        }
      ]
    },
    {
      "cell_type": "markdown",
      "metadata": {
        "id": "f740156e"
      },
      "source": [
        "### Exemplo Verificando e Classificando umidade e temperatura"
      ]
    },
    {
      "cell_type": "code",
      "metadata": {
        "id": "08b6fe27",
        "colab": {
          "base_uri": "https://localhost:8080/"
        },
        "outputId": "c83a708f-ec52-4534-bb44-1da0e9851c13"
      },
      "source": [
        "temperatura = 25\n",
        "umidade = 60\n",
        "\n",
        "if temperatura > 30 and umidade > 70:\n",
        "    print(\"Condições ideais para crescimento de fungos.\")\n",
        "elif temperatura < 10 or umidade < 30:\n",
        "    print(\"Condições de estresse para a planta.\")\n",
        "else:\n",
        "    print(\"Condições moderadas.\")"
      ],
      "execution_count": 344,
      "outputs": [
        {
          "output_type": "stream",
          "name": "stdout",
          "text": [
            "Condições moderadas.\n"
          ]
        }
      ]
    },
    {
      "cell_type": "markdown",
      "source": [
        "### Exemplo Verificando determinada sequência em outra"
      ],
      "metadata": {
        "id": "oT0wyHNxFPzO"
      }
    },
    {
      "cell_type": "code",
      "source": [
        "sequencia = \"ATCGGCAAAATCGATCGAGGCTCATCC\"\n",
        "sub_seq1 = \"AGGCT\"\n",
        "sub_seq2 = \"GGTC\"\n",
        "\n",
        "if sub_seq1 in sequencia:\n",
        "    print(f\"A sequência {sub_seq1} está presente na sequência principal.\")\n",
        "elif sub_seq2 in sequencia:\n",
        "    print(f\"A sequência {sub_seq2} está presente na sequência principal.\")"
      ],
      "metadata": {
        "colab": {
          "base_uri": "https://localhost:8080/"
        },
        "id": "sHbGfH9SFJo6",
        "outputId": "14537777-2caa-49e2-e2cf-3f36c22e3acb"
      },
      "execution_count": 345,
      "outputs": [
        {
          "output_type": "stream",
          "name": "stdout",
          "text": [
            "A sequência AGGCT está presente na sequência principal.\n"
          ]
        }
      ]
    },
    {
      "cell_type": "markdown",
      "metadata": {
        "id": "3bed0aad"
      },
      "source": [
        "### `else`\n",
        "É o bloco padrão, executado apenas se *todas* as condições anteriores (`if` e `elif`s) forem falsas (`False`). O `else` não tem condição associada."
      ]
    },
    {
      "cell_type": "code",
      "metadata": {
        "id": "3d99ca93",
        "colab": {
          "base_uri": "https://localhost:8080/"
        },
        "outputId": "9a5f60a6-5ed9-4710-b6e6-267178ead589"
      },
      "source": [
        "temperatura = 18\n",
        "\n",
        "if temperatura > 25:\n",
        "    print(\"Está quente!\")\n",
        "elif temperatura > 20:\n",
        "    print(\"Temperatura agradável.\")\n",
        "else:\n",
        "    print(\"Está frio.\")"
      ],
      "execution_count": 346,
      "outputs": [
        {
          "output_type": "stream",
          "name": "stdout",
          "text": [
            "Está frio.\n"
          ]
        }
      ]
    },
    {
      "cell_type": "markdown",
      "metadata": {
        "id": "e9f9e83e"
      },
      "source": [
        "### `elif`\n",
        "Usado para testar outras condições alternativas caso a condição do `if` (e de quaisquer `elif`s anteriores) seja falsa (`False`). Você pode ter quantos blocos `elif` precisar em sequência."
      ]
    },
    {
      "cell_type": "code",
      "metadata": {
        "colab": {
          "base_uri": "https://localhost:8080/"
        },
        "id": "db76e478",
        "outputId": "713100df-b119-4c78-9a0c-5b611a8fa870"
      },
      "source": [
        "temperatura = 15\n",
        "\n",
        "if temperatura > 25:\n",
        "    print(\"Está quente!\")\n",
        "elif temperatura <= 15:\n",
        "    print(\"Está esfriando\")"
      ],
      "execution_count": 347,
      "outputs": [
        {
          "output_type": "stream",
          "name": "stdout",
          "text": [
            "Está esfriando\n"
          ]
        }
      ]
    },
    {
      "cell_type": "markdown",
      "source": [
        "# **Hora de praticar!**\n",
        "\n",
        "Você é um pesquisador analisando características morfológicas de plantas (0 = ausente; 1 = presente). Seu objetivo é classificar cada planta em Briófitas, Pteridófitas, Gimnospermas ou Angiospermas usando dicionários, operadores relacionais, lógica booleana e estruturas condicionais para automatizar o processo.\n",
        "\n",
        "| Planta     | Flores | Frutos | Sementes | Vasos condutores | Raiz verdadeira |\n",
        "|------------|--------|--------|----------|------------------|-----------------|\n",
        "| Musgo      |    0   |    0   |     0    |         0        |         0       |\n",
        "| Samambaia  |    0   |    0   |     0    |         1        |         1       |\n",
        "| Pinheiro   |    0   |    0   |     1    |         1        |         1       |\n",
        "| Laranjeira |    1   |    1   |     1    |         1        |         1       |\n",
        "| Orquidea   |    1   |    1   |     1    |         1        |         1       |\n",
        "\n",
        "Aqui vão algumas regras para critérios mínimos:\n",
        "- Briófitas: não possuem vasos, raiz, sementes, flores ou frutos.\n",
        "- Pteridófitas: possuem vasos e raiz, mas não possuem sementes (logo, também não têm flores nem frutos).\n",
        "- Gimnospermas: possuem sementes, mas não possuem flores nem frutos.\n",
        "- Angiospermas: possuem todas as características analisadas.\n",
        "\n",
        "Tarefas:\n",
        "1. Com os dados coletados de cada planta, crie um dicionário (caracteristicas).\n",
        "2. Defina quatro “regras-alvo” (um dicionário para cada grupo filogenético).\n",
        "3. Usando operadores lógicos, classifique uma planta escolhida.\n",
        "4. Valide sua conclusão comparando o registro da planta com as regras-alvo (ex.: caracteristicas[\"Laranjeira\"] == angiospermas)."
      ],
      "metadata": {
        "id": "KwAQzVLHWyqh"
      }
    },
    {
      "cell_type": "code",
      "source": [
        "# 1) Tabela de características (0 = ausente, 1 = presente)\n",
        "caracteristicas = {\n",
        "    \"Musgo\": {\"vasos\":0, \"sementes\":0, \"flores\":0, \"frutos\":0, \"raiz\":0},\n",
        "    \"Samambaia\": {\"vasos\":1, \"sementes\":0, \"flores\":0, \"frutos\":0, \"raiz\":1},\n",
        "    \"Pinheiro\": {\"vasos\":1, \"sementes\":1, \"flores\":0, \"frutos\":0, \"raiz\":1},\n",
        "    \"Laranjeira\": {\"vasos\":1, \"sementes\":1, \"flores\":1, \"frutos\":1, \"raiz\":1},\n",
        "    \"Orquídea\": {\"vasos\":1, \"sementes\":1, \"flores\":1, \"frutos\":1, \"raiz\":1}\n",
        "}\n",
        "\n",
        "# 2) Regras dos grupos (booleans/dicionários-alvo)\n",
        "briofitas    = {\"vasos\":0, \"sementes\":0, \"flores\":0, \"frutos\":0, \"raiz\":0}\n",
        "pteridofitas = {\"vasos\":1, \"sementes\":0, \"flores\":0, \"frutos\":0, \"raiz\":1}\n",
        "gimnospermas = {\"vasos\":1, \"sementes\":1, \"flores\":0, \"frutos\":0, \"raiz\":1}\n",
        "angiospermas = {\"vasos\":1, \"sementes\":1, \"flores\":1, \"frutos\":1, \"raiz\":1}\n",
        "\n",
        "# 3) Função de classificação (outra caixinha de execução)\n",
        "c = caracteristicas[\"Laranjeira\"]\n",
        "if c[\"vasos\"] == 0:\n",
        "  print(\"Briófitas\")\n",
        "\n",
        "elif c[\"sementes\"] == 0:\n",
        "  print(\"Pteridófitas\")\n",
        "\n",
        "elif c[\"flores\"] == 0:\n",
        "  print(\"Gimnospermas\")\n",
        "\n",
        "else:\n",
        "  print(\"Angiosperma\")\n",
        "\n",
        "print(caracteristicas[\"Laranjeira\"] == briofitas)\n",
        "\n",
        "print(caracteristicas[\"Laranjeira\"] == angiospermas)\n"
      ],
      "metadata": {
        "colab": {
          "base_uri": "https://localhost:8080/"
        },
        "id": "bgkn71h_i4YC",
        "outputId": "b003b373-b813-4a36-ca9a-d282c5196b28"
      },
      "execution_count": 348,
      "outputs": [
        {
          "output_type": "stream",
          "name": "stdout",
          "text": [
            "Angiosperma\n",
            "False\n",
            "True\n"
          ]
        }
      ]
    },
    {
      "cell_type": "markdown",
      "source": [
        "Aqui, ainda podemos faze uma validação booleana: Reescreva o bloco de decisão de Pteridófitas exigindo explicitamente vasos==1 and raiz==1 and sementes==0. O resultado muda?"
      ],
      "metadata": {
        "id": "3gmuP6fvg8sD"
      }
    },
    {
      "cell_type": "code",
      "source": [
        "# 1) Tabela de características (0 = ausente, 1 = presente)\n",
        "caracteristicas = {\n",
        "    \"Musgo\": {\"vasos\":0, \"sementes\":0, \"flores\":0, \"frutos\":0, \"raiz\":0},\n",
        "    \"Samambaia\": {\"vasos\":1, \"sementes\":0, \"flores\":0, \"frutos\":0, \"raiz\":1},\n",
        "    \"Pinheiro\": {\"vasos\":1, \"sementes\":1, \"flores\":0, \"frutos\":0, \"raiz\":1},\n",
        "    \"Laranjeira\": {\"vasos\":1, \"sementes\":1, \"flores\":1, \"frutos\":1, \"raiz\":1},\n",
        "    \"Orquídea\": {\"vasos\":1, \"sementes\":1, \"flores\":1, \"frutos\":1, \"raiz\":1}\n",
        "}\n",
        "\n",
        "# 2) Regras dos grupos (booleans/dicionários-alvo)\n",
        "briofitas    = {\"vasos\":0, \"sementes\":0, \"flores\":0, \"frutos\":0, \"raiz\":0}\n",
        "pteridofitas = {\"vasos\":1, \"sementes\":0, \"flores\":0, \"frutos\":0, \"raiz\":1}\n",
        "gimnospermas = {\"vasos\":1, \"sementes\":1, \"flores\":0, \"frutos\":0, \"raiz\":1}\n",
        "angiospermas = {\"vasos\":1, \"sementes\":1, \"flores\":1, \"frutos\":1, \"raiz\":1}\n",
        "\n",
        "# 3) Função de classificação (outra caixinha de execução)\n",
        "c = caracteristicas[\"Samambaia\"]\n",
        "if c[\"vasos\"] == 0:\n",
        "  print(\"Briófitas\")\n",
        "\n",
        "elif c[\"sementes\"] == 0 and c[\"vasos\"] == 1 and c[\"raiz\"] == 1:\n",
        "  print(\"Pteridófitas\")\n",
        "\n",
        "elif c[\"flores\"] == 0:\n",
        "  print(\"Gimnospermas\")\n",
        "\n",
        "else:\n",
        "  print(\"Angiosperma\")\n",
        "\n",
        "print(caracteristicas[\"Samambaia\"] == briofitas)\n",
        "\n",
        "print(caracteristicas[\"Samambaia\"] == angiospermas)"
      ],
      "metadata": {
        "colab": {
          "base_uri": "https://localhost:8080/"
        },
        "id": "Wl8tYwBghBcQ",
        "outputId": "05e9adb4-98d4-4b0b-97ce-847b8772c712"
      },
      "execution_count": 349,
      "outputs": [
        {
          "output_type": "stream",
          "name": "stdout",
          "text": [
            "Pteridófitas\n",
            "False\n",
            "False\n"
          ]
        }
      ]
    },
    {
      "cell_type": "markdown",
      "source": [
        "**Algumas expansões desse exercício:**\n",
        "1. Generalização: Troque \"Laranjeira\" por outra planta e verifique a igualdade com cada regra-alvo.\n",
        "2. Filiação (`in`): Liste os nomes dos grupos em uma lista grupos e imprima uma mensagem caso classificacao in grupos seja verdadeira."
      ],
      "metadata": {
        "id": "uHr8higFiBya"
      }
    },
    {
      "cell_type": "markdown",
      "source": [
        "# **Bibliotecas em Python**\n",
        "\n",
        "Python possui uma vasta coleção de bibliotecas externos que estendem suas funcionalidades, facilitando muito o desenvolvimento e a análise de dados.\n",
        "\n",
        "## Por que usar biblioteca?\n",
        "\n",
        "Muitas operações comuns, especialmente em análise de dados e estatística, demandam cálculos complexos e manipulação eficiente de grandes volumes de dados. Ao invés de programar tudo do zero, utilizamos bibliotecas já desenvolvidos e testados pela comunidade. Isso traz várias vantagens:\n",
        "\n",
        "* Economia de tempo: Funções prontas executam tarefas que seriam demoradas para implementar manualmente.\n",
        "*  Confiabilidade: Bibliotecas populares passam por testes rigorosos e são amplamente utilizados, reduzindo chances de erros.\n",
        "* Simplicidade: Usar funções já implementadas deixa o código mais limpo e fácil de entender.\n",
        "* Eficiência: Bibliotecas como numpy são otimizados para performance, especialmente com grandes volumes de dados.\n",
        "\n",
        "Algumas bibliotecas são longas ou usadas com frequência no código, como numpy e pandas. Para facilitar a digitação e tornar o código mais legível, é comum importar essas bibliotecas com um apelido utilizando a palavra-chave `as`\n"
      ],
      "metadata": {
        "id": "FQfGoiCtZP3A"
      }
    },
    {
      "cell_type": "code",
      "source": [
        "import pandas as pd"
      ],
      "metadata": {
        "id": "GD46Q-ecZyqS"
      },
      "execution_count": 350,
      "outputs": []
    },
    {
      "cell_type": "markdown",
      "source": [
        "# **Biblioteca Pandas**\n",
        "\n",
        "O pandas é uma biblioteca para manipulação e análise de dados tabulares. Através dos **DataFrames**, podemos trabalhar facilmente com conjuntos de dados e realizar análises estatísticas de forma simples e organizada.\n",
        "\n",
        "### DataFrames\n",
        "É uma tabela de dados bidimensional (linhas e colunas), que pode ser criada a partir de dicionários, listas, arrays ou arquivos externos.\n",
        "\n",
        "Exemplo:\n",
        "\n",
        "| Especie | Altura_cm | Idade_sem | Folhas |\n",
        "|---------|-----------|-----------|--------|\n",
        "| Miilho  | 35        | 5         | 10     |\n",
        "| Trigo   | 120       | 12        | 24     |\n"
      ],
      "metadata": {
        "id": "VD-A3Ov3Z8BG"
      }
    },
    {
      "cell_type": "markdown",
      "source": [
        "### Importando o Pandas\n",
        "\n",
        "Para utilizar uma biblioteca em Python, precisamos importá-la, ou seja, tornar seus métodos e funções disponíveis no nosso código.\n"
      ],
      "metadata": {
        "id": "00swT2FZbCCs"
      }
    },
    {
      "cell_type": "code",
      "source": [
        "import pandas as pd #Aqui usamos pd como apelido para pandas, que é o padrão da comunidade Python.\n"
      ],
      "metadata": {
        "id": "WOxItfzbbFMl"
      },
      "execution_count": 351,
      "outputs": []
    },
    {
      "cell_type": "markdown",
      "source": [
        "###Criando DataFrames\n",
        "\n",
        "Podemos criar um DataFrame a partir de um dicionário, associando nomes de colunas a listas de valores:\n",
        "\n",
        "\n"
      ],
      "metadata": {
        "id": "PcwYB86NbKfe"
      }
    },
    {
      "cell_type": "code",
      "source": [
        "dados = {\n",
        "    \"Especie\": [\"Mimosa\", \"Trigo\", \"Soja\", \"Milho\"],\n",
        "    \"Altura_cm\": [35, 120, 80, 150],\n",
        "    \"Idade_sem\": [5, 12, 8, 15],\n",
        "    \"Folhas\": [10, 24, 18, 30]\n",
        "}\n",
        "\n"
      ],
      "metadata": {
        "id": "kRVdjBfobUz7"
      },
      "execution_count": 352,
      "outputs": []
    },
    {
      "cell_type": "markdown",
      "source": [
        "Para transformar o dicionário em um DataFrame, usamos a função `pd.Dataframe()`."
      ],
      "metadata": {
        "id": "4t00tZd0O5h3"
      }
    },
    {
      "cell_type": "code",
      "source": [
        "df = pd.DataFrame(dados)"
      ],
      "metadata": {
        "id": "mvsMIJOsbYk_"
      },
      "execution_count": 353,
      "outputs": []
    },
    {
      "cell_type": "code",
      "source": [
        "print(df)"
      ],
      "metadata": {
        "colab": {
          "base_uri": "https://localhost:8080/"
        },
        "id": "uB__QuunbZCb",
        "outputId": "84597928-24ea-4431-d90b-4c7640186472"
      },
      "execution_count": 354,
      "outputs": [
        {
          "output_type": "stream",
          "name": "stdout",
          "text": [
            "  Especie  Altura_cm  Idade_sem  Folhas\n",
            "0  Mimosa         35          5      10\n",
            "1   Trigo        120         12      24\n",
            "2    Soja         80          8      18\n",
            "3   Milho        150         15      30\n"
          ]
        }
      ]
    },
    {
      "cell_type": "markdown",
      "source": [
        "### **Agora é a sua vez!**\n",
        "\n",
        "Crie um DataFrame a partir de um dicionário e exiba suas principais informações."
      ],
      "metadata": {
        "id": "UkqqnkrWT9aG"
      }
    },
    {
      "cell_type": "markdown",
      "source": [
        "Também podemos criar um dataframe a partir de um arquivo como **csv** (\"comma-separated values\").\n",
        "No caso estaremos lendo um arquivo disponível online, mas o caminho pode ser para um arquivo local também"
      ],
      "metadata": {
        "id": "oQIcLU8tbV8V"
      }
    },
    {
      "cell_type": "code",
      "source": [
        "url = \"https://raw.githubusercontent.com/mwaskom/seaborn-data/master/iris.csv\"\n"
      ],
      "metadata": {
        "id": "t1bvw1YwdPDw"
      },
      "execution_count": 355,
      "outputs": []
    },
    {
      "cell_type": "code",
      "source": [
        "iris = pd.read_csv(url)\n"
      ],
      "metadata": {
        "id": "yX7b5U9wdT--"
      },
      "execution_count": 356,
      "outputs": []
    },
    {
      "cell_type": "markdown",
      "source": [
        "No caso do excel seria um caminho parecido, mas utilizando `pd.read_excel()`."
      ],
      "metadata": {
        "id": "spSFov3meTU4"
      }
    },
    {
      "cell_type": "markdown",
      "source": [
        "Para ter uma amostra do conteúdo do DataFrame, podemos usar o método `head()`"
      ],
      "metadata": {
        "id": "rVQxMDgpeCXx"
      }
    },
    {
      "cell_type": "code",
      "source": [
        "iris.head()"
      ],
      "metadata": {
        "colab": {
          "base_uri": "https://localhost:8080/",
          "height": 206
        },
        "id": "wjlolm22dU_H",
        "outputId": "27043ead-0b70-4899-89d1-2ba6a6a38a80"
      },
      "execution_count": 357,
      "outputs": [
        {
          "output_type": "execute_result",
          "data": {
            "text/plain": [
              "   sepal_length  sepal_width  petal_length  petal_width species\n",
              "0           5.1          3.5           1.4          0.2  setosa\n",
              "1           4.9          3.0           1.4          0.2  setosa\n",
              "2           4.7          3.2           1.3          0.2  setosa\n",
              "3           4.6          3.1           1.5          0.2  setosa\n",
              "4           5.0          3.6           1.4          0.2  setosa"
            ],
            "text/html": [
              "\n",
              "  <div id=\"df-915440ee-d9a2-4018-bcff-d9a2fff7968f\" class=\"colab-df-container\">\n",
              "    <div>\n",
              "<style scoped>\n",
              "    .dataframe tbody tr th:only-of-type {\n",
              "        vertical-align: middle;\n",
              "    }\n",
              "\n",
              "    .dataframe tbody tr th {\n",
              "        vertical-align: top;\n",
              "    }\n",
              "\n",
              "    .dataframe thead th {\n",
              "        text-align: right;\n",
              "    }\n",
              "</style>\n",
              "<table border=\"1\" class=\"dataframe\">\n",
              "  <thead>\n",
              "    <tr style=\"text-align: right;\">\n",
              "      <th></th>\n",
              "      <th>sepal_length</th>\n",
              "      <th>sepal_width</th>\n",
              "      <th>petal_length</th>\n",
              "      <th>petal_width</th>\n",
              "      <th>species</th>\n",
              "    </tr>\n",
              "  </thead>\n",
              "  <tbody>\n",
              "    <tr>\n",
              "      <th>0</th>\n",
              "      <td>5.1</td>\n",
              "      <td>3.5</td>\n",
              "      <td>1.4</td>\n",
              "      <td>0.2</td>\n",
              "      <td>setosa</td>\n",
              "    </tr>\n",
              "    <tr>\n",
              "      <th>1</th>\n",
              "      <td>4.9</td>\n",
              "      <td>3.0</td>\n",
              "      <td>1.4</td>\n",
              "      <td>0.2</td>\n",
              "      <td>setosa</td>\n",
              "    </tr>\n",
              "    <tr>\n",
              "      <th>2</th>\n",
              "      <td>4.7</td>\n",
              "      <td>3.2</td>\n",
              "      <td>1.3</td>\n",
              "      <td>0.2</td>\n",
              "      <td>setosa</td>\n",
              "    </tr>\n",
              "    <tr>\n",
              "      <th>3</th>\n",
              "      <td>4.6</td>\n",
              "      <td>3.1</td>\n",
              "      <td>1.5</td>\n",
              "      <td>0.2</td>\n",
              "      <td>setosa</td>\n",
              "    </tr>\n",
              "    <tr>\n",
              "      <th>4</th>\n",
              "      <td>5.0</td>\n",
              "      <td>3.6</td>\n",
              "      <td>1.4</td>\n",
              "      <td>0.2</td>\n",
              "      <td>setosa</td>\n",
              "    </tr>\n",
              "  </tbody>\n",
              "</table>\n",
              "</div>\n",
              "    <div class=\"colab-df-buttons\">\n",
              "\n",
              "  <div class=\"colab-df-container\">\n",
              "    <button class=\"colab-df-convert\" onclick=\"convertToInteractive('df-915440ee-d9a2-4018-bcff-d9a2fff7968f')\"\n",
              "            title=\"Convert this dataframe to an interactive table.\"\n",
              "            style=\"display:none;\">\n",
              "\n",
              "  <svg xmlns=\"http://www.w3.org/2000/svg\" height=\"24px\" viewBox=\"0 -960 960 960\">\n",
              "    <path d=\"M120-120v-720h720v720H120Zm60-500h600v-160H180v160Zm220 220h160v-160H400v160Zm0 220h160v-160H400v160ZM180-400h160v-160H180v160Zm440 0h160v-160H620v160ZM180-180h160v-160H180v160Zm440 0h160v-160H620v160Z\"/>\n",
              "  </svg>\n",
              "    </button>\n",
              "\n",
              "  <style>\n",
              "    .colab-df-container {\n",
              "      display:flex;\n",
              "      gap: 12px;\n",
              "    }\n",
              "\n",
              "    .colab-df-convert {\n",
              "      background-color: #E8F0FE;\n",
              "      border: none;\n",
              "      border-radius: 50%;\n",
              "      cursor: pointer;\n",
              "      display: none;\n",
              "      fill: #1967D2;\n",
              "      height: 32px;\n",
              "      padding: 0 0 0 0;\n",
              "      width: 32px;\n",
              "    }\n",
              "\n",
              "    .colab-df-convert:hover {\n",
              "      background-color: #E2EBFA;\n",
              "      box-shadow: 0px 1px 2px rgba(60, 64, 67, 0.3), 0px 1px 3px 1px rgba(60, 64, 67, 0.15);\n",
              "      fill: #174EA6;\n",
              "    }\n",
              "\n",
              "    .colab-df-buttons div {\n",
              "      margin-bottom: 4px;\n",
              "    }\n",
              "\n",
              "    [theme=dark] .colab-df-convert {\n",
              "      background-color: #3B4455;\n",
              "      fill: #D2E3FC;\n",
              "    }\n",
              "\n",
              "    [theme=dark] .colab-df-convert:hover {\n",
              "      background-color: #434B5C;\n",
              "      box-shadow: 0px 1px 3px 1px rgba(0, 0, 0, 0.15);\n",
              "      filter: drop-shadow(0px 1px 2px rgba(0, 0, 0, 0.3));\n",
              "      fill: #FFFFFF;\n",
              "    }\n",
              "  </style>\n",
              "\n",
              "    <script>\n",
              "      const buttonEl =\n",
              "        document.querySelector('#df-915440ee-d9a2-4018-bcff-d9a2fff7968f button.colab-df-convert');\n",
              "      buttonEl.style.display =\n",
              "        google.colab.kernel.accessAllowed ? 'block' : 'none';\n",
              "\n",
              "      async function convertToInteractive(key) {\n",
              "        const element = document.querySelector('#df-915440ee-d9a2-4018-bcff-d9a2fff7968f');\n",
              "        const dataTable =\n",
              "          await google.colab.kernel.invokeFunction('convertToInteractive',\n",
              "                                                    [key], {});\n",
              "        if (!dataTable) return;\n",
              "\n",
              "        const docLinkHtml = 'Like what you see? Visit the ' +\n",
              "          '<a target=\"_blank\" href=https://colab.research.google.com/notebooks/data_table.ipynb>data table notebook</a>'\n",
              "          + ' to learn more about interactive tables.';\n",
              "        element.innerHTML = '';\n",
              "        dataTable['output_type'] = 'display_data';\n",
              "        await google.colab.output.renderOutput(dataTable, element);\n",
              "        const docLink = document.createElement('div');\n",
              "        docLink.innerHTML = docLinkHtml;\n",
              "        element.appendChild(docLink);\n",
              "      }\n",
              "    </script>\n",
              "  </div>\n",
              "\n",
              "\n",
              "    <div id=\"df-075411a2-b709-4b46-a245-3745bf9d98dd\">\n",
              "      <button class=\"colab-df-quickchart\" onclick=\"quickchart('df-075411a2-b709-4b46-a245-3745bf9d98dd')\"\n",
              "                title=\"Suggest charts\"\n",
              "                style=\"display:none;\">\n",
              "\n",
              "<svg xmlns=\"http://www.w3.org/2000/svg\" height=\"24px\"viewBox=\"0 0 24 24\"\n",
              "     width=\"24px\">\n",
              "    <g>\n",
              "        <path d=\"M19 3H5c-1.1 0-2 .9-2 2v14c0 1.1.9 2 2 2h14c1.1 0 2-.9 2-2V5c0-1.1-.9-2-2-2zM9 17H7v-7h2v7zm4 0h-2V7h2v10zm4 0h-2v-4h2v4z\"/>\n",
              "    </g>\n",
              "</svg>\n",
              "      </button>\n",
              "\n",
              "<style>\n",
              "  .colab-df-quickchart {\n",
              "      --bg-color: #E8F0FE;\n",
              "      --fill-color: #1967D2;\n",
              "      --hover-bg-color: #E2EBFA;\n",
              "      --hover-fill-color: #174EA6;\n",
              "      --disabled-fill-color: #AAA;\n",
              "      --disabled-bg-color: #DDD;\n",
              "  }\n",
              "\n",
              "  [theme=dark] .colab-df-quickchart {\n",
              "      --bg-color: #3B4455;\n",
              "      --fill-color: #D2E3FC;\n",
              "      --hover-bg-color: #434B5C;\n",
              "      --hover-fill-color: #FFFFFF;\n",
              "      --disabled-bg-color: #3B4455;\n",
              "      --disabled-fill-color: #666;\n",
              "  }\n",
              "\n",
              "  .colab-df-quickchart {\n",
              "    background-color: var(--bg-color);\n",
              "    border: none;\n",
              "    border-radius: 50%;\n",
              "    cursor: pointer;\n",
              "    display: none;\n",
              "    fill: var(--fill-color);\n",
              "    height: 32px;\n",
              "    padding: 0;\n",
              "    width: 32px;\n",
              "  }\n",
              "\n",
              "  .colab-df-quickchart:hover {\n",
              "    background-color: var(--hover-bg-color);\n",
              "    box-shadow: 0 1px 2px rgba(60, 64, 67, 0.3), 0 1px 3px 1px rgba(60, 64, 67, 0.15);\n",
              "    fill: var(--button-hover-fill-color);\n",
              "  }\n",
              "\n",
              "  .colab-df-quickchart-complete:disabled,\n",
              "  .colab-df-quickchart-complete:disabled:hover {\n",
              "    background-color: var(--disabled-bg-color);\n",
              "    fill: var(--disabled-fill-color);\n",
              "    box-shadow: none;\n",
              "  }\n",
              "\n",
              "  .colab-df-spinner {\n",
              "    border: 2px solid var(--fill-color);\n",
              "    border-color: transparent;\n",
              "    border-bottom-color: var(--fill-color);\n",
              "    animation:\n",
              "      spin 1s steps(1) infinite;\n",
              "  }\n",
              "\n",
              "  @keyframes spin {\n",
              "    0% {\n",
              "      border-color: transparent;\n",
              "      border-bottom-color: var(--fill-color);\n",
              "      border-left-color: var(--fill-color);\n",
              "    }\n",
              "    20% {\n",
              "      border-color: transparent;\n",
              "      border-left-color: var(--fill-color);\n",
              "      border-top-color: var(--fill-color);\n",
              "    }\n",
              "    30% {\n",
              "      border-color: transparent;\n",
              "      border-left-color: var(--fill-color);\n",
              "      border-top-color: var(--fill-color);\n",
              "      border-right-color: var(--fill-color);\n",
              "    }\n",
              "    40% {\n",
              "      border-color: transparent;\n",
              "      border-right-color: var(--fill-color);\n",
              "      border-top-color: var(--fill-color);\n",
              "    }\n",
              "    60% {\n",
              "      border-color: transparent;\n",
              "      border-right-color: var(--fill-color);\n",
              "    }\n",
              "    80% {\n",
              "      border-color: transparent;\n",
              "      border-right-color: var(--fill-color);\n",
              "      border-bottom-color: var(--fill-color);\n",
              "    }\n",
              "    90% {\n",
              "      border-color: transparent;\n",
              "      border-bottom-color: var(--fill-color);\n",
              "    }\n",
              "  }\n",
              "</style>\n",
              "\n",
              "      <script>\n",
              "        async function quickchart(key) {\n",
              "          const quickchartButtonEl =\n",
              "            document.querySelector('#' + key + ' button');\n",
              "          quickchartButtonEl.disabled = true;  // To prevent multiple clicks.\n",
              "          quickchartButtonEl.classList.add('colab-df-spinner');\n",
              "          try {\n",
              "            const charts = await google.colab.kernel.invokeFunction(\n",
              "                'suggestCharts', [key], {});\n",
              "          } catch (error) {\n",
              "            console.error('Error during call to suggestCharts:', error);\n",
              "          }\n",
              "          quickchartButtonEl.classList.remove('colab-df-spinner');\n",
              "          quickchartButtonEl.classList.add('colab-df-quickchart-complete');\n",
              "        }\n",
              "        (() => {\n",
              "          let quickchartButtonEl =\n",
              "            document.querySelector('#df-075411a2-b709-4b46-a245-3745bf9d98dd button');\n",
              "          quickchartButtonEl.style.display =\n",
              "            google.colab.kernel.accessAllowed ? 'block' : 'none';\n",
              "        })();\n",
              "      </script>\n",
              "    </div>\n",
              "\n",
              "    </div>\n",
              "  </div>\n"
            ],
            "application/vnd.google.colaboratory.intrinsic+json": {
              "type": "dataframe",
              "variable_name": "iris",
              "summary": "{\n  \"name\": \"iris\",\n  \"rows\": 150,\n  \"fields\": [\n    {\n      \"column\": \"sepal_length\",\n      \"properties\": {\n        \"dtype\": \"number\",\n        \"std\": 0.8280661279778629,\n        \"min\": 4.3,\n        \"max\": 7.9,\n        \"num_unique_values\": 35,\n        \"samples\": [\n          6.2,\n          4.5,\n          5.6\n        ],\n        \"semantic_type\": \"\",\n        \"description\": \"\"\n      }\n    },\n    {\n      \"column\": \"sepal_width\",\n      \"properties\": {\n        \"dtype\": \"number\",\n        \"std\": 0.435866284936698,\n        \"min\": 2.0,\n        \"max\": 4.4,\n        \"num_unique_values\": 23,\n        \"samples\": [\n          2.3,\n          4.0,\n          3.5\n        ],\n        \"semantic_type\": \"\",\n        \"description\": \"\"\n      }\n    },\n    {\n      \"column\": \"petal_length\",\n      \"properties\": {\n        \"dtype\": \"number\",\n        \"std\": 1.7652982332594667,\n        \"min\": 1.0,\n        \"max\": 6.9,\n        \"num_unique_values\": 43,\n        \"samples\": [\n          6.7,\n          3.8,\n          3.7\n        ],\n        \"semantic_type\": \"\",\n        \"description\": \"\"\n      }\n    },\n    {\n      \"column\": \"petal_width\",\n      \"properties\": {\n        \"dtype\": \"number\",\n        \"std\": 0.7622376689603465,\n        \"min\": 0.1,\n        \"max\": 2.5,\n        \"num_unique_values\": 22,\n        \"samples\": [\n          0.2,\n          1.2,\n          1.3\n        ],\n        \"semantic_type\": \"\",\n        \"description\": \"\"\n      }\n    },\n    {\n      \"column\": \"species\",\n      \"properties\": {\n        \"dtype\": \"category\",\n        \"num_unique_values\": 3,\n        \"samples\": [\n          \"setosa\",\n          \"versicolor\",\n          \"virginica\"\n        ],\n        \"semantic_type\": \"\",\n        \"description\": \"\"\n      }\n    }\n  ]\n}"
            }
          },
          "metadata": {},
          "execution_count": 357
        }
      ]
    },
    {
      "cell_type": "markdown",
      "source": [
        "Outras funções úteis são:\n",
        "\n",
        "* `.shape` para número de linhas e colunas\n",
        "* `.info()` para informações sobre colunas e tipos de dados\n",
        "* `.describe()` para estatísticas básicas (média, desvio padrão, mínimo, máximo)\n",
        "* `.columns` para nomes das colunas"
      ],
      "metadata": {
        "id": "uOYEIjv4e5zS"
      }
    },
    {
      "cell_type": "code",
      "source": [],
      "metadata": {
        "id": "XrwnNpXdtIyJ"
      },
      "execution_count": 357,
      "outputs": []
    },
    {
      "cell_type": "code",
      "source": [
        "iris.shape"
      ],
      "metadata": {
        "colab": {
          "base_uri": "https://localhost:8080/"
        },
        "id": "7X_IYjgJfRCy",
        "outputId": "fed33890-30c6-4547-fbdc-3fc943f1d248"
      },
      "execution_count": 358,
      "outputs": [
        {
          "output_type": "execute_result",
          "data": {
            "text/plain": [
              "(150, 5)"
            ]
          },
          "metadata": {},
          "execution_count": 358
        }
      ]
    },
    {
      "cell_type": "code",
      "source": [
        "iris.info()"
      ],
      "metadata": {
        "colab": {
          "base_uri": "https://localhost:8080/"
        },
        "id": "NwMISlpUfUYk",
        "outputId": "9e47342c-2c21-4128-da6a-825bd8879ac1"
      },
      "execution_count": 359,
      "outputs": [
        {
          "output_type": "stream",
          "name": "stdout",
          "text": [
            "<class 'pandas.core.frame.DataFrame'>\n",
            "RangeIndex: 150 entries, 0 to 149\n",
            "Data columns (total 5 columns):\n",
            " #   Column        Non-Null Count  Dtype  \n",
            "---  ------        --------------  -----  \n",
            " 0   sepal_length  150 non-null    float64\n",
            " 1   sepal_width   150 non-null    float64\n",
            " 2   petal_length  150 non-null    float64\n",
            " 3   petal_width   150 non-null    float64\n",
            " 4   species       150 non-null    object \n",
            "dtypes: float64(4), object(1)\n",
            "memory usage: 6.0+ KB\n"
          ]
        }
      ]
    },
    {
      "cell_type": "code",
      "source": [
        "iris.describe()"
      ],
      "metadata": {
        "colab": {
          "base_uri": "https://localhost:8080/",
          "height": 300
        },
        "id": "IQ32h9frfW_S",
        "outputId": "551f75fa-9d01-43c0-f151-df1f58e06c80"
      },
      "execution_count": 360,
      "outputs": [
        {
          "output_type": "execute_result",
          "data": {
            "text/plain": [
              "       sepal_length  sepal_width  petal_length  petal_width\n",
              "count    150.000000   150.000000    150.000000   150.000000\n",
              "mean       5.843333     3.057333      3.758000     1.199333\n",
              "std        0.828066     0.435866      1.765298     0.762238\n",
              "min        4.300000     2.000000      1.000000     0.100000\n",
              "25%        5.100000     2.800000      1.600000     0.300000\n",
              "50%        5.800000     3.000000      4.350000     1.300000\n",
              "75%        6.400000     3.300000      5.100000     1.800000\n",
              "max        7.900000     4.400000      6.900000     2.500000"
            ],
            "text/html": [
              "\n",
              "  <div id=\"df-6ca6d985-c28a-4105-84cc-704d2c27ca11\" class=\"colab-df-container\">\n",
              "    <div>\n",
              "<style scoped>\n",
              "    .dataframe tbody tr th:only-of-type {\n",
              "        vertical-align: middle;\n",
              "    }\n",
              "\n",
              "    .dataframe tbody tr th {\n",
              "        vertical-align: top;\n",
              "    }\n",
              "\n",
              "    .dataframe thead th {\n",
              "        text-align: right;\n",
              "    }\n",
              "</style>\n",
              "<table border=\"1\" class=\"dataframe\">\n",
              "  <thead>\n",
              "    <tr style=\"text-align: right;\">\n",
              "      <th></th>\n",
              "      <th>sepal_length</th>\n",
              "      <th>sepal_width</th>\n",
              "      <th>petal_length</th>\n",
              "      <th>petal_width</th>\n",
              "    </tr>\n",
              "  </thead>\n",
              "  <tbody>\n",
              "    <tr>\n",
              "      <th>count</th>\n",
              "      <td>150.000000</td>\n",
              "      <td>150.000000</td>\n",
              "      <td>150.000000</td>\n",
              "      <td>150.000000</td>\n",
              "    </tr>\n",
              "    <tr>\n",
              "      <th>mean</th>\n",
              "      <td>5.843333</td>\n",
              "      <td>3.057333</td>\n",
              "      <td>3.758000</td>\n",
              "      <td>1.199333</td>\n",
              "    </tr>\n",
              "    <tr>\n",
              "      <th>std</th>\n",
              "      <td>0.828066</td>\n",
              "      <td>0.435866</td>\n",
              "      <td>1.765298</td>\n",
              "      <td>0.762238</td>\n",
              "    </tr>\n",
              "    <tr>\n",
              "      <th>min</th>\n",
              "      <td>4.300000</td>\n",
              "      <td>2.000000</td>\n",
              "      <td>1.000000</td>\n",
              "      <td>0.100000</td>\n",
              "    </tr>\n",
              "    <tr>\n",
              "      <th>25%</th>\n",
              "      <td>5.100000</td>\n",
              "      <td>2.800000</td>\n",
              "      <td>1.600000</td>\n",
              "      <td>0.300000</td>\n",
              "    </tr>\n",
              "    <tr>\n",
              "      <th>50%</th>\n",
              "      <td>5.800000</td>\n",
              "      <td>3.000000</td>\n",
              "      <td>4.350000</td>\n",
              "      <td>1.300000</td>\n",
              "    </tr>\n",
              "    <tr>\n",
              "      <th>75%</th>\n",
              "      <td>6.400000</td>\n",
              "      <td>3.300000</td>\n",
              "      <td>5.100000</td>\n",
              "      <td>1.800000</td>\n",
              "    </tr>\n",
              "    <tr>\n",
              "      <th>max</th>\n",
              "      <td>7.900000</td>\n",
              "      <td>4.400000</td>\n",
              "      <td>6.900000</td>\n",
              "      <td>2.500000</td>\n",
              "    </tr>\n",
              "  </tbody>\n",
              "</table>\n",
              "</div>\n",
              "    <div class=\"colab-df-buttons\">\n",
              "\n",
              "  <div class=\"colab-df-container\">\n",
              "    <button class=\"colab-df-convert\" onclick=\"convertToInteractive('df-6ca6d985-c28a-4105-84cc-704d2c27ca11')\"\n",
              "            title=\"Convert this dataframe to an interactive table.\"\n",
              "            style=\"display:none;\">\n",
              "\n",
              "  <svg xmlns=\"http://www.w3.org/2000/svg\" height=\"24px\" viewBox=\"0 -960 960 960\">\n",
              "    <path d=\"M120-120v-720h720v720H120Zm60-500h600v-160H180v160Zm220 220h160v-160H400v160Zm0 220h160v-160H400v160ZM180-400h160v-160H180v160Zm440 0h160v-160H620v160ZM180-180h160v-160H180v160Zm440 0h160v-160H620v160Z\"/>\n",
              "  </svg>\n",
              "    </button>\n",
              "\n",
              "  <style>\n",
              "    .colab-df-container {\n",
              "      display:flex;\n",
              "      gap: 12px;\n",
              "    }\n",
              "\n",
              "    .colab-df-convert {\n",
              "      background-color: #E8F0FE;\n",
              "      border: none;\n",
              "      border-radius: 50%;\n",
              "      cursor: pointer;\n",
              "      display: none;\n",
              "      fill: #1967D2;\n",
              "      height: 32px;\n",
              "      padding: 0 0 0 0;\n",
              "      width: 32px;\n",
              "    }\n",
              "\n",
              "    .colab-df-convert:hover {\n",
              "      background-color: #E2EBFA;\n",
              "      box-shadow: 0px 1px 2px rgba(60, 64, 67, 0.3), 0px 1px 3px 1px rgba(60, 64, 67, 0.15);\n",
              "      fill: #174EA6;\n",
              "    }\n",
              "\n",
              "    .colab-df-buttons div {\n",
              "      margin-bottom: 4px;\n",
              "    }\n",
              "\n",
              "    [theme=dark] .colab-df-convert {\n",
              "      background-color: #3B4455;\n",
              "      fill: #D2E3FC;\n",
              "    }\n",
              "\n",
              "    [theme=dark] .colab-df-convert:hover {\n",
              "      background-color: #434B5C;\n",
              "      box-shadow: 0px 1px 3px 1px rgba(0, 0, 0, 0.15);\n",
              "      filter: drop-shadow(0px 1px 2px rgba(0, 0, 0, 0.3));\n",
              "      fill: #FFFFFF;\n",
              "    }\n",
              "  </style>\n",
              "\n",
              "    <script>\n",
              "      const buttonEl =\n",
              "        document.querySelector('#df-6ca6d985-c28a-4105-84cc-704d2c27ca11 button.colab-df-convert');\n",
              "      buttonEl.style.display =\n",
              "        google.colab.kernel.accessAllowed ? 'block' : 'none';\n",
              "\n",
              "      async function convertToInteractive(key) {\n",
              "        const element = document.querySelector('#df-6ca6d985-c28a-4105-84cc-704d2c27ca11');\n",
              "        const dataTable =\n",
              "          await google.colab.kernel.invokeFunction('convertToInteractive',\n",
              "                                                    [key], {});\n",
              "        if (!dataTable) return;\n",
              "\n",
              "        const docLinkHtml = 'Like what you see? Visit the ' +\n",
              "          '<a target=\"_blank\" href=https://colab.research.google.com/notebooks/data_table.ipynb>data table notebook</a>'\n",
              "          + ' to learn more about interactive tables.';\n",
              "        element.innerHTML = '';\n",
              "        dataTable['output_type'] = 'display_data';\n",
              "        await google.colab.output.renderOutput(dataTable, element);\n",
              "        const docLink = document.createElement('div');\n",
              "        docLink.innerHTML = docLinkHtml;\n",
              "        element.appendChild(docLink);\n",
              "      }\n",
              "    </script>\n",
              "  </div>\n",
              "\n",
              "\n",
              "    <div id=\"df-58ee905e-69fc-4be2-9de1-4dad61893805\">\n",
              "      <button class=\"colab-df-quickchart\" onclick=\"quickchart('df-58ee905e-69fc-4be2-9de1-4dad61893805')\"\n",
              "                title=\"Suggest charts\"\n",
              "                style=\"display:none;\">\n",
              "\n",
              "<svg xmlns=\"http://www.w3.org/2000/svg\" height=\"24px\"viewBox=\"0 0 24 24\"\n",
              "     width=\"24px\">\n",
              "    <g>\n",
              "        <path d=\"M19 3H5c-1.1 0-2 .9-2 2v14c0 1.1.9 2 2 2h14c1.1 0 2-.9 2-2V5c0-1.1-.9-2-2-2zM9 17H7v-7h2v7zm4 0h-2V7h2v10zm4 0h-2v-4h2v4z\"/>\n",
              "    </g>\n",
              "</svg>\n",
              "      </button>\n",
              "\n",
              "<style>\n",
              "  .colab-df-quickchart {\n",
              "      --bg-color: #E8F0FE;\n",
              "      --fill-color: #1967D2;\n",
              "      --hover-bg-color: #E2EBFA;\n",
              "      --hover-fill-color: #174EA6;\n",
              "      --disabled-fill-color: #AAA;\n",
              "      --disabled-bg-color: #DDD;\n",
              "  }\n",
              "\n",
              "  [theme=dark] .colab-df-quickchart {\n",
              "      --bg-color: #3B4455;\n",
              "      --fill-color: #D2E3FC;\n",
              "      --hover-bg-color: #434B5C;\n",
              "      --hover-fill-color: #FFFFFF;\n",
              "      --disabled-bg-color: #3B4455;\n",
              "      --disabled-fill-color: #666;\n",
              "  }\n",
              "\n",
              "  .colab-df-quickchart {\n",
              "    background-color: var(--bg-color);\n",
              "    border: none;\n",
              "    border-radius: 50%;\n",
              "    cursor: pointer;\n",
              "    display: none;\n",
              "    fill: var(--fill-color);\n",
              "    height: 32px;\n",
              "    padding: 0;\n",
              "    width: 32px;\n",
              "  }\n",
              "\n",
              "  .colab-df-quickchart:hover {\n",
              "    background-color: var(--hover-bg-color);\n",
              "    box-shadow: 0 1px 2px rgba(60, 64, 67, 0.3), 0 1px 3px 1px rgba(60, 64, 67, 0.15);\n",
              "    fill: var(--button-hover-fill-color);\n",
              "  }\n",
              "\n",
              "  .colab-df-quickchart-complete:disabled,\n",
              "  .colab-df-quickchart-complete:disabled:hover {\n",
              "    background-color: var(--disabled-bg-color);\n",
              "    fill: var(--disabled-fill-color);\n",
              "    box-shadow: none;\n",
              "  }\n",
              "\n",
              "  .colab-df-spinner {\n",
              "    border: 2px solid var(--fill-color);\n",
              "    border-color: transparent;\n",
              "    border-bottom-color: var(--fill-color);\n",
              "    animation:\n",
              "      spin 1s steps(1) infinite;\n",
              "  }\n",
              "\n",
              "  @keyframes spin {\n",
              "    0% {\n",
              "      border-color: transparent;\n",
              "      border-bottom-color: var(--fill-color);\n",
              "      border-left-color: var(--fill-color);\n",
              "    }\n",
              "    20% {\n",
              "      border-color: transparent;\n",
              "      border-left-color: var(--fill-color);\n",
              "      border-top-color: var(--fill-color);\n",
              "    }\n",
              "    30% {\n",
              "      border-color: transparent;\n",
              "      border-left-color: var(--fill-color);\n",
              "      border-top-color: var(--fill-color);\n",
              "      border-right-color: var(--fill-color);\n",
              "    }\n",
              "    40% {\n",
              "      border-color: transparent;\n",
              "      border-right-color: var(--fill-color);\n",
              "      border-top-color: var(--fill-color);\n",
              "    }\n",
              "    60% {\n",
              "      border-color: transparent;\n",
              "      border-right-color: var(--fill-color);\n",
              "    }\n",
              "    80% {\n",
              "      border-color: transparent;\n",
              "      border-right-color: var(--fill-color);\n",
              "      border-bottom-color: var(--fill-color);\n",
              "    }\n",
              "    90% {\n",
              "      border-color: transparent;\n",
              "      border-bottom-color: var(--fill-color);\n",
              "    }\n",
              "  }\n",
              "</style>\n",
              "\n",
              "      <script>\n",
              "        async function quickchart(key) {\n",
              "          const quickchartButtonEl =\n",
              "            document.querySelector('#' + key + ' button');\n",
              "          quickchartButtonEl.disabled = true;  // To prevent multiple clicks.\n",
              "          quickchartButtonEl.classList.add('colab-df-spinner');\n",
              "          try {\n",
              "            const charts = await google.colab.kernel.invokeFunction(\n",
              "                'suggestCharts', [key], {});\n",
              "          } catch (error) {\n",
              "            console.error('Error during call to suggestCharts:', error);\n",
              "          }\n",
              "          quickchartButtonEl.classList.remove('colab-df-spinner');\n",
              "          quickchartButtonEl.classList.add('colab-df-quickchart-complete');\n",
              "        }\n",
              "        (() => {\n",
              "          let quickchartButtonEl =\n",
              "            document.querySelector('#df-58ee905e-69fc-4be2-9de1-4dad61893805 button');\n",
              "          quickchartButtonEl.style.display =\n",
              "            google.colab.kernel.accessAllowed ? 'block' : 'none';\n",
              "        })();\n",
              "      </script>\n",
              "    </div>\n",
              "\n",
              "    </div>\n",
              "  </div>\n"
            ],
            "application/vnd.google.colaboratory.intrinsic+json": {
              "type": "dataframe",
              "summary": "{\n  \"name\": \"iris\",\n  \"rows\": 8,\n  \"fields\": [\n    {\n      \"column\": \"sepal_length\",\n      \"properties\": {\n        \"dtype\": \"number\",\n        \"std\": 51.24711349471842,\n        \"min\": 0.8280661279778629,\n        \"max\": 150.0,\n        \"num_unique_values\": 8,\n        \"samples\": [\n          5.843333333333334,\n          5.8,\n          150.0\n        ],\n        \"semantic_type\": \"\",\n        \"description\": \"\"\n      }\n    },\n    {\n      \"column\": \"sepal_width\",\n      \"properties\": {\n        \"dtype\": \"number\",\n        \"std\": 52.08617800869866,\n        \"min\": 0.435866284936698,\n        \"max\": 150.0,\n        \"num_unique_values\": 8,\n        \"samples\": [\n          3.0573333333333337,\n          3.0,\n          150.0\n        ],\n        \"semantic_type\": \"\",\n        \"description\": \"\"\n      }\n    },\n    {\n      \"column\": \"petal_length\",\n      \"properties\": {\n        \"dtype\": \"number\",\n        \"std\": 51.83521261418364,\n        \"min\": 1.0,\n        \"max\": 150.0,\n        \"num_unique_values\": 8,\n        \"samples\": [\n          3.7580000000000005,\n          4.35,\n          150.0\n        ],\n        \"semantic_type\": \"\",\n        \"description\": \"\"\n      }\n    },\n    {\n      \"column\": \"petal_width\",\n      \"properties\": {\n        \"dtype\": \"number\",\n        \"std\": 52.636648242617504,\n        \"min\": 0.1,\n        \"max\": 150.0,\n        \"num_unique_values\": 8,\n        \"samples\": [\n          1.1993333333333336,\n          1.3,\n          150.0\n        ],\n        \"semantic_type\": \"\",\n        \"description\": \"\"\n      }\n    }\n  ]\n}"
            }
          },
          "metadata": {},
          "execution_count": 360
        }
      ]
    },
    {
      "cell_type": "code",
      "source": [
        "iris.columns"
      ],
      "metadata": {
        "colab": {
          "base_uri": "https://localhost:8080/"
        },
        "id": "ZX0LAMlCfZCl",
        "outputId": "f8d657e0-a735-4f9e-c0ec-ac126e22ce82"
      },
      "execution_count": 361,
      "outputs": [
        {
          "output_type": "execute_result",
          "data": {
            "text/plain": [
              "Index(['sepal_length', 'sepal_width', 'petal_length', 'petal_width',\n",
              "       'species'],\n",
              "      dtype='object')"
            ]
          },
          "metadata": {},
          "execution_count": 361
        }
      ]
    },
    {
      "cell_type": "markdown",
      "source": [
        "### Selecionando dados\n",
        "\n",
        "Podemos acessar colunas de um DataFrame escrevendo o **nome do DataFrame** seguido do nome da coluna entre colchete."
      ],
      "metadata": {
        "id": "A6x39QFzgiG5"
      }
    },
    {
      "cell_type": "code",
      "source": [
        "# Selecionar uma coluna\n",
        "iris[\"species\"]\n"
      ],
      "metadata": {
        "colab": {
          "base_uri": "https://localhost:8080/",
          "height": 458
        },
        "id": "wErt8xWrgm0z",
        "outputId": "1a292506-92ca-4855-def8-e09d40e4b6dd"
      },
      "execution_count": 362,
      "outputs": [
        {
          "output_type": "execute_result",
          "data": {
            "text/plain": [
              "0         setosa\n",
              "1         setosa\n",
              "2         setosa\n",
              "3         setosa\n",
              "4         setosa\n",
              "         ...    \n",
              "145    virginica\n",
              "146    virginica\n",
              "147    virginica\n",
              "148    virginica\n",
              "149    virginica\n",
              "Name: species, Length: 150, dtype: object"
            ],
            "text/html": [
              "<div>\n",
              "<style scoped>\n",
              "    .dataframe tbody tr th:only-of-type {\n",
              "        vertical-align: middle;\n",
              "    }\n",
              "\n",
              "    .dataframe tbody tr th {\n",
              "        vertical-align: top;\n",
              "    }\n",
              "\n",
              "    .dataframe thead th {\n",
              "        text-align: right;\n",
              "    }\n",
              "</style>\n",
              "<table border=\"1\" class=\"dataframe\">\n",
              "  <thead>\n",
              "    <tr style=\"text-align: right;\">\n",
              "      <th></th>\n",
              "      <th>species</th>\n",
              "    </tr>\n",
              "  </thead>\n",
              "  <tbody>\n",
              "    <tr>\n",
              "      <th>0</th>\n",
              "      <td>setosa</td>\n",
              "    </tr>\n",
              "    <tr>\n",
              "      <th>1</th>\n",
              "      <td>setosa</td>\n",
              "    </tr>\n",
              "    <tr>\n",
              "      <th>2</th>\n",
              "      <td>setosa</td>\n",
              "    </tr>\n",
              "    <tr>\n",
              "      <th>3</th>\n",
              "      <td>setosa</td>\n",
              "    </tr>\n",
              "    <tr>\n",
              "      <th>4</th>\n",
              "      <td>setosa</td>\n",
              "    </tr>\n",
              "    <tr>\n",
              "      <th>...</th>\n",
              "      <td>...</td>\n",
              "    </tr>\n",
              "    <tr>\n",
              "      <th>145</th>\n",
              "      <td>virginica</td>\n",
              "    </tr>\n",
              "    <tr>\n",
              "      <th>146</th>\n",
              "      <td>virginica</td>\n",
              "    </tr>\n",
              "    <tr>\n",
              "      <th>147</th>\n",
              "      <td>virginica</td>\n",
              "    </tr>\n",
              "    <tr>\n",
              "      <th>148</th>\n",
              "      <td>virginica</td>\n",
              "    </tr>\n",
              "    <tr>\n",
              "      <th>149</th>\n",
              "      <td>virginica</td>\n",
              "    </tr>\n",
              "  </tbody>\n",
              "</table>\n",
              "<p>150 rows × 1 columns</p>\n",
              "</div><br><label><b>dtype:</b> object</label>"
            ]
          },
          "metadata": {},
          "execution_count": 362
        }
      ]
    },
    {
      "cell_type": "code",
      "source": [
        "# Selecionar várias colunas ao mesmo tempo\n",
        "iris[[\"sepal_length\", \"species\"]]"
      ],
      "metadata": {
        "colab": {
          "base_uri": "https://localhost:8080/",
          "height": 424
        },
        "id": "VDpHV-kfgsj5",
        "outputId": "791fe5d2-eeaf-4a1d-ece1-e91e0255b66a"
      },
      "execution_count": 363,
      "outputs": [
        {
          "output_type": "execute_result",
          "data": {
            "text/plain": [
              "     sepal_length    species\n",
              "0             5.1     setosa\n",
              "1             4.9     setosa\n",
              "2             4.7     setosa\n",
              "3             4.6     setosa\n",
              "4             5.0     setosa\n",
              "..            ...        ...\n",
              "145           6.7  virginica\n",
              "146           6.3  virginica\n",
              "147           6.5  virginica\n",
              "148           6.2  virginica\n",
              "149           5.9  virginica\n",
              "\n",
              "[150 rows x 2 columns]"
            ],
            "text/html": [
              "\n",
              "  <div id=\"df-42385d91-3138-41b6-9f52-7d0f1d89ebea\" class=\"colab-df-container\">\n",
              "    <div>\n",
              "<style scoped>\n",
              "    .dataframe tbody tr th:only-of-type {\n",
              "        vertical-align: middle;\n",
              "    }\n",
              "\n",
              "    .dataframe tbody tr th {\n",
              "        vertical-align: top;\n",
              "    }\n",
              "\n",
              "    .dataframe thead th {\n",
              "        text-align: right;\n",
              "    }\n",
              "</style>\n",
              "<table border=\"1\" class=\"dataframe\">\n",
              "  <thead>\n",
              "    <tr style=\"text-align: right;\">\n",
              "      <th></th>\n",
              "      <th>sepal_length</th>\n",
              "      <th>species</th>\n",
              "    </tr>\n",
              "  </thead>\n",
              "  <tbody>\n",
              "    <tr>\n",
              "      <th>0</th>\n",
              "      <td>5.1</td>\n",
              "      <td>setosa</td>\n",
              "    </tr>\n",
              "    <tr>\n",
              "      <th>1</th>\n",
              "      <td>4.9</td>\n",
              "      <td>setosa</td>\n",
              "    </tr>\n",
              "    <tr>\n",
              "      <th>2</th>\n",
              "      <td>4.7</td>\n",
              "      <td>setosa</td>\n",
              "    </tr>\n",
              "    <tr>\n",
              "      <th>3</th>\n",
              "      <td>4.6</td>\n",
              "      <td>setosa</td>\n",
              "    </tr>\n",
              "    <tr>\n",
              "      <th>4</th>\n",
              "      <td>5.0</td>\n",
              "      <td>setosa</td>\n",
              "    </tr>\n",
              "    <tr>\n",
              "      <th>...</th>\n",
              "      <td>...</td>\n",
              "      <td>...</td>\n",
              "    </tr>\n",
              "    <tr>\n",
              "      <th>145</th>\n",
              "      <td>6.7</td>\n",
              "      <td>virginica</td>\n",
              "    </tr>\n",
              "    <tr>\n",
              "      <th>146</th>\n",
              "      <td>6.3</td>\n",
              "      <td>virginica</td>\n",
              "    </tr>\n",
              "    <tr>\n",
              "      <th>147</th>\n",
              "      <td>6.5</td>\n",
              "      <td>virginica</td>\n",
              "    </tr>\n",
              "    <tr>\n",
              "      <th>148</th>\n",
              "      <td>6.2</td>\n",
              "      <td>virginica</td>\n",
              "    </tr>\n",
              "    <tr>\n",
              "      <th>149</th>\n",
              "      <td>5.9</td>\n",
              "      <td>virginica</td>\n",
              "    </tr>\n",
              "  </tbody>\n",
              "</table>\n",
              "<p>150 rows × 2 columns</p>\n",
              "</div>\n",
              "    <div class=\"colab-df-buttons\">\n",
              "\n",
              "  <div class=\"colab-df-container\">\n",
              "    <button class=\"colab-df-convert\" onclick=\"convertToInteractive('df-42385d91-3138-41b6-9f52-7d0f1d89ebea')\"\n",
              "            title=\"Convert this dataframe to an interactive table.\"\n",
              "            style=\"display:none;\">\n",
              "\n",
              "  <svg xmlns=\"http://www.w3.org/2000/svg\" height=\"24px\" viewBox=\"0 -960 960 960\">\n",
              "    <path d=\"M120-120v-720h720v720H120Zm60-500h600v-160H180v160Zm220 220h160v-160H400v160Zm0 220h160v-160H400v160ZM180-400h160v-160H180v160Zm440 0h160v-160H620v160ZM180-180h160v-160H180v160Zm440 0h160v-160H620v160Z\"/>\n",
              "  </svg>\n",
              "    </button>\n",
              "\n",
              "  <style>\n",
              "    .colab-df-container {\n",
              "      display:flex;\n",
              "      gap: 12px;\n",
              "    }\n",
              "\n",
              "    .colab-df-convert {\n",
              "      background-color: #E8F0FE;\n",
              "      border: none;\n",
              "      border-radius: 50%;\n",
              "      cursor: pointer;\n",
              "      display: none;\n",
              "      fill: #1967D2;\n",
              "      height: 32px;\n",
              "      padding: 0 0 0 0;\n",
              "      width: 32px;\n",
              "    }\n",
              "\n",
              "    .colab-df-convert:hover {\n",
              "      background-color: #E2EBFA;\n",
              "      box-shadow: 0px 1px 2px rgba(60, 64, 67, 0.3), 0px 1px 3px 1px rgba(60, 64, 67, 0.15);\n",
              "      fill: #174EA6;\n",
              "    }\n",
              "\n",
              "    .colab-df-buttons div {\n",
              "      margin-bottom: 4px;\n",
              "    }\n",
              "\n",
              "    [theme=dark] .colab-df-convert {\n",
              "      background-color: #3B4455;\n",
              "      fill: #D2E3FC;\n",
              "    }\n",
              "\n",
              "    [theme=dark] .colab-df-convert:hover {\n",
              "      background-color: #434B5C;\n",
              "      box-shadow: 0px 1px 3px 1px rgba(0, 0, 0, 0.15);\n",
              "      filter: drop-shadow(0px 1px 2px rgba(0, 0, 0, 0.3));\n",
              "      fill: #FFFFFF;\n",
              "    }\n",
              "  </style>\n",
              "\n",
              "    <script>\n",
              "      const buttonEl =\n",
              "        document.querySelector('#df-42385d91-3138-41b6-9f52-7d0f1d89ebea button.colab-df-convert');\n",
              "      buttonEl.style.display =\n",
              "        google.colab.kernel.accessAllowed ? 'block' : 'none';\n",
              "\n",
              "      async function convertToInteractive(key) {\n",
              "        const element = document.querySelector('#df-42385d91-3138-41b6-9f52-7d0f1d89ebea');\n",
              "        const dataTable =\n",
              "          await google.colab.kernel.invokeFunction('convertToInteractive',\n",
              "                                                    [key], {});\n",
              "        if (!dataTable) return;\n",
              "\n",
              "        const docLinkHtml = 'Like what you see? Visit the ' +\n",
              "          '<a target=\"_blank\" href=https://colab.research.google.com/notebooks/data_table.ipynb>data table notebook</a>'\n",
              "          + ' to learn more about interactive tables.';\n",
              "        element.innerHTML = '';\n",
              "        dataTable['output_type'] = 'display_data';\n",
              "        await google.colab.output.renderOutput(dataTable, element);\n",
              "        const docLink = document.createElement('div');\n",
              "        docLink.innerHTML = docLinkHtml;\n",
              "        element.appendChild(docLink);\n",
              "      }\n",
              "    </script>\n",
              "  </div>\n",
              "\n",
              "\n",
              "    <div id=\"df-d10652af-14e1-46cc-bc46-63db7e80ee73\">\n",
              "      <button class=\"colab-df-quickchart\" onclick=\"quickchart('df-d10652af-14e1-46cc-bc46-63db7e80ee73')\"\n",
              "                title=\"Suggest charts\"\n",
              "                style=\"display:none;\">\n",
              "\n",
              "<svg xmlns=\"http://www.w3.org/2000/svg\" height=\"24px\"viewBox=\"0 0 24 24\"\n",
              "     width=\"24px\">\n",
              "    <g>\n",
              "        <path d=\"M19 3H5c-1.1 0-2 .9-2 2v14c0 1.1.9 2 2 2h14c1.1 0 2-.9 2-2V5c0-1.1-.9-2-2-2zM9 17H7v-7h2v7zm4 0h-2V7h2v10zm4 0h-2v-4h2v4z\"/>\n",
              "    </g>\n",
              "</svg>\n",
              "      </button>\n",
              "\n",
              "<style>\n",
              "  .colab-df-quickchart {\n",
              "      --bg-color: #E8F0FE;\n",
              "      --fill-color: #1967D2;\n",
              "      --hover-bg-color: #E2EBFA;\n",
              "      --hover-fill-color: #174EA6;\n",
              "      --disabled-fill-color: #AAA;\n",
              "      --disabled-bg-color: #DDD;\n",
              "  }\n",
              "\n",
              "  [theme=dark] .colab-df-quickchart {\n",
              "      --bg-color: #3B4455;\n",
              "      --fill-color: #D2E3FC;\n",
              "      --hover-bg-color: #434B5C;\n",
              "      --hover-fill-color: #FFFFFF;\n",
              "      --disabled-bg-color: #3B4455;\n",
              "      --disabled-fill-color: #666;\n",
              "  }\n",
              "\n",
              "  .colab-df-quickchart {\n",
              "    background-color: var(--bg-color);\n",
              "    border: none;\n",
              "    border-radius: 50%;\n",
              "    cursor: pointer;\n",
              "    display: none;\n",
              "    fill: var(--fill-color);\n",
              "    height: 32px;\n",
              "    padding: 0;\n",
              "    width: 32px;\n",
              "  }\n",
              "\n",
              "  .colab-df-quickchart:hover {\n",
              "    background-color: var(--hover-bg-color);\n",
              "    box-shadow: 0 1px 2px rgba(60, 64, 67, 0.3), 0 1px 3px 1px rgba(60, 64, 67, 0.15);\n",
              "    fill: var(--button-hover-fill-color);\n",
              "  }\n",
              "\n",
              "  .colab-df-quickchart-complete:disabled,\n",
              "  .colab-df-quickchart-complete:disabled:hover {\n",
              "    background-color: var(--disabled-bg-color);\n",
              "    fill: var(--disabled-fill-color);\n",
              "    box-shadow: none;\n",
              "  }\n",
              "\n",
              "  .colab-df-spinner {\n",
              "    border: 2px solid var(--fill-color);\n",
              "    border-color: transparent;\n",
              "    border-bottom-color: var(--fill-color);\n",
              "    animation:\n",
              "      spin 1s steps(1) infinite;\n",
              "  }\n",
              "\n",
              "  @keyframes spin {\n",
              "    0% {\n",
              "      border-color: transparent;\n",
              "      border-bottom-color: var(--fill-color);\n",
              "      border-left-color: var(--fill-color);\n",
              "    }\n",
              "    20% {\n",
              "      border-color: transparent;\n",
              "      border-left-color: var(--fill-color);\n",
              "      border-top-color: var(--fill-color);\n",
              "    }\n",
              "    30% {\n",
              "      border-color: transparent;\n",
              "      border-left-color: var(--fill-color);\n",
              "      border-top-color: var(--fill-color);\n",
              "      border-right-color: var(--fill-color);\n",
              "    }\n",
              "    40% {\n",
              "      border-color: transparent;\n",
              "      border-right-color: var(--fill-color);\n",
              "      border-top-color: var(--fill-color);\n",
              "    }\n",
              "    60% {\n",
              "      border-color: transparent;\n",
              "      border-right-color: var(--fill-color);\n",
              "    }\n",
              "    80% {\n",
              "      border-color: transparent;\n",
              "      border-right-color: var(--fill-color);\n",
              "      border-bottom-color: var(--fill-color);\n",
              "    }\n",
              "    90% {\n",
              "      border-color: transparent;\n",
              "      border-bottom-color: var(--fill-color);\n",
              "    }\n",
              "  }\n",
              "</style>\n",
              "\n",
              "      <script>\n",
              "        async function quickchart(key) {\n",
              "          const quickchartButtonEl =\n",
              "            document.querySelector('#' + key + ' button');\n",
              "          quickchartButtonEl.disabled = true;  // To prevent multiple clicks.\n",
              "          quickchartButtonEl.classList.add('colab-df-spinner');\n",
              "          try {\n",
              "            const charts = await google.colab.kernel.invokeFunction(\n",
              "                'suggestCharts', [key], {});\n",
              "          } catch (error) {\n",
              "            console.error('Error during call to suggestCharts:', error);\n",
              "          }\n",
              "          quickchartButtonEl.classList.remove('colab-df-spinner');\n",
              "          quickchartButtonEl.classList.add('colab-df-quickchart-complete');\n",
              "        }\n",
              "        (() => {\n",
              "          let quickchartButtonEl =\n",
              "            document.querySelector('#df-d10652af-14e1-46cc-bc46-63db7e80ee73 button');\n",
              "          quickchartButtonEl.style.display =\n",
              "            google.colab.kernel.accessAllowed ? 'block' : 'none';\n",
              "        })();\n",
              "      </script>\n",
              "    </div>\n",
              "\n",
              "    </div>\n",
              "  </div>\n"
            ],
            "application/vnd.google.colaboratory.intrinsic+json": {
              "type": "dataframe",
              "summary": "{\n  \"name\": \"iris[[\\\"sepal_length\\\", \\\"species\\\"]]\",\n  \"rows\": 150,\n  \"fields\": [\n    {\n      \"column\": \"sepal_length\",\n      \"properties\": {\n        \"dtype\": \"number\",\n        \"std\": 0.8280661279778629,\n        \"min\": 4.3,\n        \"max\": 7.9,\n        \"num_unique_values\": 35,\n        \"samples\": [\n          6.2,\n          4.5,\n          5.6\n        ],\n        \"semantic_type\": \"\",\n        \"description\": \"\"\n      }\n    },\n    {\n      \"column\": \"species\",\n      \"properties\": {\n        \"dtype\": \"category\",\n        \"num_unique_values\": 3,\n        \"samples\": [\n          \"setosa\",\n          \"versicolor\",\n          \"virginica\"\n        ],\n        \"semantic_type\": \"\",\n        \"description\": \"\"\n      }\n    }\n  ]\n}"
            }
          },
          "metadata": {},
          "execution_count": 363
        }
      ]
    },
    {
      "cell_type": "markdown",
      "source": [
        "Também podemos filtrar linhas usando condições:"
      ],
      "metadata": {
        "id": "gAaN9xdKgx2N"
      }
    },
    {
      "cell_type": "code",
      "source": [
        "# Flores com sépala maior que 5.0\n",
        "iris[iris[\"sepal_length\"] > 5.0]"
      ],
      "metadata": {
        "id": "exUS5q9dgybL",
        "colab": {
          "base_uri": "https://localhost:8080/",
          "height": 424
        },
        "outputId": "c5d8c2fa-e72f-490f-fa77-b5ae8efc24e7"
      },
      "execution_count": 364,
      "outputs": [
        {
          "output_type": "execute_result",
          "data": {
            "text/plain": [
              "     sepal_length  sepal_width  petal_length  petal_width    species\n",
              "0             5.1          3.5           1.4          0.2     setosa\n",
              "5             5.4          3.9           1.7          0.4     setosa\n",
              "10            5.4          3.7           1.5          0.2     setosa\n",
              "14            5.8          4.0           1.2          0.2     setosa\n",
              "15            5.7          4.4           1.5          0.4     setosa\n",
              "..            ...          ...           ...          ...        ...\n",
              "145           6.7          3.0           5.2          2.3  virginica\n",
              "146           6.3          2.5           5.0          1.9  virginica\n",
              "147           6.5          3.0           5.2          2.0  virginica\n",
              "148           6.2          3.4           5.4          2.3  virginica\n",
              "149           5.9          3.0           5.1          1.8  virginica\n",
              "\n",
              "[118 rows x 5 columns]"
            ],
            "text/html": [
              "\n",
              "  <div id=\"df-b6829cd0-826d-4386-a7c1-5d1e338ac6ac\" class=\"colab-df-container\">\n",
              "    <div>\n",
              "<style scoped>\n",
              "    .dataframe tbody tr th:only-of-type {\n",
              "        vertical-align: middle;\n",
              "    }\n",
              "\n",
              "    .dataframe tbody tr th {\n",
              "        vertical-align: top;\n",
              "    }\n",
              "\n",
              "    .dataframe thead th {\n",
              "        text-align: right;\n",
              "    }\n",
              "</style>\n",
              "<table border=\"1\" class=\"dataframe\">\n",
              "  <thead>\n",
              "    <tr style=\"text-align: right;\">\n",
              "      <th></th>\n",
              "      <th>sepal_length</th>\n",
              "      <th>sepal_width</th>\n",
              "      <th>petal_length</th>\n",
              "      <th>petal_width</th>\n",
              "      <th>species</th>\n",
              "    </tr>\n",
              "  </thead>\n",
              "  <tbody>\n",
              "    <tr>\n",
              "      <th>0</th>\n",
              "      <td>5.1</td>\n",
              "      <td>3.5</td>\n",
              "      <td>1.4</td>\n",
              "      <td>0.2</td>\n",
              "      <td>setosa</td>\n",
              "    </tr>\n",
              "    <tr>\n",
              "      <th>5</th>\n",
              "      <td>5.4</td>\n",
              "      <td>3.9</td>\n",
              "      <td>1.7</td>\n",
              "      <td>0.4</td>\n",
              "      <td>setosa</td>\n",
              "    </tr>\n",
              "    <tr>\n",
              "      <th>10</th>\n",
              "      <td>5.4</td>\n",
              "      <td>3.7</td>\n",
              "      <td>1.5</td>\n",
              "      <td>0.2</td>\n",
              "      <td>setosa</td>\n",
              "    </tr>\n",
              "    <tr>\n",
              "      <th>14</th>\n",
              "      <td>5.8</td>\n",
              "      <td>4.0</td>\n",
              "      <td>1.2</td>\n",
              "      <td>0.2</td>\n",
              "      <td>setosa</td>\n",
              "    </tr>\n",
              "    <tr>\n",
              "      <th>15</th>\n",
              "      <td>5.7</td>\n",
              "      <td>4.4</td>\n",
              "      <td>1.5</td>\n",
              "      <td>0.4</td>\n",
              "      <td>setosa</td>\n",
              "    </tr>\n",
              "    <tr>\n",
              "      <th>...</th>\n",
              "      <td>...</td>\n",
              "      <td>...</td>\n",
              "      <td>...</td>\n",
              "      <td>...</td>\n",
              "      <td>...</td>\n",
              "    </tr>\n",
              "    <tr>\n",
              "      <th>145</th>\n",
              "      <td>6.7</td>\n",
              "      <td>3.0</td>\n",
              "      <td>5.2</td>\n",
              "      <td>2.3</td>\n",
              "      <td>virginica</td>\n",
              "    </tr>\n",
              "    <tr>\n",
              "      <th>146</th>\n",
              "      <td>6.3</td>\n",
              "      <td>2.5</td>\n",
              "      <td>5.0</td>\n",
              "      <td>1.9</td>\n",
              "      <td>virginica</td>\n",
              "    </tr>\n",
              "    <tr>\n",
              "      <th>147</th>\n",
              "      <td>6.5</td>\n",
              "      <td>3.0</td>\n",
              "      <td>5.2</td>\n",
              "      <td>2.0</td>\n",
              "      <td>virginica</td>\n",
              "    </tr>\n",
              "    <tr>\n",
              "      <th>148</th>\n",
              "      <td>6.2</td>\n",
              "      <td>3.4</td>\n",
              "      <td>5.4</td>\n",
              "      <td>2.3</td>\n",
              "      <td>virginica</td>\n",
              "    </tr>\n",
              "    <tr>\n",
              "      <th>149</th>\n",
              "      <td>5.9</td>\n",
              "      <td>3.0</td>\n",
              "      <td>5.1</td>\n",
              "      <td>1.8</td>\n",
              "      <td>virginica</td>\n",
              "    </tr>\n",
              "  </tbody>\n",
              "</table>\n",
              "<p>118 rows × 5 columns</p>\n",
              "</div>\n",
              "    <div class=\"colab-df-buttons\">\n",
              "\n",
              "  <div class=\"colab-df-container\">\n",
              "    <button class=\"colab-df-convert\" onclick=\"convertToInteractive('df-b6829cd0-826d-4386-a7c1-5d1e338ac6ac')\"\n",
              "            title=\"Convert this dataframe to an interactive table.\"\n",
              "            style=\"display:none;\">\n",
              "\n",
              "  <svg xmlns=\"http://www.w3.org/2000/svg\" height=\"24px\" viewBox=\"0 -960 960 960\">\n",
              "    <path d=\"M120-120v-720h720v720H120Zm60-500h600v-160H180v160Zm220 220h160v-160H400v160Zm0 220h160v-160H400v160ZM180-400h160v-160H180v160Zm440 0h160v-160H620v160ZM180-180h160v-160H180v160Zm440 0h160v-160H620v160Z\"/>\n",
              "  </svg>\n",
              "    </button>\n",
              "\n",
              "  <style>\n",
              "    .colab-df-container {\n",
              "      display:flex;\n",
              "      gap: 12px;\n",
              "    }\n",
              "\n",
              "    .colab-df-convert {\n",
              "      background-color: #E8F0FE;\n",
              "      border: none;\n",
              "      border-radius: 50%;\n",
              "      cursor: pointer;\n",
              "      display: none;\n",
              "      fill: #1967D2;\n",
              "      height: 32px;\n",
              "      padding: 0 0 0 0;\n",
              "      width: 32px;\n",
              "    }\n",
              "\n",
              "    .colab-df-convert:hover {\n",
              "      background-color: #E2EBFA;\n",
              "      box-shadow: 0px 1px 2px rgba(60, 64, 67, 0.3), 0px 1px 3px 1px rgba(60, 64, 67, 0.15);\n",
              "      fill: #174EA6;\n",
              "    }\n",
              "\n",
              "    .colab-df-buttons div {\n",
              "      margin-bottom: 4px;\n",
              "    }\n",
              "\n",
              "    [theme=dark] .colab-df-convert {\n",
              "      background-color: #3B4455;\n",
              "      fill: #D2E3FC;\n",
              "    }\n",
              "\n",
              "    [theme=dark] .colab-df-convert:hover {\n",
              "      background-color: #434B5C;\n",
              "      box-shadow: 0px 1px 3px 1px rgba(0, 0, 0, 0.15);\n",
              "      filter: drop-shadow(0px 1px 2px rgba(0, 0, 0, 0.3));\n",
              "      fill: #FFFFFF;\n",
              "    }\n",
              "  </style>\n",
              "\n",
              "    <script>\n",
              "      const buttonEl =\n",
              "        document.querySelector('#df-b6829cd0-826d-4386-a7c1-5d1e338ac6ac button.colab-df-convert');\n",
              "      buttonEl.style.display =\n",
              "        google.colab.kernel.accessAllowed ? 'block' : 'none';\n",
              "\n",
              "      async function convertToInteractive(key) {\n",
              "        const element = document.querySelector('#df-b6829cd0-826d-4386-a7c1-5d1e338ac6ac');\n",
              "        const dataTable =\n",
              "          await google.colab.kernel.invokeFunction('convertToInteractive',\n",
              "                                                    [key], {});\n",
              "        if (!dataTable) return;\n",
              "\n",
              "        const docLinkHtml = 'Like what you see? Visit the ' +\n",
              "          '<a target=\"_blank\" href=https://colab.research.google.com/notebooks/data_table.ipynb>data table notebook</a>'\n",
              "          + ' to learn more about interactive tables.';\n",
              "        element.innerHTML = '';\n",
              "        dataTable['output_type'] = 'display_data';\n",
              "        await google.colab.output.renderOutput(dataTable, element);\n",
              "        const docLink = document.createElement('div');\n",
              "        docLink.innerHTML = docLinkHtml;\n",
              "        element.appendChild(docLink);\n",
              "      }\n",
              "    </script>\n",
              "  </div>\n",
              "\n",
              "\n",
              "    <div id=\"df-02aac562-c5f3-4d57-a3c2-563863707303\">\n",
              "      <button class=\"colab-df-quickchart\" onclick=\"quickchart('df-02aac562-c5f3-4d57-a3c2-563863707303')\"\n",
              "                title=\"Suggest charts\"\n",
              "                style=\"display:none;\">\n",
              "\n",
              "<svg xmlns=\"http://www.w3.org/2000/svg\" height=\"24px\"viewBox=\"0 0 24 24\"\n",
              "     width=\"24px\">\n",
              "    <g>\n",
              "        <path d=\"M19 3H5c-1.1 0-2 .9-2 2v14c0 1.1.9 2 2 2h14c1.1 0 2-.9 2-2V5c0-1.1-.9-2-2-2zM9 17H7v-7h2v7zm4 0h-2V7h2v10zm4 0h-2v-4h2v4z\"/>\n",
              "    </g>\n",
              "</svg>\n",
              "      </button>\n",
              "\n",
              "<style>\n",
              "  .colab-df-quickchart {\n",
              "      --bg-color: #E8F0FE;\n",
              "      --fill-color: #1967D2;\n",
              "      --hover-bg-color: #E2EBFA;\n",
              "      --hover-fill-color: #174EA6;\n",
              "      --disabled-fill-color: #AAA;\n",
              "      --disabled-bg-color: #DDD;\n",
              "  }\n",
              "\n",
              "  [theme=dark] .colab-df-quickchart {\n",
              "      --bg-color: #3B4455;\n",
              "      --fill-color: #D2E3FC;\n",
              "      --hover-bg-color: #434B5C;\n",
              "      --hover-fill-color: #FFFFFF;\n",
              "      --disabled-bg-color: #3B4455;\n",
              "      --disabled-fill-color: #666;\n",
              "  }\n",
              "\n",
              "  .colab-df-quickchart {\n",
              "    background-color: var(--bg-color);\n",
              "    border: none;\n",
              "    border-radius: 50%;\n",
              "    cursor: pointer;\n",
              "    display: none;\n",
              "    fill: var(--fill-color);\n",
              "    height: 32px;\n",
              "    padding: 0;\n",
              "    width: 32px;\n",
              "  }\n",
              "\n",
              "  .colab-df-quickchart:hover {\n",
              "    background-color: var(--hover-bg-color);\n",
              "    box-shadow: 0 1px 2px rgba(60, 64, 67, 0.3), 0 1px 3px 1px rgba(60, 64, 67, 0.15);\n",
              "    fill: var(--button-hover-fill-color);\n",
              "  }\n",
              "\n",
              "  .colab-df-quickchart-complete:disabled,\n",
              "  .colab-df-quickchart-complete:disabled:hover {\n",
              "    background-color: var(--disabled-bg-color);\n",
              "    fill: var(--disabled-fill-color);\n",
              "    box-shadow: none;\n",
              "  }\n",
              "\n",
              "  .colab-df-spinner {\n",
              "    border: 2px solid var(--fill-color);\n",
              "    border-color: transparent;\n",
              "    border-bottom-color: var(--fill-color);\n",
              "    animation:\n",
              "      spin 1s steps(1) infinite;\n",
              "  }\n",
              "\n",
              "  @keyframes spin {\n",
              "    0% {\n",
              "      border-color: transparent;\n",
              "      border-bottom-color: var(--fill-color);\n",
              "      border-left-color: var(--fill-color);\n",
              "    }\n",
              "    20% {\n",
              "      border-color: transparent;\n",
              "      border-left-color: var(--fill-color);\n",
              "      border-top-color: var(--fill-color);\n",
              "    }\n",
              "    30% {\n",
              "      border-color: transparent;\n",
              "      border-left-color: var(--fill-color);\n",
              "      border-top-color: var(--fill-color);\n",
              "      border-right-color: var(--fill-color);\n",
              "    }\n",
              "    40% {\n",
              "      border-color: transparent;\n",
              "      border-right-color: var(--fill-color);\n",
              "      border-top-color: var(--fill-color);\n",
              "    }\n",
              "    60% {\n",
              "      border-color: transparent;\n",
              "      border-right-color: var(--fill-color);\n",
              "    }\n",
              "    80% {\n",
              "      border-color: transparent;\n",
              "      border-right-color: var(--fill-color);\n",
              "      border-bottom-color: var(--fill-color);\n",
              "    }\n",
              "    90% {\n",
              "      border-color: transparent;\n",
              "      border-bottom-color: var(--fill-color);\n",
              "    }\n",
              "  }\n",
              "</style>\n",
              "\n",
              "      <script>\n",
              "        async function quickchart(key) {\n",
              "          const quickchartButtonEl =\n",
              "            document.querySelector('#' + key + ' button');\n",
              "          quickchartButtonEl.disabled = true;  // To prevent multiple clicks.\n",
              "          quickchartButtonEl.classList.add('colab-df-spinner');\n",
              "          try {\n",
              "            const charts = await google.colab.kernel.invokeFunction(\n",
              "                'suggestCharts', [key], {});\n",
              "          } catch (error) {\n",
              "            console.error('Error during call to suggestCharts:', error);\n",
              "          }\n",
              "          quickchartButtonEl.classList.remove('colab-df-spinner');\n",
              "          quickchartButtonEl.classList.add('colab-df-quickchart-complete');\n",
              "        }\n",
              "        (() => {\n",
              "          let quickchartButtonEl =\n",
              "            document.querySelector('#df-02aac562-c5f3-4d57-a3c2-563863707303 button');\n",
              "          quickchartButtonEl.style.display =\n",
              "            google.colab.kernel.accessAllowed ? 'block' : 'none';\n",
              "        })();\n",
              "      </script>\n",
              "    </div>\n",
              "\n",
              "    </div>\n",
              "  </div>\n"
            ],
            "application/vnd.google.colaboratory.intrinsic+json": {
              "type": "dataframe",
              "summary": "{\n  \"name\": \"iris[iris[\\\"sepal_length\\\"] > 5\",\n  \"rows\": 118,\n  \"fields\": [\n    {\n      \"column\": \"sepal_length\",\n      \"properties\": {\n        \"dtype\": \"number\",\n        \"std\": 0.687906438931737,\n        \"min\": 5.1,\n        \"max\": 7.9,\n        \"num_unique_values\": 27,\n        \"samples\": [\n          6.4,\n          5.9,\n          6.9\n        ],\n        \"semantic_type\": \"\",\n        \"description\": \"\"\n      }\n    },\n    {\n      \"column\": \"sepal_width\",\n      \"properties\": {\n        \"dtype\": \"number\",\n        \"std\": 0.4454390038240594,\n        \"min\": 2.2,\n        \"max\": 4.4,\n        \"num_unique_values\": 22,\n        \"samples\": [\n          3.5,\n          2.8,\n          4.1\n        ],\n        \"semantic_type\": \"\",\n        \"description\": \"\"\n      }\n    },\n    {\n      \"column\": \"petal_length\",\n      \"properties\": {\n        \"dtype\": \"number\",\n        \"std\": 1.5286230393231068,\n        \"min\": 1.2,\n        \"max\": 6.9,\n        \"num_unique_values\": 40,\n        \"samples\": [\n          5.0,\n          4.1,\n          4.4\n        ],\n        \"semantic_type\": \"\",\n        \"description\": \"\"\n      }\n    },\n    {\n      \"column\": \"petal_width\",\n      \"properties\": {\n        \"dtype\": \"number\",\n        \"std\": 0.6715056886601494,\n        \"min\": 0.1,\n        \"max\": 2.5,\n        \"num_unique_values\": 21,\n        \"samples\": [\n          0.2,\n          2.2,\n          1.9\n        ],\n        \"semantic_type\": \"\",\n        \"description\": \"\"\n      }\n    },\n    {\n      \"column\": \"species\",\n      \"properties\": {\n        \"dtype\": \"category\",\n        \"num_unique_values\": 3,\n        \"samples\": [\n          \"setosa\",\n          \"versicolor\",\n          \"virginica\"\n        ],\n        \"semantic_type\": \"\",\n        \"description\": \"\"\n      }\n    }\n  ]\n}"
            }
          },
          "metadata": {},
          "execution_count": 364
        }
      ]
    },
    {
      "cell_type": "markdown",
      "source": [
        "### Criando novas colunas\n",
        "\n",
        "É possível criar colunas a partir de cálculos com outras colunas. Cada nova coluna será automaticamente adicionada ao DataFrame."
      ],
      "metadata": {
        "id": "HBKbXtebg0A3"
      }
    },
    {
      "cell_type": "code",
      "source": [
        "# Criar coluna da área da sépala\n",
        "iris[\"sepal_area\"] = iris[\"sepal_length\"] * iris[\"sepal_width\"]"
      ],
      "metadata": {
        "id": "49F9GcwBg2qV"
      },
      "execution_count": 365,
      "outputs": []
    },
    {
      "cell_type": "code",
      "source": [
        "# Criar coluna da área da pétala\n",
        "iris[\"petal_area\"] = iris[\"petal_length\"] * iris[\"petal_width\"]"
      ],
      "metadata": {
        "id": "PrKdrlkygvSe"
      },
      "execution_count": 366,
      "outputs": []
    },
    {
      "cell_type": "code",
      "source": [
        "iris.head()"
      ],
      "metadata": {
        "colab": {
          "base_uri": "https://localhost:8080/",
          "height": 206
        },
        "id": "CsLoRWdqhHsq",
        "outputId": "73a5a417-52e2-451f-c184-28126a85850d"
      },
      "execution_count": 367,
      "outputs": [
        {
          "output_type": "execute_result",
          "data": {
            "text/plain": [
              "   sepal_length  sepal_width  petal_length  petal_width species  sepal_area  \\\n",
              "0           5.1          3.5           1.4          0.2  setosa       17.85   \n",
              "1           4.9          3.0           1.4          0.2  setosa       14.70   \n",
              "2           4.7          3.2           1.3          0.2  setosa       15.04   \n",
              "3           4.6          3.1           1.5          0.2  setosa       14.26   \n",
              "4           5.0          3.6           1.4          0.2  setosa       18.00   \n",
              "\n",
              "   petal_area  \n",
              "0        0.28  \n",
              "1        0.28  \n",
              "2        0.26  \n",
              "3        0.30  \n",
              "4        0.28  "
            ],
            "text/html": [
              "\n",
              "  <div id=\"df-6edc8b40-6a04-4e26-b124-68f1bdcf3442\" class=\"colab-df-container\">\n",
              "    <div>\n",
              "<style scoped>\n",
              "    .dataframe tbody tr th:only-of-type {\n",
              "        vertical-align: middle;\n",
              "    }\n",
              "\n",
              "    .dataframe tbody tr th {\n",
              "        vertical-align: top;\n",
              "    }\n",
              "\n",
              "    .dataframe thead th {\n",
              "        text-align: right;\n",
              "    }\n",
              "</style>\n",
              "<table border=\"1\" class=\"dataframe\">\n",
              "  <thead>\n",
              "    <tr style=\"text-align: right;\">\n",
              "      <th></th>\n",
              "      <th>sepal_length</th>\n",
              "      <th>sepal_width</th>\n",
              "      <th>petal_length</th>\n",
              "      <th>petal_width</th>\n",
              "      <th>species</th>\n",
              "      <th>sepal_area</th>\n",
              "      <th>petal_area</th>\n",
              "    </tr>\n",
              "  </thead>\n",
              "  <tbody>\n",
              "    <tr>\n",
              "      <th>0</th>\n",
              "      <td>5.1</td>\n",
              "      <td>3.5</td>\n",
              "      <td>1.4</td>\n",
              "      <td>0.2</td>\n",
              "      <td>setosa</td>\n",
              "      <td>17.85</td>\n",
              "      <td>0.28</td>\n",
              "    </tr>\n",
              "    <tr>\n",
              "      <th>1</th>\n",
              "      <td>4.9</td>\n",
              "      <td>3.0</td>\n",
              "      <td>1.4</td>\n",
              "      <td>0.2</td>\n",
              "      <td>setosa</td>\n",
              "      <td>14.70</td>\n",
              "      <td>0.28</td>\n",
              "    </tr>\n",
              "    <tr>\n",
              "      <th>2</th>\n",
              "      <td>4.7</td>\n",
              "      <td>3.2</td>\n",
              "      <td>1.3</td>\n",
              "      <td>0.2</td>\n",
              "      <td>setosa</td>\n",
              "      <td>15.04</td>\n",
              "      <td>0.26</td>\n",
              "    </tr>\n",
              "    <tr>\n",
              "      <th>3</th>\n",
              "      <td>4.6</td>\n",
              "      <td>3.1</td>\n",
              "      <td>1.5</td>\n",
              "      <td>0.2</td>\n",
              "      <td>setosa</td>\n",
              "      <td>14.26</td>\n",
              "      <td>0.30</td>\n",
              "    </tr>\n",
              "    <tr>\n",
              "      <th>4</th>\n",
              "      <td>5.0</td>\n",
              "      <td>3.6</td>\n",
              "      <td>1.4</td>\n",
              "      <td>0.2</td>\n",
              "      <td>setosa</td>\n",
              "      <td>18.00</td>\n",
              "      <td>0.28</td>\n",
              "    </tr>\n",
              "  </tbody>\n",
              "</table>\n",
              "</div>\n",
              "    <div class=\"colab-df-buttons\">\n",
              "\n",
              "  <div class=\"colab-df-container\">\n",
              "    <button class=\"colab-df-convert\" onclick=\"convertToInteractive('df-6edc8b40-6a04-4e26-b124-68f1bdcf3442')\"\n",
              "            title=\"Convert this dataframe to an interactive table.\"\n",
              "            style=\"display:none;\">\n",
              "\n",
              "  <svg xmlns=\"http://www.w3.org/2000/svg\" height=\"24px\" viewBox=\"0 -960 960 960\">\n",
              "    <path d=\"M120-120v-720h720v720H120Zm60-500h600v-160H180v160Zm220 220h160v-160H400v160Zm0 220h160v-160H400v160ZM180-400h160v-160H180v160Zm440 0h160v-160H620v160ZM180-180h160v-160H180v160Zm440 0h160v-160H620v160Z\"/>\n",
              "  </svg>\n",
              "    </button>\n",
              "\n",
              "  <style>\n",
              "    .colab-df-container {\n",
              "      display:flex;\n",
              "      gap: 12px;\n",
              "    }\n",
              "\n",
              "    .colab-df-convert {\n",
              "      background-color: #E8F0FE;\n",
              "      border: none;\n",
              "      border-radius: 50%;\n",
              "      cursor: pointer;\n",
              "      display: none;\n",
              "      fill: #1967D2;\n",
              "      height: 32px;\n",
              "      padding: 0 0 0 0;\n",
              "      width: 32px;\n",
              "    }\n",
              "\n",
              "    .colab-df-convert:hover {\n",
              "      background-color: #E2EBFA;\n",
              "      box-shadow: 0px 1px 2px rgba(60, 64, 67, 0.3), 0px 1px 3px 1px rgba(60, 64, 67, 0.15);\n",
              "      fill: #174EA6;\n",
              "    }\n",
              "\n",
              "    .colab-df-buttons div {\n",
              "      margin-bottom: 4px;\n",
              "    }\n",
              "\n",
              "    [theme=dark] .colab-df-convert {\n",
              "      background-color: #3B4455;\n",
              "      fill: #D2E3FC;\n",
              "    }\n",
              "\n",
              "    [theme=dark] .colab-df-convert:hover {\n",
              "      background-color: #434B5C;\n",
              "      box-shadow: 0px 1px 3px 1px rgba(0, 0, 0, 0.15);\n",
              "      filter: drop-shadow(0px 1px 2px rgba(0, 0, 0, 0.3));\n",
              "      fill: #FFFFFF;\n",
              "    }\n",
              "  </style>\n",
              "\n",
              "    <script>\n",
              "      const buttonEl =\n",
              "        document.querySelector('#df-6edc8b40-6a04-4e26-b124-68f1bdcf3442 button.colab-df-convert');\n",
              "      buttonEl.style.display =\n",
              "        google.colab.kernel.accessAllowed ? 'block' : 'none';\n",
              "\n",
              "      async function convertToInteractive(key) {\n",
              "        const element = document.querySelector('#df-6edc8b40-6a04-4e26-b124-68f1bdcf3442');\n",
              "        const dataTable =\n",
              "          await google.colab.kernel.invokeFunction('convertToInteractive',\n",
              "                                                    [key], {});\n",
              "        if (!dataTable) return;\n",
              "\n",
              "        const docLinkHtml = 'Like what you see? Visit the ' +\n",
              "          '<a target=\"_blank\" href=https://colab.research.google.com/notebooks/data_table.ipynb>data table notebook</a>'\n",
              "          + ' to learn more about interactive tables.';\n",
              "        element.innerHTML = '';\n",
              "        dataTable['output_type'] = 'display_data';\n",
              "        await google.colab.output.renderOutput(dataTable, element);\n",
              "        const docLink = document.createElement('div');\n",
              "        docLink.innerHTML = docLinkHtml;\n",
              "        element.appendChild(docLink);\n",
              "      }\n",
              "    </script>\n",
              "  </div>\n",
              "\n",
              "\n",
              "    <div id=\"df-3509a033-45ac-4a2d-8869-ea725a483727\">\n",
              "      <button class=\"colab-df-quickchart\" onclick=\"quickchart('df-3509a033-45ac-4a2d-8869-ea725a483727')\"\n",
              "                title=\"Suggest charts\"\n",
              "                style=\"display:none;\">\n",
              "\n",
              "<svg xmlns=\"http://www.w3.org/2000/svg\" height=\"24px\"viewBox=\"0 0 24 24\"\n",
              "     width=\"24px\">\n",
              "    <g>\n",
              "        <path d=\"M19 3H5c-1.1 0-2 .9-2 2v14c0 1.1.9 2 2 2h14c1.1 0 2-.9 2-2V5c0-1.1-.9-2-2-2zM9 17H7v-7h2v7zm4 0h-2V7h2v10zm4 0h-2v-4h2v4z\"/>\n",
              "    </g>\n",
              "</svg>\n",
              "      </button>\n",
              "\n",
              "<style>\n",
              "  .colab-df-quickchart {\n",
              "      --bg-color: #E8F0FE;\n",
              "      --fill-color: #1967D2;\n",
              "      --hover-bg-color: #E2EBFA;\n",
              "      --hover-fill-color: #174EA6;\n",
              "      --disabled-fill-color: #AAA;\n",
              "      --disabled-bg-color: #DDD;\n",
              "  }\n",
              "\n",
              "  [theme=dark] .colab-df-quickchart {\n",
              "      --bg-color: #3B4455;\n",
              "      --fill-color: #D2E3FC;\n",
              "      --hover-bg-color: #434B5C;\n",
              "      --hover-fill-color: #FFFFFF;\n",
              "      --disabled-bg-color: #3B4455;\n",
              "      --disabled-fill-color: #666;\n",
              "  }\n",
              "\n",
              "  .colab-df-quickchart {\n",
              "    background-color: var(--bg-color);\n",
              "    border: none;\n",
              "    border-radius: 50%;\n",
              "    cursor: pointer;\n",
              "    display: none;\n",
              "    fill: var(--fill-color);\n",
              "    height: 32px;\n",
              "    padding: 0;\n",
              "    width: 32px;\n",
              "  }\n",
              "\n",
              "  .colab-df-quickchart:hover {\n",
              "    background-color: var(--hover-bg-color);\n",
              "    box-shadow: 0 1px 2px rgba(60, 64, 67, 0.3), 0 1px 3px 1px rgba(60, 64, 67, 0.15);\n",
              "    fill: var(--button-hover-fill-color);\n",
              "  }\n",
              "\n",
              "  .colab-df-quickchart-complete:disabled,\n",
              "  .colab-df-quickchart-complete:disabled:hover {\n",
              "    background-color: var(--disabled-bg-color);\n",
              "    fill: var(--disabled-fill-color);\n",
              "    box-shadow: none;\n",
              "  }\n",
              "\n",
              "  .colab-df-spinner {\n",
              "    border: 2px solid var(--fill-color);\n",
              "    border-color: transparent;\n",
              "    border-bottom-color: var(--fill-color);\n",
              "    animation:\n",
              "      spin 1s steps(1) infinite;\n",
              "  }\n",
              "\n",
              "  @keyframes spin {\n",
              "    0% {\n",
              "      border-color: transparent;\n",
              "      border-bottom-color: var(--fill-color);\n",
              "      border-left-color: var(--fill-color);\n",
              "    }\n",
              "    20% {\n",
              "      border-color: transparent;\n",
              "      border-left-color: var(--fill-color);\n",
              "      border-top-color: var(--fill-color);\n",
              "    }\n",
              "    30% {\n",
              "      border-color: transparent;\n",
              "      border-left-color: var(--fill-color);\n",
              "      border-top-color: var(--fill-color);\n",
              "      border-right-color: var(--fill-color);\n",
              "    }\n",
              "    40% {\n",
              "      border-color: transparent;\n",
              "      border-right-color: var(--fill-color);\n",
              "      border-top-color: var(--fill-color);\n",
              "    }\n",
              "    60% {\n",
              "      border-color: transparent;\n",
              "      border-right-color: var(--fill-color);\n",
              "    }\n",
              "    80% {\n",
              "      border-color: transparent;\n",
              "      border-right-color: var(--fill-color);\n",
              "      border-bottom-color: var(--fill-color);\n",
              "    }\n",
              "    90% {\n",
              "      border-color: transparent;\n",
              "      border-bottom-color: var(--fill-color);\n",
              "    }\n",
              "  }\n",
              "</style>\n",
              "\n",
              "      <script>\n",
              "        async function quickchart(key) {\n",
              "          const quickchartButtonEl =\n",
              "            document.querySelector('#' + key + ' button');\n",
              "          quickchartButtonEl.disabled = true;  // To prevent multiple clicks.\n",
              "          quickchartButtonEl.classList.add('colab-df-spinner');\n",
              "          try {\n",
              "            const charts = await google.colab.kernel.invokeFunction(\n",
              "                'suggestCharts', [key], {});\n",
              "          } catch (error) {\n",
              "            console.error('Error during call to suggestCharts:', error);\n",
              "          }\n",
              "          quickchartButtonEl.classList.remove('colab-df-spinner');\n",
              "          quickchartButtonEl.classList.add('colab-df-quickchart-complete');\n",
              "        }\n",
              "        (() => {\n",
              "          let quickchartButtonEl =\n",
              "            document.querySelector('#df-3509a033-45ac-4a2d-8869-ea725a483727 button');\n",
              "          quickchartButtonEl.style.display =\n",
              "            google.colab.kernel.accessAllowed ? 'block' : 'none';\n",
              "        })();\n",
              "      </script>\n",
              "    </div>\n",
              "\n",
              "    </div>\n",
              "  </div>\n"
            ],
            "application/vnd.google.colaboratory.intrinsic+json": {
              "type": "dataframe",
              "variable_name": "iris",
              "summary": "{\n  \"name\": \"iris\",\n  \"rows\": 150,\n  \"fields\": [\n    {\n      \"column\": \"sepal_length\",\n      \"properties\": {\n        \"dtype\": \"number\",\n        \"std\": 0.8280661279778629,\n        \"min\": 4.3,\n        \"max\": 7.9,\n        \"num_unique_values\": 35,\n        \"samples\": [\n          6.2,\n          4.5,\n          5.6\n        ],\n        \"semantic_type\": \"\",\n        \"description\": \"\"\n      }\n    },\n    {\n      \"column\": \"sepal_width\",\n      \"properties\": {\n        \"dtype\": \"number\",\n        \"std\": 0.435866284936698,\n        \"min\": 2.0,\n        \"max\": 4.4,\n        \"num_unique_values\": 23,\n        \"samples\": [\n          2.3,\n          4.0,\n          3.5\n        ],\n        \"semantic_type\": \"\",\n        \"description\": \"\"\n      }\n    },\n    {\n      \"column\": \"petal_length\",\n      \"properties\": {\n        \"dtype\": \"number\",\n        \"std\": 1.7652982332594667,\n        \"min\": 1.0,\n        \"max\": 6.9,\n        \"num_unique_values\": 43,\n        \"samples\": [\n          6.7,\n          3.8,\n          3.7\n        ],\n        \"semantic_type\": \"\",\n        \"description\": \"\"\n      }\n    },\n    {\n      \"column\": \"petal_width\",\n      \"properties\": {\n        \"dtype\": \"number\",\n        \"std\": 0.7622376689603465,\n        \"min\": 0.1,\n        \"max\": 2.5,\n        \"num_unique_values\": 22,\n        \"samples\": [\n          0.2,\n          1.2,\n          1.3\n        ],\n        \"semantic_type\": \"\",\n        \"description\": \"\"\n      }\n    },\n    {\n      \"column\": \"species\",\n      \"properties\": {\n        \"dtype\": \"category\",\n        \"num_unique_values\": 3,\n        \"samples\": [\n          \"setosa\",\n          \"versicolor\",\n          \"virginica\"\n        ],\n        \"semantic_type\": \"\",\n        \"description\": \"\"\n      }\n    },\n    {\n      \"column\": \"sepal_area\",\n      \"properties\": {\n        \"dtype\": \"number\",\n        \"std\": 3.3618535828177074,\n        \"min\": 10.0,\n        \"max\": 30.02,\n        \"num_unique_values\": 110,\n        \"samples\": [\n          17.98,\n          19.980000000000004,\n          18.0\n        ],\n        \"semantic_type\": \"\",\n        \"description\": \"\"\n      }\n    },\n    {\n      \"column\": \"petal_area\",\n      \"properties\": {\n        \"dtype\": \"number\",\n        \"std\": 4.712389937356651,\n        \"min\": 0.11000000000000001,\n        \"max\": 15.87,\n        \"num_unique_values\": 101,\n        \"samples\": [\n          11.76,\n          5.460000000000001,\n          10.44\n        ],\n        \"semantic_type\": \"\",\n        \"description\": \"\"\n      }\n    }\n  ]\n}"
            }
          },
          "metadata": {},
          "execution_count": 367
        }
      ]
    },
    {
      "cell_type": "markdown",
      "source": [
        "### Estatísticas básicas\n",
        "\n",
        "O Pandas oferece várias funções para calcular estatísticas de forma rápida em colunas de um DataFrame."
      ],
      "metadata": {
        "id": "9P73DWKHhI_m"
      }
    },
    {
      "cell_type": "markdown",
      "source": [
        "Média (`.mean()`)\n",
        "\n",
        "Calcula o valor médio da coluna."
      ],
      "metadata": {
        "id": "NEuxJAnvhdo1"
      }
    },
    {
      "cell_type": "code",
      "source": [
        "iris[\"sepal_length\"].mean()"
      ],
      "metadata": {
        "id": "67MtCH-hheKV",
        "colab": {
          "base_uri": "https://localhost:8080/"
        },
        "outputId": "3b22aae6-5b75-43fd-c0a7-0585a7067291"
      },
      "execution_count": 368,
      "outputs": [
        {
          "output_type": "execute_result",
          "data": {
            "text/plain": [
              "np.float64(5.843333333333334)"
            ]
          },
          "metadata": {},
          "execution_count": 368
        }
      ]
    },
    {
      "cell_type": "markdown",
      "source": [
        "Mediana (`.median()`)\n",
        "\n",
        "O valor central, menos afetado por valores muito altos ou baixos."
      ],
      "metadata": {
        "id": "NnilVtJihrKC"
      }
    },
    {
      "cell_type": "code",
      "source": [
        "iris[\"sepal_length\"].median()"
      ],
      "metadata": {
        "id": "Zfj1HGSshbKW",
        "colab": {
          "base_uri": "https://localhost:8080/"
        },
        "outputId": "9f2ba7ac-b2db-4bfe-ae13-2f699ff2743a"
      },
      "execution_count": 369,
      "outputs": [
        {
          "output_type": "execute_result",
          "data": {
            "text/plain": [
              "5.8"
            ]
          },
          "metadata": {},
          "execution_count": 369
        }
      ]
    },
    {
      "cell_type": "markdown",
      "source": [
        "Moda (`.mode()`)\n",
        "\n",
        "O valor mais frequente."
      ],
      "metadata": {
        "id": "51ZVHsoJh3Gt"
      }
    },
    {
      "cell_type": "code",
      "source": [
        "iris[\"sepal_length\"].mode()"
      ],
      "metadata": {
        "id": "Lvx62L_MiPi1",
        "colab": {
          "base_uri": "https://localhost:8080/",
          "height": 115
        },
        "outputId": "3420f3ba-2b3d-4e2f-87c1-95d932abfc61"
      },
      "execution_count": 370,
      "outputs": [
        {
          "output_type": "execute_result",
          "data": {
            "text/plain": [
              "0    5.0\n",
              "Name: sepal_length, dtype: float64"
            ],
            "text/html": [
              "<div>\n",
              "<style scoped>\n",
              "    .dataframe tbody tr th:only-of-type {\n",
              "        vertical-align: middle;\n",
              "    }\n",
              "\n",
              "    .dataframe tbody tr th {\n",
              "        vertical-align: top;\n",
              "    }\n",
              "\n",
              "    .dataframe thead th {\n",
              "        text-align: right;\n",
              "    }\n",
              "</style>\n",
              "<table border=\"1\" class=\"dataframe\">\n",
              "  <thead>\n",
              "    <tr style=\"text-align: right;\">\n",
              "      <th></th>\n",
              "      <th>sepal_length</th>\n",
              "    </tr>\n",
              "  </thead>\n",
              "  <tbody>\n",
              "    <tr>\n",
              "      <th>0</th>\n",
              "      <td>5.0</td>\n",
              "    </tr>\n",
              "  </tbody>\n",
              "</table>\n",
              "</div><br><label><b>dtype:</b> float64</label>"
            ]
          },
          "metadata": {},
          "execution_count": 370
        }
      ]
    },
    {
      "cell_type": "markdown",
      "source": [
        "Mínimo (`.min()`) e Máximo (`.max()`)\n",
        "\n",
        "\n",
        "Valores extremos da coluna."
      ],
      "metadata": {
        "id": "1rIvKyGBiC9H"
      }
    },
    {
      "cell_type": "code",
      "source": [
        "iris[\"sepal_length\"].min()\n"
      ],
      "metadata": {
        "id": "k0-VOEPQiRrs",
        "colab": {
          "base_uri": "https://localhost:8080/"
        },
        "outputId": "91ced2b8-e3f8-4a69-c1e0-e8733ea4b3cc"
      },
      "execution_count": 371,
      "outputs": [
        {
          "output_type": "execute_result",
          "data": {
            "text/plain": [
              "4.3"
            ]
          },
          "metadata": {},
          "execution_count": 371
        }
      ]
    },
    {
      "cell_type": "code",
      "source": [
        "iris[\"sepal_length\"].max()"
      ],
      "metadata": {
        "id": "ln94By-gihqr",
        "outputId": "0fe0456b-6680-4c1a-951e-66a7d42b20fb",
        "colab": {
          "base_uri": "https://localhost:8080/"
        }
      },
      "execution_count": 372,
      "outputs": [
        {
          "output_type": "execute_result",
          "data": {
            "text/plain": [
              "7.9"
            ]
          },
          "metadata": {},
          "execution_count": 372
        }
      ]
    },
    {
      "cell_type": "markdown",
      "source": [
        "Desvio padrão (`.std()`)\n",
        "\n",
        "\n",
        "Mede o quanto os valores variam em torno da média."
      ],
      "metadata": {
        "id": "pUtWA82YiGGV"
      }
    },
    {
      "cell_type": "code",
      "source": [
        "iris[\"sepal_length\"].std()"
      ],
      "metadata": {
        "id": "tW0IxkRuiVnP",
        "colab": {
          "base_uri": "https://localhost:8080/"
        },
        "outputId": "b34f87d0-06eb-4d86-da82-e07a002ad755"
      },
      "execution_count": 373,
      "outputs": [
        {
          "output_type": "execute_result",
          "data": {
            "text/plain": [
              "0.8280661279778629"
            ]
          },
          "metadata": {},
          "execution_count": 373
        }
      ]
    },
    {
      "cell_type": "markdown",
      "source": [
        "Variância (`.var()`)\n",
        "\n",
        "\n",
        "Parecido com o desvio padrão, mas elevado ao quadrado."
      ],
      "metadata": {
        "id": "fzVlfCFAiKcx"
      }
    },
    {
      "cell_type": "code",
      "source": [
        "iris[\"sepal_length\"].var()"
      ],
      "metadata": {
        "id": "w2w2FrobiWkN",
        "colab": {
          "base_uri": "https://localhost:8080/"
        },
        "outputId": "4bd2e7fd-6697-464e-e800-8badfd3e1286"
      },
      "execution_count": 374,
      "outputs": [
        {
          "output_type": "execute_result",
          "data": {
            "text/plain": [
              "0.6856935123042505"
            ]
          },
          "metadata": {},
          "execution_count": 374
        }
      ]
    },
    {
      "cell_type": "markdown",
      "source": [
        "Contagem (`.count()`)\n",
        "\n",
        "Quantos valores existem (não nulos)."
      ],
      "metadata": {
        "id": "TqGg0OXCiNmY"
      }
    },
    {
      "cell_type": "code",
      "source": [
        "iris[\"sepal_length\"].count()"
      ],
      "metadata": {
        "id": "DAL_fDqoiYWQ",
        "colab": {
          "base_uri": "https://localhost:8080/"
        },
        "outputId": "cbd257d7-1484-47a1-867d-2653c3cf7ca3"
      },
      "execution_count": 375,
      "outputs": [
        {
          "output_type": "execute_result",
          "data": {
            "text/plain": [
              "np.int64(150)"
            ]
          },
          "metadata": {},
          "execution_count": 375
        }
      ]
    },
    {
      "cell_type": "markdown",
      "source": [
        "### Ordenando e filtrando\n",
        "\n",
        "Para organizar os dados podemos ordenar colunas utilizando `.sort_values()` e passando como parâmetro `by` a coluna de referência para a ordenação dos dados."
      ],
      "metadata": {
        "id": "phJbxcdHiea1"
      }
    },
    {
      "cell_type": "code",
      "source": [
        "iris.sort_values(by=\"petal_length\", ascending=False)"
      ],
      "metadata": {
        "colab": {
          "base_uri": "https://localhost:8080/",
          "height": 424
        },
        "id": "Y2PRce6LiChb",
        "outputId": "58f1241f-7c82-4e5b-e0a0-8d038cf9f840"
      },
      "execution_count": 376,
      "outputs": [
        {
          "output_type": "execute_result",
          "data": {
            "text/plain": [
              "     sepal_length  sepal_width  petal_length  petal_width    species  \\\n",
              "118           7.7          2.6           6.9          2.3  virginica   \n",
              "117           7.7          3.8           6.7          2.2  virginica   \n",
              "122           7.7          2.8           6.7          2.0  virginica   \n",
              "105           7.6          3.0           6.6          2.1  virginica   \n",
              "131           7.9          3.8           6.4          2.0  virginica   \n",
              "..            ...          ...           ...          ...        ...   \n",
              "41            4.5          2.3           1.3          0.3     setosa   \n",
              "35            5.0          3.2           1.2          0.2     setosa   \n",
              "14            5.8          4.0           1.2          0.2     setosa   \n",
              "13            4.3          3.0           1.1          0.1     setosa   \n",
              "22            4.6          3.6           1.0          0.2     setosa   \n",
              "\n",
              "     sepal_area  petal_area  \n",
              "118       20.02       15.87  \n",
              "117       29.26       14.74  \n",
              "122       21.56       13.40  \n",
              "105       22.80       13.86  \n",
              "131       30.02       12.80  \n",
              "..          ...         ...  \n",
              "41        10.35        0.39  \n",
              "35        16.00        0.24  \n",
              "14        23.20        0.24  \n",
              "13        12.90        0.11  \n",
              "22        16.56        0.20  \n",
              "\n",
              "[150 rows x 7 columns]"
            ],
            "text/html": [
              "\n",
              "  <div id=\"df-affaa6f2-303b-45ac-bfd7-f4ed52c274fd\" class=\"colab-df-container\">\n",
              "    <div>\n",
              "<style scoped>\n",
              "    .dataframe tbody tr th:only-of-type {\n",
              "        vertical-align: middle;\n",
              "    }\n",
              "\n",
              "    .dataframe tbody tr th {\n",
              "        vertical-align: top;\n",
              "    }\n",
              "\n",
              "    .dataframe thead th {\n",
              "        text-align: right;\n",
              "    }\n",
              "</style>\n",
              "<table border=\"1\" class=\"dataframe\">\n",
              "  <thead>\n",
              "    <tr style=\"text-align: right;\">\n",
              "      <th></th>\n",
              "      <th>sepal_length</th>\n",
              "      <th>sepal_width</th>\n",
              "      <th>petal_length</th>\n",
              "      <th>petal_width</th>\n",
              "      <th>species</th>\n",
              "      <th>sepal_area</th>\n",
              "      <th>petal_area</th>\n",
              "    </tr>\n",
              "  </thead>\n",
              "  <tbody>\n",
              "    <tr>\n",
              "      <th>118</th>\n",
              "      <td>7.7</td>\n",
              "      <td>2.6</td>\n",
              "      <td>6.9</td>\n",
              "      <td>2.3</td>\n",
              "      <td>virginica</td>\n",
              "      <td>20.02</td>\n",
              "      <td>15.87</td>\n",
              "    </tr>\n",
              "    <tr>\n",
              "      <th>117</th>\n",
              "      <td>7.7</td>\n",
              "      <td>3.8</td>\n",
              "      <td>6.7</td>\n",
              "      <td>2.2</td>\n",
              "      <td>virginica</td>\n",
              "      <td>29.26</td>\n",
              "      <td>14.74</td>\n",
              "    </tr>\n",
              "    <tr>\n",
              "      <th>122</th>\n",
              "      <td>7.7</td>\n",
              "      <td>2.8</td>\n",
              "      <td>6.7</td>\n",
              "      <td>2.0</td>\n",
              "      <td>virginica</td>\n",
              "      <td>21.56</td>\n",
              "      <td>13.40</td>\n",
              "    </tr>\n",
              "    <tr>\n",
              "      <th>105</th>\n",
              "      <td>7.6</td>\n",
              "      <td>3.0</td>\n",
              "      <td>6.6</td>\n",
              "      <td>2.1</td>\n",
              "      <td>virginica</td>\n",
              "      <td>22.80</td>\n",
              "      <td>13.86</td>\n",
              "    </tr>\n",
              "    <tr>\n",
              "      <th>131</th>\n",
              "      <td>7.9</td>\n",
              "      <td>3.8</td>\n",
              "      <td>6.4</td>\n",
              "      <td>2.0</td>\n",
              "      <td>virginica</td>\n",
              "      <td>30.02</td>\n",
              "      <td>12.80</td>\n",
              "    </tr>\n",
              "    <tr>\n",
              "      <th>...</th>\n",
              "      <td>...</td>\n",
              "      <td>...</td>\n",
              "      <td>...</td>\n",
              "      <td>...</td>\n",
              "      <td>...</td>\n",
              "      <td>...</td>\n",
              "      <td>...</td>\n",
              "    </tr>\n",
              "    <tr>\n",
              "      <th>41</th>\n",
              "      <td>4.5</td>\n",
              "      <td>2.3</td>\n",
              "      <td>1.3</td>\n",
              "      <td>0.3</td>\n",
              "      <td>setosa</td>\n",
              "      <td>10.35</td>\n",
              "      <td>0.39</td>\n",
              "    </tr>\n",
              "    <tr>\n",
              "      <th>35</th>\n",
              "      <td>5.0</td>\n",
              "      <td>3.2</td>\n",
              "      <td>1.2</td>\n",
              "      <td>0.2</td>\n",
              "      <td>setosa</td>\n",
              "      <td>16.00</td>\n",
              "      <td>0.24</td>\n",
              "    </tr>\n",
              "    <tr>\n",
              "      <th>14</th>\n",
              "      <td>5.8</td>\n",
              "      <td>4.0</td>\n",
              "      <td>1.2</td>\n",
              "      <td>0.2</td>\n",
              "      <td>setosa</td>\n",
              "      <td>23.20</td>\n",
              "      <td>0.24</td>\n",
              "    </tr>\n",
              "    <tr>\n",
              "      <th>13</th>\n",
              "      <td>4.3</td>\n",
              "      <td>3.0</td>\n",
              "      <td>1.1</td>\n",
              "      <td>0.1</td>\n",
              "      <td>setosa</td>\n",
              "      <td>12.90</td>\n",
              "      <td>0.11</td>\n",
              "    </tr>\n",
              "    <tr>\n",
              "      <th>22</th>\n",
              "      <td>4.6</td>\n",
              "      <td>3.6</td>\n",
              "      <td>1.0</td>\n",
              "      <td>0.2</td>\n",
              "      <td>setosa</td>\n",
              "      <td>16.56</td>\n",
              "      <td>0.20</td>\n",
              "    </tr>\n",
              "  </tbody>\n",
              "</table>\n",
              "<p>150 rows × 7 columns</p>\n",
              "</div>\n",
              "    <div class=\"colab-df-buttons\">\n",
              "\n",
              "  <div class=\"colab-df-container\">\n",
              "    <button class=\"colab-df-convert\" onclick=\"convertToInteractive('df-affaa6f2-303b-45ac-bfd7-f4ed52c274fd')\"\n",
              "            title=\"Convert this dataframe to an interactive table.\"\n",
              "            style=\"display:none;\">\n",
              "\n",
              "  <svg xmlns=\"http://www.w3.org/2000/svg\" height=\"24px\" viewBox=\"0 -960 960 960\">\n",
              "    <path d=\"M120-120v-720h720v720H120Zm60-500h600v-160H180v160Zm220 220h160v-160H400v160Zm0 220h160v-160H400v160ZM180-400h160v-160H180v160Zm440 0h160v-160H620v160ZM180-180h160v-160H180v160Zm440 0h160v-160H620v160Z\"/>\n",
              "  </svg>\n",
              "    </button>\n",
              "\n",
              "  <style>\n",
              "    .colab-df-container {\n",
              "      display:flex;\n",
              "      gap: 12px;\n",
              "    }\n",
              "\n",
              "    .colab-df-convert {\n",
              "      background-color: #E8F0FE;\n",
              "      border: none;\n",
              "      border-radius: 50%;\n",
              "      cursor: pointer;\n",
              "      display: none;\n",
              "      fill: #1967D2;\n",
              "      height: 32px;\n",
              "      padding: 0 0 0 0;\n",
              "      width: 32px;\n",
              "    }\n",
              "\n",
              "    .colab-df-convert:hover {\n",
              "      background-color: #E2EBFA;\n",
              "      box-shadow: 0px 1px 2px rgba(60, 64, 67, 0.3), 0px 1px 3px 1px rgba(60, 64, 67, 0.15);\n",
              "      fill: #174EA6;\n",
              "    }\n",
              "\n",
              "    .colab-df-buttons div {\n",
              "      margin-bottom: 4px;\n",
              "    }\n",
              "\n",
              "    [theme=dark] .colab-df-convert {\n",
              "      background-color: #3B4455;\n",
              "      fill: #D2E3FC;\n",
              "    }\n",
              "\n",
              "    [theme=dark] .colab-df-convert:hover {\n",
              "      background-color: #434B5C;\n",
              "      box-shadow: 0px 1px 3px 1px rgba(0, 0, 0, 0.15);\n",
              "      filter: drop-shadow(0px 1px 2px rgba(0, 0, 0, 0.3));\n",
              "      fill: #FFFFFF;\n",
              "    }\n",
              "  </style>\n",
              "\n",
              "    <script>\n",
              "      const buttonEl =\n",
              "        document.querySelector('#df-affaa6f2-303b-45ac-bfd7-f4ed52c274fd button.colab-df-convert');\n",
              "      buttonEl.style.display =\n",
              "        google.colab.kernel.accessAllowed ? 'block' : 'none';\n",
              "\n",
              "      async function convertToInteractive(key) {\n",
              "        const element = document.querySelector('#df-affaa6f2-303b-45ac-bfd7-f4ed52c274fd');\n",
              "        const dataTable =\n",
              "          await google.colab.kernel.invokeFunction('convertToInteractive',\n",
              "                                                    [key], {});\n",
              "        if (!dataTable) return;\n",
              "\n",
              "        const docLinkHtml = 'Like what you see? Visit the ' +\n",
              "          '<a target=\"_blank\" href=https://colab.research.google.com/notebooks/data_table.ipynb>data table notebook</a>'\n",
              "          + ' to learn more about interactive tables.';\n",
              "        element.innerHTML = '';\n",
              "        dataTable['output_type'] = 'display_data';\n",
              "        await google.colab.output.renderOutput(dataTable, element);\n",
              "        const docLink = document.createElement('div');\n",
              "        docLink.innerHTML = docLinkHtml;\n",
              "        element.appendChild(docLink);\n",
              "      }\n",
              "    </script>\n",
              "  </div>\n",
              "\n",
              "\n",
              "    <div id=\"df-cc45aee6-beff-4433-a023-ec428201496e\">\n",
              "      <button class=\"colab-df-quickchart\" onclick=\"quickchart('df-cc45aee6-beff-4433-a023-ec428201496e')\"\n",
              "                title=\"Suggest charts\"\n",
              "                style=\"display:none;\">\n",
              "\n",
              "<svg xmlns=\"http://www.w3.org/2000/svg\" height=\"24px\"viewBox=\"0 0 24 24\"\n",
              "     width=\"24px\">\n",
              "    <g>\n",
              "        <path d=\"M19 3H5c-1.1 0-2 .9-2 2v14c0 1.1.9 2 2 2h14c1.1 0 2-.9 2-2V5c0-1.1-.9-2-2-2zM9 17H7v-7h2v7zm4 0h-2V7h2v10zm4 0h-2v-4h2v4z\"/>\n",
              "    </g>\n",
              "</svg>\n",
              "      </button>\n",
              "\n",
              "<style>\n",
              "  .colab-df-quickchart {\n",
              "      --bg-color: #E8F0FE;\n",
              "      --fill-color: #1967D2;\n",
              "      --hover-bg-color: #E2EBFA;\n",
              "      --hover-fill-color: #174EA6;\n",
              "      --disabled-fill-color: #AAA;\n",
              "      --disabled-bg-color: #DDD;\n",
              "  }\n",
              "\n",
              "  [theme=dark] .colab-df-quickchart {\n",
              "      --bg-color: #3B4455;\n",
              "      --fill-color: #D2E3FC;\n",
              "      --hover-bg-color: #434B5C;\n",
              "      --hover-fill-color: #FFFFFF;\n",
              "      --disabled-bg-color: #3B4455;\n",
              "      --disabled-fill-color: #666;\n",
              "  }\n",
              "\n",
              "  .colab-df-quickchart {\n",
              "    background-color: var(--bg-color);\n",
              "    border: none;\n",
              "    border-radius: 50%;\n",
              "    cursor: pointer;\n",
              "    display: none;\n",
              "    fill: var(--fill-color);\n",
              "    height: 32px;\n",
              "    padding: 0;\n",
              "    width: 32px;\n",
              "  }\n",
              "\n",
              "  .colab-df-quickchart:hover {\n",
              "    background-color: var(--hover-bg-color);\n",
              "    box-shadow: 0 1px 2px rgba(60, 64, 67, 0.3), 0 1px 3px 1px rgba(60, 64, 67, 0.15);\n",
              "    fill: var(--button-hover-fill-color);\n",
              "  }\n",
              "\n",
              "  .colab-df-quickchart-complete:disabled,\n",
              "  .colab-df-quickchart-complete:disabled:hover {\n",
              "    background-color: var(--disabled-bg-color);\n",
              "    fill: var(--disabled-fill-color);\n",
              "    box-shadow: none;\n",
              "  }\n",
              "\n",
              "  .colab-df-spinner {\n",
              "    border: 2px solid var(--fill-color);\n",
              "    border-color: transparent;\n",
              "    border-bottom-color: var(--fill-color);\n",
              "    animation:\n",
              "      spin 1s steps(1) infinite;\n",
              "  }\n",
              "\n",
              "  @keyframes spin {\n",
              "    0% {\n",
              "      border-color: transparent;\n",
              "      border-bottom-color: var(--fill-color);\n",
              "      border-left-color: var(--fill-color);\n",
              "    }\n",
              "    20% {\n",
              "      border-color: transparent;\n",
              "      border-left-color: var(--fill-color);\n",
              "      border-top-color: var(--fill-color);\n",
              "    }\n",
              "    30% {\n",
              "      border-color: transparent;\n",
              "      border-left-color: var(--fill-color);\n",
              "      border-top-color: var(--fill-color);\n",
              "      border-right-color: var(--fill-color);\n",
              "    }\n",
              "    40% {\n",
              "      border-color: transparent;\n",
              "      border-right-color: var(--fill-color);\n",
              "      border-top-color: var(--fill-color);\n",
              "    }\n",
              "    60% {\n",
              "      border-color: transparent;\n",
              "      border-right-color: var(--fill-color);\n",
              "    }\n",
              "    80% {\n",
              "      border-color: transparent;\n",
              "      border-right-color: var(--fill-color);\n",
              "      border-bottom-color: var(--fill-color);\n",
              "    }\n",
              "    90% {\n",
              "      border-color: transparent;\n",
              "      border-bottom-color: var(--fill-color);\n",
              "    }\n",
              "  }\n",
              "</style>\n",
              "\n",
              "      <script>\n",
              "        async function quickchart(key) {\n",
              "          const quickchartButtonEl =\n",
              "            document.querySelector('#' + key + ' button');\n",
              "          quickchartButtonEl.disabled = true;  // To prevent multiple clicks.\n",
              "          quickchartButtonEl.classList.add('colab-df-spinner');\n",
              "          try {\n",
              "            const charts = await google.colab.kernel.invokeFunction(\n",
              "                'suggestCharts', [key], {});\n",
              "          } catch (error) {\n",
              "            console.error('Error during call to suggestCharts:', error);\n",
              "          }\n",
              "          quickchartButtonEl.classList.remove('colab-df-spinner');\n",
              "          quickchartButtonEl.classList.add('colab-df-quickchart-complete');\n",
              "        }\n",
              "        (() => {\n",
              "          let quickchartButtonEl =\n",
              "            document.querySelector('#df-cc45aee6-beff-4433-a023-ec428201496e button');\n",
              "          quickchartButtonEl.style.display =\n",
              "            google.colab.kernel.accessAllowed ? 'block' : 'none';\n",
              "        })();\n",
              "      </script>\n",
              "    </div>\n",
              "\n",
              "    </div>\n",
              "  </div>\n"
            ],
            "application/vnd.google.colaboratory.intrinsic+json": {
              "type": "dataframe",
              "summary": "{\n  \"name\": \"iris\",\n  \"rows\": 150,\n  \"fields\": [\n    {\n      \"column\": \"sepal_length\",\n      \"properties\": {\n        \"dtype\": \"number\",\n        \"std\": 0.8280661279778633,\n        \"min\": 4.3,\n        \"max\": 7.9,\n        \"num_unique_values\": 35,\n        \"samples\": [\n          5.0,\n          6.4,\n          5.5\n        ],\n        \"semantic_type\": \"\",\n        \"description\": \"\"\n      }\n    },\n    {\n      \"column\": \"sepal_width\",\n      \"properties\": {\n        \"dtype\": \"number\",\n        \"std\": 0.43586628493669816,\n        \"min\": 2.0,\n        \"max\": 4.4,\n        \"num_unique_values\": 23,\n        \"samples\": [\n          2.0,\n          3.4,\n          2.6\n        ],\n        \"semantic_type\": \"\",\n        \"description\": \"\"\n      }\n    },\n    {\n      \"column\": \"petal_length\",\n      \"properties\": {\n        \"dtype\": \"number\",\n        \"std\": 1.7652982332594667,\n        \"min\": 1.0,\n        \"max\": 6.9,\n        \"num_unique_values\": 43,\n        \"samples\": [\n          1.5,\n          4.2,\n          4.1\n        ],\n        \"semantic_type\": \"\",\n        \"description\": \"\"\n      }\n    },\n    {\n      \"column\": \"petal_width\",\n      \"properties\": {\n        \"dtype\": \"number\",\n        \"std\": 0.7622376689603468,\n        \"min\": 0.1,\n        \"max\": 2.5,\n        \"num_unique_values\": 22,\n        \"samples\": [\n          2.3,\n          1.3,\n          1.4\n        ],\n        \"semantic_type\": \"\",\n        \"description\": \"\"\n      }\n    },\n    {\n      \"column\": \"species\",\n      \"properties\": {\n        \"dtype\": \"category\",\n        \"num_unique_values\": 3,\n        \"samples\": [\n          \"virginica\",\n          \"versicolor\",\n          \"setosa\"\n        ],\n        \"semantic_type\": \"\",\n        \"description\": \"\"\n      }\n    },\n    {\n      \"column\": \"sepal_area\",\n      \"properties\": {\n        \"dtype\": \"number\",\n        \"std\": 3.3618535828177056,\n        \"min\": 10.0,\n        \"max\": 30.02,\n        \"num_unique_values\": 110,\n        \"samples\": [\n          21.060000000000002,\n          23.040000000000003,\n          30.02\n        ],\n        \"semantic_type\": \"\",\n        \"description\": \"\"\n      }\n    },\n    {\n      \"column\": \"petal_area\",\n      \"properties\": {\n        \"dtype\": \"number\",\n        \"std\": 4.712389937356654,\n        \"min\": 0.11000000000000001,\n        \"max\": 15.87,\n        \"num_unique_values\": 101,\n        \"samples\": [\n          0.34,\n          6.75,\n          5.33\n        ],\n        \"semantic_type\": \"\",\n        \"description\": \"\"\n      }\n    }\n  ]\n}"
            }
          },
          "metadata": {},
          "execution_count": 376
        }
      ]
    },
    {
      "cell_type": "markdown",
      "source": [
        "Já a filtragem de dados pode ser feita ao comparar uma determinada coluna com o valor desejado e, em seguida, utilizar essa condição dentro de `[]` no DataFrame."
      ],
      "metadata": {
        "id": "m_mMIZNEi0G1"
      }
    },
    {
      "cell_type": "code",
      "source": [
        "iris_setosa = iris[iris[\"species\"] == \"setosa\"]\n",
        "print(iris_setosa)"
      ],
      "metadata": {
        "id": "5cdHvaEri84W",
        "colab": {
          "base_uri": "https://localhost:8080/"
        },
        "outputId": "ac293593-a4c4-4a50-866f-cbd42933e716"
      },
      "execution_count": 377,
      "outputs": [
        {
          "output_type": "stream",
          "name": "stdout",
          "text": [
            "    sepal_length  sepal_width  petal_length  petal_width species  sepal_area  \\\n",
            "0            5.1          3.5           1.4          0.2  setosa       17.85   \n",
            "1            4.9          3.0           1.4          0.2  setosa       14.70   \n",
            "2            4.7          3.2           1.3          0.2  setosa       15.04   \n",
            "3            4.6          3.1           1.5          0.2  setosa       14.26   \n",
            "4            5.0          3.6           1.4          0.2  setosa       18.00   \n",
            "5            5.4          3.9           1.7          0.4  setosa       21.06   \n",
            "6            4.6          3.4           1.4          0.3  setosa       15.64   \n",
            "7            5.0          3.4           1.5          0.2  setosa       17.00   \n",
            "8            4.4          2.9           1.4          0.2  setosa       12.76   \n",
            "9            4.9          3.1           1.5          0.1  setosa       15.19   \n",
            "10           5.4          3.7           1.5          0.2  setosa       19.98   \n",
            "11           4.8          3.4           1.6          0.2  setosa       16.32   \n",
            "12           4.8          3.0           1.4          0.1  setosa       14.40   \n",
            "13           4.3          3.0           1.1          0.1  setosa       12.90   \n",
            "14           5.8          4.0           1.2          0.2  setosa       23.20   \n",
            "15           5.7          4.4           1.5          0.4  setosa       25.08   \n",
            "16           5.4          3.9           1.3          0.4  setosa       21.06   \n",
            "17           5.1          3.5           1.4          0.3  setosa       17.85   \n",
            "18           5.7          3.8           1.7          0.3  setosa       21.66   \n",
            "19           5.1          3.8           1.5          0.3  setosa       19.38   \n",
            "20           5.4          3.4           1.7          0.2  setosa       18.36   \n",
            "21           5.1          3.7           1.5          0.4  setosa       18.87   \n",
            "22           4.6          3.6           1.0          0.2  setosa       16.56   \n",
            "23           5.1          3.3           1.7          0.5  setosa       16.83   \n",
            "24           4.8          3.4           1.9          0.2  setosa       16.32   \n",
            "25           5.0          3.0           1.6          0.2  setosa       15.00   \n",
            "26           5.0          3.4           1.6          0.4  setosa       17.00   \n",
            "27           5.2          3.5           1.5          0.2  setosa       18.20   \n",
            "28           5.2          3.4           1.4          0.2  setosa       17.68   \n",
            "29           4.7          3.2           1.6          0.2  setosa       15.04   \n",
            "30           4.8          3.1           1.6          0.2  setosa       14.88   \n",
            "31           5.4          3.4           1.5          0.4  setosa       18.36   \n",
            "32           5.2          4.1           1.5          0.1  setosa       21.32   \n",
            "33           5.5          4.2           1.4          0.2  setosa       23.10   \n",
            "34           4.9          3.1           1.5          0.2  setosa       15.19   \n",
            "35           5.0          3.2           1.2          0.2  setosa       16.00   \n",
            "36           5.5          3.5           1.3          0.2  setosa       19.25   \n",
            "37           4.9          3.6           1.4          0.1  setosa       17.64   \n",
            "38           4.4          3.0           1.3          0.2  setosa       13.20   \n",
            "39           5.1          3.4           1.5          0.2  setosa       17.34   \n",
            "40           5.0          3.5           1.3          0.3  setosa       17.50   \n",
            "41           4.5          2.3           1.3          0.3  setosa       10.35   \n",
            "42           4.4          3.2           1.3          0.2  setosa       14.08   \n",
            "43           5.0          3.5           1.6          0.6  setosa       17.50   \n",
            "44           5.1          3.8           1.9          0.4  setosa       19.38   \n",
            "45           4.8          3.0           1.4          0.3  setosa       14.40   \n",
            "46           5.1          3.8           1.6          0.2  setosa       19.38   \n",
            "47           4.6          3.2           1.4          0.2  setosa       14.72   \n",
            "48           5.3          3.7           1.5          0.2  setosa       19.61   \n",
            "49           5.0          3.3           1.4          0.2  setosa       16.50   \n",
            "\n",
            "    petal_area  \n",
            "0         0.28  \n",
            "1         0.28  \n",
            "2         0.26  \n",
            "3         0.30  \n",
            "4         0.28  \n",
            "5         0.68  \n",
            "6         0.42  \n",
            "7         0.30  \n",
            "8         0.28  \n",
            "9         0.15  \n",
            "10        0.30  \n",
            "11        0.32  \n",
            "12        0.14  \n",
            "13        0.11  \n",
            "14        0.24  \n",
            "15        0.60  \n",
            "16        0.52  \n",
            "17        0.42  \n",
            "18        0.51  \n",
            "19        0.45  \n",
            "20        0.34  \n",
            "21        0.60  \n",
            "22        0.20  \n",
            "23        0.85  \n",
            "24        0.38  \n",
            "25        0.32  \n",
            "26        0.64  \n",
            "27        0.30  \n",
            "28        0.28  \n",
            "29        0.32  \n",
            "30        0.32  \n",
            "31        0.60  \n",
            "32        0.15  \n",
            "33        0.28  \n",
            "34        0.30  \n",
            "35        0.24  \n",
            "36        0.26  \n",
            "37        0.14  \n",
            "38        0.26  \n",
            "39        0.30  \n",
            "40        0.39  \n",
            "41        0.39  \n",
            "42        0.26  \n",
            "43        0.96  \n",
            "44        0.76  \n",
            "45        0.42  \n",
            "46        0.32  \n",
            "47        0.28  \n",
            "48        0.30  \n",
            "49        0.28  \n"
          ]
        }
      ]
    },
    {
      "cell_type": "markdown",
      "source": [
        "### Tratamento de dados\n",
        "\n",
        "Na prática, muitas vezes temos dados faltantes.\n",
        "Vamos criar um exemplo com um dataset de plantas que possui valores ausentes (NaN)"
      ],
      "metadata": {
        "id": "WfN6j1Tzi_Yo"
      }
    },
    {
      "cell_type": "code",
      "source": [
        "import numpy as np\n",
        "\n",
        "dados = {\n",
        "    \"Especie\": [\"Mimosa\", \"Trigo\", \"Soja\", \"Milho\"],\n",
        "    \"Altura_cm\": [35, np.nan, 80, 150],\n",
        "    \"Idade_sem\": [5, 12, np.nan, 15],\n",
        "    \"Folhas\": [10, 24, 18, np.nan]\n",
        "}\n",
        "\n",
        "df = pd.DataFrame(dados)"
      ],
      "metadata": {
        "id": "dF9JI5LhjR30"
      },
      "execution_count": 378,
      "outputs": []
    },
    {
      "cell_type": "markdown",
      "source": [
        "Não se preocupe agora com np.nan, ele está nos auxiliando a atribuir um valor nulo no DataFrame."
      ],
      "metadata": {
        "id": "OyfXhutb4G2a"
      }
    },
    {
      "cell_type": "code",
      "source": [
        "print(df)"
      ],
      "metadata": {
        "id": "_l9YhmQPjVYY",
        "colab": {
          "base_uri": "https://localhost:8080/"
        },
        "outputId": "758646d1-3b02-4c56-9244-478cc4f20ce0"
      },
      "execution_count": 379,
      "outputs": [
        {
          "output_type": "stream",
          "name": "stdout",
          "text": [
            "  Especie  Altura_cm  Idade_sem  Folhas\n",
            "0  Mimosa       35.0        5.0    10.0\n",
            "1   Trigo        NaN       12.0    24.0\n",
            "2    Soja       80.0        NaN    18.0\n",
            "3   Milho      150.0       15.0     NaN\n"
          ]
        }
      ]
    },
    {
      "cell_type": "markdown",
      "source": [
        "Verificar valores ausentes"
      ],
      "metadata": {
        "id": "8uLWomYLjYbe"
      }
    },
    {
      "cell_type": "code",
      "source": [
        "df[df[\"Altura_cm\"].isnull()]"
      ],
      "metadata": {
        "colab": {
          "base_uri": "https://localhost:8080/",
          "height": 81
        },
        "id": "J4UHJyEvjb5B",
        "outputId": "cc0a00e0-54b5-499c-d499-352c420f397f"
      },
      "execution_count": 380,
      "outputs": [
        {
          "output_type": "execute_result",
          "data": {
            "text/plain": [
              "  Especie  Altura_cm  Idade_sem  Folhas\n",
              "1   Trigo        NaN       12.0    24.0"
            ],
            "text/html": [
              "\n",
              "  <div id=\"df-0161b73a-ba9b-4862-9642-9f459df499fa\" class=\"colab-df-container\">\n",
              "    <div>\n",
              "<style scoped>\n",
              "    .dataframe tbody tr th:only-of-type {\n",
              "        vertical-align: middle;\n",
              "    }\n",
              "\n",
              "    .dataframe tbody tr th {\n",
              "        vertical-align: top;\n",
              "    }\n",
              "\n",
              "    .dataframe thead th {\n",
              "        text-align: right;\n",
              "    }\n",
              "</style>\n",
              "<table border=\"1\" class=\"dataframe\">\n",
              "  <thead>\n",
              "    <tr style=\"text-align: right;\">\n",
              "      <th></th>\n",
              "      <th>Especie</th>\n",
              "      <th>Altura_cm</th>\n",
              "      <th>Idade_sem</th>\n",
              "      <th>Folhas</th>\n",
              "    </tr>\n",
              "  </thead>\n",
              "  <tbody>\n",
              "    <tr>\n",
              "      <th>1</th>\n",
              "      <td>Trigo</td>\n",
              "      <td>NaN</td>\n",
              "      <td>12.0</td>\n",
              "      <td>24.0</td>\n",
              "    </tr>\n",
              "  </tbody>\n",
              "</table>\n",
              "</div>\n",
              "    <div class=\"colab-df-buttons\">\n",
              "\n",
              "  <div class=\"colab-df-container\">\n",
              "    <button class=\"colab-df-convert\" onclick=\"convertToInteractive('df-0161b73a-ba9b-4862-9642-9f459df499fa')\"\n",
              "            title=\"Convert this dataframe to an interactive table.\"\n",
              "            style=\"display:none;\">\n",
              "\n",
              "  <svg xmlns=\"http://www.w3.org/2000/svg\" height=\"24px\" viewBox=\"0 -960 960 960\">\n",
              "    <path d=\"M120-120v-720h720v720H120Zm60-500h600v-160H180v160Zm220 220h160v-160H400v160Zm0 220h160v-160H400v160ZM180-400h160v-160H180v160Zm440 0h160v-160H620v160ZM180-180h160v-160H180v160Zm440 0h160v-160H620v160Z\"/>\n",
              "  </svg>\n",
              "    </button>\n",
              "\n",
              "  <style>\n",
              "    .colab-df-container {\n",
              "      display:flex;\n",
              "      gap: 12px;\n",
              "    }\n",
              "\n",
              "    .colab-df-convert {\n",
              "      background-color: #E8F0FE;\n",
              "      border: none;\n",
              "      border-radius: 50%;\n",
              "      cursor: pointer;\n",
              "      display: none;\n",
              "      fill: #1967D2;\n",
              "      height: 32px;\n",
              "      padding: 0 0 0 0;\n",
              "      width: 32px;\n",
              "    }\n",
              "\n",
              "    .colab-df-convert:hover {\n",
              "      background-color: #E2EBFA;\n",
              "      box-shadow: 0px 1px 2px rgba(60, 64, 67, 0.3), 0px 1px 3px 1px rgba(60, 64, 67, 0.15);\n",
              "      fill: #174EA6;\n",
              "    }\n",
              "\n",
              "    .colab-df-buttons div {\n",
              "      margin-bottom: 4px;\n",
              "    }\n",
              "\n",
              "    [theme=dark] .colab-df-convert {\n",
              "      background-color: #3B4455;\n",
              "      fill: #D2E3FC;\n",
              "    }\n",
              "\n",
              "    [theme=dark] .colab-df-convert:hover {\n",
              "      background-color: #434B5C;\n",
              "      box-shadow: 0px 1px 3px 1px rgba(0, 0, 0, 0.15);\n",
              "      filter: drop-shadow(0px 1px 2px rgba(0, 0, 0, 0.3));\n",
              "      fill: #FFFFFF;\n",
              "    }\n",
              "  </style>\n",
              "\n",
              "    <script>\n",
              "      const buttonEl =\n",
              "        document.querySelector('#df-0161b73a-ba9b-4862-9642-9f459df499fa button.colab-df-convert');\n",
              "      buttonEl.style.display =\n",
              "        google.colab.kernel.accessAllowed ? 'block' : 'none';\n",
              "\n",
              "      async function convertToInteractive(key) {\n",
              "        const element = document.querySelector('#df-0161b73a-ba9b-4862-9642-9f459df499fa');\n",
              "        const dataTable =\n",
              "          await google.colab.kernel.invokeFunction('convertToInteractive',\n",
              "                                                    [key], {});\n",
              "        if (!dataTable) return;\n",
              "\n",
              "        const docLinkHtml = 'Like what you see? Visit the ' +\n",
              "          '<a target=\"_blank\" href=https://colab.research.google.com/notebooks/data_table.ipynb>data table notebook</a>'\n",
              "          + ' to learn more about interactive tables.';\n",
              "        element.innerHTML = '';\n",
              "        dataTable['output_type'] = 'display_data';\n",
              "        await google.colab.output.renderOutput(dataTable, element);\n",
              "        const docLink = document.createElement('div');\n",
              "        docLink.innerHTML = docLinkHtml;\n",
              "        element.appendChild(docLink);\n",
              "      }\n",
              "    </script>\n",
              "  </div>\n",
              "\n",
              "\n",
              "    </div>\n",
              "  </div>\n"
            ],
            "application/vnd.google.colaboratory.intrinsic+json": {
              "type": "dataframe",
              "summary": "{\n  \"name\": \"df[df[\\\"Altura_cm\\\"]\",\n  \"rows\": 1,\n  \"fields\": [\n    {\n      \"column\": \"Especie\",\n      \"properties\": {\n        \"dtype\": \"string\",\n        \"num_unique_values\": 1,\n        \"samples\": [\n          \"Trigo\"\n        ],\n        \"semantic_type\": \"\",\n        \"description\": \"\"\n      }\n    },\n    {\n      \"column\": \"Altura_cm\",\n      \"properties\": {\n        \"dtype\": \"number\",\n        \"std\": null,\n        \"min\": null,\n        \"max\": null,\n        \"num_unique_values\": 0,\n        \"samples\": [],\n        \"semantic_type\": \"\",\n        \"description\": \"\"\n      }\n    },\n    {\n      \"column\": \"Idade_sem\",\n      \"properties\": {\n        \"dtype\": \"number\",\n        \"std\": null,\n        \"min\": 12.0,\n        \"max\": 12.0,\n        \"num_unique_values\": 1,\n        \"samples\": [],\n        \"semantic_type\": \"\",\n        \"description\": \"\"\n      }\n    },\n    {\n      \"column\": \"Folhas\",\n      \"properties\": {\n        \"dtype\": \"number\",\n        \"std\": null,\n        \"min\": 24.0,\n        \"max\": 24.0,\n        \"num_unique_values\": 1,\n        \"samples\": [],\n        \"semantic_type\": \"\",\n        \"description\": \"\"\n      }\n    }\n  ]\n}"
            }
          },
          "metadata": {},
          "execution_count": 380
        }
      ]
    },
    {
      "cell_type": "markdown",
      "source": [
        "Podemos utilizar a função `fillna()` para auxiliar a preencher os espaços nulos."
      ],
      "metadata": {
        "id": "dxTfdoIT4Y9M"
      }
    },
    {
      "cell_type": "code",
      "source": [
        "# Preencher valores ausentes com a média da coluna\n",
        "df[\"Altura_cm\"] = df[\"Altura_cm\"].fillna(df[\"Altura_cm\"].mean())"
      ],
      "metadata": {
        "id": "C7R_JlzFjkEM"
      },
      "execution_count": 381,
      "outputs": []
    },
    {
      "cell_type": "code",
      "source": [
        "# Preencher valores ausentes com um valor fixo\n",
        "df[\"Folhas\"] = df[\"Folhas\"].fillna(0)"
      ],
      "metadata": {
        "id": "WqFKfJqfjpWb"
      },
      "execution_count": 382,
      "outputs": []
    },
    {
      "cell_type": "code",
      "source": [
        "print(df)"
      ],
      "metadata": {
        "colab": {
          "base_uri": "https://localhost:8080/"
        },
        "id": "DQo-GNIajwB2",
        "outputId": "ff1ccbf8-dbf2-4438-a458-d3e82e1512a9"
      },
      "execution_count": 383,
      "outputs": [
        {
          "output_type": "stream",
          "name": "stdout",
          "text": [
            "  Especie   Altura_cm  Idade_sem  Folhas\n",
            "0  Mimosa   35.000000        5.0    10.0\n",
            "1   Trigo   88.333333       12.0    24.0\n",
            "2    Soja   80.000000        NaN    18.0\n",
            "3   Milho  150.000000       15.0     0.0\n"
          ]
        }
      ]
    },
    {
      "cell_type": "code",
      "source": [
        "df = pd.DataFrame(dados)"
      ],
      "metadata": {
        "id": "atXsuUshjsOn"
      },
      "execution_count": 384,
      "outputs": []
    },
    {
      "cell_type": "markdown",
      "source": [
        "Ou utilizar a função `dropna()` para remover as linhas com pelo menos um valor nulo"
      ],
      "metadata": {
        "id": "1hHW6t9A4kxg"
      }
    },
    {
      "cell_type": "code",
      "source": [
        "# Remover todas as linhas com pelo menos 1 valor ausente\n",
        "df_sem_nulos = df.dropna()"
      ],
      "metadata": {
        "id": "EerFNePajp16"
      },
      "execution_count": 385,
      "outputs": []
    },
    {
      "cell_type": "code",
      "source": [
        "print(df_sem_nulos)"
      ],
      "metadata": {
        "colab": {
          "base_uri": "https://localhost:8080/"
        },
        "id": "QLX8QVaAjyfN",
        "outputId": "1a3db584-9f17-4b93-dccd-e95dd3e9ada0"
      },
      "execution_count": 386,
      "outputs": [
        {
          "output_type": "stream",
          "name": "stdout",
          "text": [
            "  Especie  Altura_cm  Idade_sem  Folhas\n",
            "0  Mimosa       35.0        5.0    10.0\n"
          ]
        }
      ]
    },
    {
      "cell_type": "markdown",
      "source": [
        "Remoção de linhas duplicadas.\n",
        "Observe que o DataFrame abaixo possui uma linha duplicada"
      ],
      "metadata": {
        "id": "FXqIRcnRkpiJ"
      }
    },
    {
      "cell_type": "code",
      "source": [
        "df2 = pd.DataFrame({\n",
        "    \"Especie\": [\"Mimosa\", \"Trigo\", \"Soja\", \"Milho\", \"Trigo\"],\n",
        "    \"Altura_cm\": [35, np.nan, 80, 150, np.nan],\n",
        "    \"Idade_sem\": [5, 12, np.nan, 15, 12],\n",
        "    \"Folhas\": [10, 24, 18, np.nan, 24]\n",
        "})"
      ],
      "metadata": {
        "id": "3IjNp0LtknlF"
      },
      "execution_count": 387,
      "outputs": []
    },
    {
      "cell_type": "markdown",
      "source": [
        "O pandas consegue identificá-las e eliminá-las através da função `drop_duplicates()`"
      ],
      "metadata": {
        "id": "tMDqeYiT46-i"
      }
    },
    {
      "cell_type": "code",
      "source": [
        "df2 = df2.drop_duplicates()"
      ],
      "metadata": {
        "id": "S_jiXU8sksUv"
      },
      "execution_count": 388,
      "outputs": []
    },
    {
      "cell_type": "code",
      "source": [
        "print(df2)"
      ],
      "metadata": {
        "colab": {
          "base_uri": "https://localhost:8080/"
        },
        "id": "X5Yxzq7Ykxmh",
        "outputId": "1fa745ea-6176-4954-8209-72f57a7a4327"
      },
      "execution_count": 389,
      "outputs": [
        {
          "output_type": "stream",
          "name": "stdout",
          "text": [
            "  Especie  Altura_cm  Idade_sem  Folhas\n",
            "0  Mimosa       35.0        5.0    10.0\n",
            "1   Trigo        NaN       12.0    24.0\n",
            "2    Soja       80.0        NaN    18.0\n",
            "3   Milho      150.0       15.0     NaN\n"
          ]
        }
      ]
    },
    {
      "cell_type": "markdown",
      "source": [
        "### **🐧 Exercício: Explorando o Pandas com o Conjunto de Dados Palmer Penguins**\n",
        "\n",
        "O conjunto de dados Penguins contém informações sobre três espécies de pinguins coletadas nas ilhas do arquipélago Palmer, incluindo características físicas como o comprimento e a profundidade do bico, o comprimento da nadadeira e o peso corporal.\n",
        "\n",
        "URL para o CSV do conjunto de dados:\n",
        "https://raw.githubusercontent.com/allisonhorst/palmerpenguins/main/inst/extdata/penguins.csv\n",
        "\n",
        "1. Estamos interessados em saber qual é a massa corporal média dos pinguins de cada espécie.\n",
        "\n",
        "    **DICA:**\n",
        "    Utilize o conjunto de dados para calcular a média de body_mass_g agrupando por species e exiba o resultado em uma nova tabela ou com um print organizado no console.\n",
        "\n",
        "2. Também queremos investigar se existe diferença no comprimento médio do bico (bill_length_mm) entre pinguins machos e fêmeas.\n",
        "\n",
        "    **DICA:**\n",
        "    Agrupe os dados por sex e calcule a média dessa variável, exibindo o resultado.\n",
        "\n",
        "💡 Observação: Antes de iniciar as análises, verifique se há valores ausentes no conjunto de dados e, se necessário, trate-os adequadamente (por exemplo, removendo linhas com dados faltantes ou preenchendo valores)."
      ],
      "metadata": {
        "id": "02P-Y3BLRCDz"
      }
    },
    {
      "cell_type": "code",
      "source": [
        "import pandas as pd\n",
        "\n",
        "# 1. Leitura do conjunto de dados\n",
        "url = \"https://raw.githubusercontent.com/allisonhorst/palmerpenguins/main/inst/extdata/penguins.csv\"\n",
        "penguins = pd.read_csv(url)\n",
        "\n",
        "# 2. Verificação inicial do DataFrame\n",
        "print(\"Visualizando as 5 primeiras linhas:\")\n",
        "print(penguins.head(), \"\\n\")\n",
        "\n",
        "# 3. Verificar se há dados faltantes\n",
        "print(\"Contagem de valores ausentes em cada coluna:\")\n",
        "print(penguins.isnull().sum(), \"\\n\")\n",
        "\n",
        "# 4. Remover linhas com valores faltantes\n",
        "penguins = penguins.dropna()\n",
        "\n",
        "print(\"Após remoção, contagem de valores ausentes:\")\n",
        "print(penguins.isnull().sum(), \"\\n\")\n",
        "\n",
        "print(penguins.head(), \"\\n\")\n"
      ],
      "metadata": {
        "colab": {
          "base_uri": "https://localhost:8080/"
        },
        "id": "gn-t-btBVKvj",
        "outputId": "933e2ea8-088e-4a6c-8671-86443c58b3b1"
      },
      "execution_count": 390,
      "outputs": [
        {
          "output_type": "stream",
          "name": "stdout",
          "text": [
            "Visualizando as 5 primeiras linhas:\n",
            "  species     island  bill_length_mm  bill_depth_mm  flipper_length_mm  \\\n",
            "0  Adelie  Torgersen            39.1           18.7              181.0   \n",
            "1  Adelie  Torgersen            39.5           17.4              186.0   \n",
            "2  Adelie  Torgersen            40.3           18.0              195.0   \n",
            "3  Adelie  Torgersen             NaN            NaN                NaN   \n",
            "4  Adelie  Torgersen            36.7           19.3              193.0   \n",
            "\n",
            "   body_mass_g     sex  year  \n",
            "0       3750.0    male  2007  \n",
            "1       3800.0  female  2007  \n",
            "2       3250.0  female  2007  \n",
            "3          NaN     NaN  2007  \n",
            "4       3450.0  female  2007   \n",
            "\n",
            "Contagem de valores ausentes em cada coluna:\n",
            "species               0\n",
            "island                0\n",
            "bill_length_mm        2\n",
            "bill_depth_mm         2\n",
            "flipper_length_mm     2\n",
            "body_mass_g           2\n",
            "sex                  11\n",
            "year                  0\n",
            "dtype: int64 \n",
            "\n",
            "Após remoção, contagem de valores ausentes:\n",
            "species              0\n",
            "island               0\n",
            "bill_length_mm       0\n",
            "bill_depth_mm        0\n",
            "flipper_length_mm    0\n",
            "body_mass_g          0\n",
            "sex                  0\n",
            "year                 0\n",
            "dtype: int64 \n",
            "\n",
            "  species     island  bill_length_mm  bill_depth_mm  flipper_length_mm  \\\n",
            "0  Adelie  Torgersen            39.1           18.7              181.0   \n",
            "1  Adelie  Torgersen            39.5           17.4              186.0   \n",
            "2  Adelie  Torgersen            40.3           18.0              195.0   \n",
            "4  Adelie  Torgersen            36.7           19.3              193.0   \n",
            "5  Adelie  Torgersen            39.3           20.6              190.0   \n",
            "\n",
            "   body_mass_g     sex  year  \n",
            "0       3750.0    male  2007  \n",
            "1       3800.0  female  2007  \n",
            "2       3250.0  female  2007  \n",
            "4       3450.0  female  2007  \n",
            "5       3650.0    male  2007   \n",
            "\n"
          ]
        }
      ]
    },
    {
      "cell_type": "code",
      "source": [
        "# Parte 1\n",
        "\n",
        "adelie = penguins[penguins[\"species\"] == \"Adelie\"][\"body_mass_g\"].mean()\n",
        "chinstrap = penguins[penguins[\"species\"] == \"Chinstrap\"][\"body_mass_g\"].mean()\n",
        "gentoo = penguins[penguins[\"species\"] == \"Gentoo\"][\"body_mass_g\"].mean()\n",
        "\n",
        "print(\"Massa corporal média (g) por espécie:\")\n",
        "print(\"Adelie:\", adelie)\n",
        "print(\"Chinstrap:\", chinstrap)\n",
        "print(\"Gentoo:\", gentoo)"
      ],
      "metadata": {
        "colab": {
          "base_uri": "https://localhost:8080/"
        },
        "id": "g_BNeUovWLiT",
        "outputId": "01f1eb54-38c9-4e8b-c7c4-190ad83ddc86"
      },
      "execution_count": 391,
      "outputs": [
        {
          "output_type": "stream",
          "name": "stdout",
          "text": [
            "Massa corporal média (g) por espécie:\n",
            "Adelie: 3706.1643835616437\n",
            "Chinstrap: 3733.0882352941176\n",
            "Gentoo: 5092.436974789916\n"
          ]
        }
      ]
    },
    {
      "cell_type": "code",
      "source": [
        "# Parte 2\n",
        "female = penguins[penguins[\"sex\"] == \"female\"][\"bill_length_mm\"].mean()\n",
        "male = penguins[penguins[\"sex\"] == \"male\"][\"bill_length_mm\"].mean()\n",
        "\n",
        "print(\"\\nComprimento médio do bico (mm) por sexo:\")\n",
        "print(\"Fêmeas:\", female)\n",
        "print(\"Machos:\", male)"
      ],
      "metadata": {
        "colab": {
          "base_uri": "https://localhost:8080/"
        },
        "id": "SBSxrTncWOaZ",
        "outputId": "cd2e1cd7-a9f9-4789-c8aa-5919127a1b9c"
      },
      "execution_count": 392,
      "outputs": [
        {
          "output_type": "stream",
          "name": "stdout",
          "text": [
            "\n",
            "Comprimento médio do bico (mm) por sexo:\n",
            "Fêmeas: 42.096969696969694\n",
            "Machos: 45.85476190476191\n"
          ]
        }
      ]
    },
    {
      "cell_type": "markdown",
      "source": [
        "# **Biblioteca Matplotlib**\n",
        "\n",
        "A biblioteca `Matplotlib` é a ferramenta mais fundamental e amplamente utilizada para criar gráficos estáticos em Python. Ela oferece um controle incrível sobre cada aspecto de uma figura, desde os eixos e rótulos até cores e legendas. Permitindo criar gráficos com a qualidade exigida para artigos e apresentações."
      ],
      "metadata": {
        "id": "FABMIEb8Wvqq"
      }
    },
    {
      "cell_type": "markdown",
      "source": [
        "\n",
        "Primeiro, vamos importar o submódulo `pyplot` da `matplotlib`, A convenção é importá-lo com o apelido `plt`"
      ],
      "metadata": {
        "id": "phYLzRItXPWk"
      }
    },
    {
      "cell_type": "code",
      "source": [
        "import matplotlib\n",
        "import matplotlib.pyplot as plt\n",
        "import numpy as np\n",
        "\n",
        "# Esta \"palavra mágica\" faz com que os gráficos apareçam diretamente no notebook\n",
        "%matplotlib inline\n",
        "\n",
        "print(\"Matplotlib importado com sucesso! Versão\", matplotlib.__version__)"
      ],
      "metadata": {
        "colab": {
          "base_uri": "https://localhost:8080/"
        },
        "id": "XSyJ3xYAY60W",
        "outputId": "ef9158ba-d788-4854-817f-750e8bbe58f7"
      },
      "execution_count": 393,
      "outputs": [
        {
          "output_type": "stream",
          "name": "stdout",
          "text": [
            "Matplotlib importado com sucesso! Versão 3.10.0\n"
          ]
        }
      ]
    },
    {
      "cell_type": "markdown",
      "source": [
        "## Vamos analisar o dataset de Iris...\n",
        "\n",
        "Vamos ver se a largura da pétala acompanha o comprimento dela:"
      ],
      "metadata": {
        "id": "ucnRM65rhUNc"
      }
    },
    {
      "cell_type": "markdown",
      "source": [
        "### Gráfico de Linha (`plt.plot`)\n"
      ],
      "metadata": {
        "id": "uxR2kJW_ZSZJ"
      }
    },
    {
      "cell_type": "code",
      "source": [
        "# Ordenando o DataFrame pela coluna que irá para o eixo X\n",
        "df_sorted = iris.sort_values(by='petal_length')\n",
        "\n",
        "plt.figure(figsize=(12, 6))\n",
        "# Eixo X, Eixo Y\n",
        "plt.plot(df_sorted['petal_length'], df_sorted['petal_width'])\n",
        "\n",
        "plt.title('Largura vs. Comprimento da Pétala (Ordenado)', fontsize=16)\n",
        "plt.xlabel('Comprimento da Pétala (cm) - Ordenado', fontsize=12)\n",
        "plt.ylabel('Largura da Pétala (cm)', fontsize=12)\n",
        "plt.grid(True, linestyle=':')\n",
        "plt.show()"
      ],
      "metadata": {
        "colab": {
          "base_uri": "https://localhost:8080/",
          "height": 572
        },
        "id": "lAeDnq9oLeke",
        "outputId": "ea794069-258b-4f34-8c74-0c1b9e12af0a"
      },
      "execution_count": 394,
      "outputs": [
        {
          "output_type": "display_data",
          "data": {
            "text/plain": [
              "<Figure size 1200x600 with 1 Axes>"
            ],
            "image/png": "[encoded data removed]"
          },
          "metadata": {}
        }
      ]
    },
    {
      "cell_type": "markdown",
      "source": [
        "Vamos analisar a dispersão das áreas das pétalas e sépalas entre as espécies:"
      ],
      "metadata": {
        "id": "rYt1eWrcR-Gg"
      }
    },
    {
      "cell_type": "markdown",
      "source": [
        "##  Gráfico de Dispersão (`plt.scatter`)\n",
        "Gráficos de dispersão (scatter plots) são ideais para investigar a relação entre duas variáveis numéricas."
      ],
      "metadata": {
        "id": "TCBjOGWkcKBx"
      }
    },
    {
      "cell_type": "code",
      "source": [
        "plt.figure(figsize=(10, 7))\n",
        "\n",
        "species_name = \"setosa\"\n",
        "# Plotar os pontos, colorindo por espécie\n",
        "subset = iris[iris['species'] == species_name]\n",
        "plt.scatter(subset['petal_area'], subset['sepal_area'],\n",
        "            c=\"red\", label=species_name)\n",
        "\n",
        "species_name = \"versicolor\"\n",
        "subset = iris[iris['species'] == species_name]\n",
        "plt.scatter(subset['petal_area'], subset['sepal_area'],\n",
        "            c=\"green\", label=species_name)\n",
        "\n",
        "species_name = \"virginica\"\n",
        "subset = iris[iris['species'] == species_name]\n",
        "plt.scatter(subset['petal_area'], subset['sepal_area'],\n",
        "            c=\"blue\", label=species_name)\n",
        "\n",
        "plt.title('Comprimento vs. Largura da Pétala por Espécie de Iris', fontsize=16)\n",
        "plt.xlabel('Área da Pétala (cm)', fontsize=12)\n",
        "plt.ylabel('Área da Sépala (cm)', fontsize=12)\n",
        "plt.legend()\n",
        "plt.grid(True, linestyle='--')\n",
        "plt.show()"
      ],
      "metadata": {
        "colab": {
          "base_uri": "https://localhost:8080/",
          "height": 649
        },
        "id": "MytVflI7M_2-",
        "outputId": "b6b4101b-f06b-4564-bfc9-928a8def146d"
      },
      "execution_count": 395,
      "outputs": [
        {
          "output_type": "display_data",
          "data": {
            "text/plain": [
              "<Figure size 1000x700 with 1 Axes>"
            ],
            "image/png": "[encoded data removed]"
          },
          "metadata": {}
        }
      ]
    },
    {
      "cell_type": "markdown",
      "source": [
        "E por último, faremos uma comparação do comprimento médio da sépala entre as espécies:"
      ],
      "metadata": {
        "id": "tD-mAN34R6CE"
      }
    },
    {
      "cell_type": "markdown",
      "source": [
        "## Gráfico de Barras (`plt.bar`)\n",
        "Gráficos de barras são excelentes para comparar valores entre diferentes categorias."
      ],
      "metadata": {
        "id": "GxFOAalwcRzG"
      }
    },
    {
      "cell_type": "code",
      "source": [
        "# Calcular a média do comprimento da sépala por espécie\n",
        "media_sepal_length = iris.groupby('species')['sepal_length'].mean()\n",
        "\n",
        "plt.figure(figsize=(8, 6))\n",
        "\n",
        "media_sepal_length.plot(kind='bar', color=['red', 'green', 'blue'], alpha=0.7)\n",
        "\n",
        "plt.title('Comprimento Médio da Sépala por Espécie', fontsize=16)\n",
        "plt.xlabel('Espécie', fontsize=12)\n",
        "plt.ylabel('Comprimento Médio da Sépala (cm)', fontsize=12)\n",
        "plt.grid(True, linestyle='--', axis=\"y\")\n",
        "plt.xticks(rotation=0) # Mantém os nomes das espécies na horizontal\n",
        "plt.show()"
      ],
      "metadata": {
        "colab": {
          "base_uri": "https://localhost:8080/",
          "height": 572
        },
        "id": "jOTFzUPtNEcy",
        "outputId": "24948620-98b3-45e2-fa3d-2954c7a170fb"
      },
      "execution_count": 396,
      "outputs": [
        {
          "output_type": "display_data",
          "data": {
            "text/plain": [
              "<Figure size 800x600 with 1 Axes>"
            ],
            "image/png": "[encoded data removed]"
          },
          "metadata": {}
        }
      ]
    },
    {
      "cell_type": "markdown",
      "source": [
        "### **Exercício Prático: Análise Morfológica de Pinguins na Antártida**\n",
        "\n",
        "Imagine que você é um(a) biólogo(a) pesquisador(a) trabalhando na Antártida. Sua equipe coletou dados valiosos de três espécies de pinguins (_Adelie_, _Chinstrap_ e _Gentoo_) que vivem em três ilhas diferentes no arquipélago Palmer. Seguindo com o mesmo Medidas corporais, como as dimensões do bico, o comprimento da nadadeira e a massa corporal, são cruciais para entender como essas espécies se adaptaram e se diferenciam.\n",
        "\n",
        "Sua tarefa é usar a visualização de dados para encontrar padrões que ajudem a diferenciar as espécies e a entender melhor sua morfologia e distribuição:\n",
        "- 1º: Limpar registros com dados nulos ou inconsistentes;\n",
        "- 2º: Verifique qual das espécies de pinguins é em média mais pesada que as outras e forneça uma visualização;\n",
        "- 3º: Compare a distribuição dos comprimentos dos bicos pelas profundidades dos bicos entre espécies;\n",
        "- 4º: Verifique se há aumento do tamanho da asa conforme o aumento do peso da espécie identificada como mais pesada em 2ª.\n",
        "\n",
        "O dataset está disponível na url: https://raw.githubusercontent.com/allisonhorst/palmerpenguins/main/inst/extdata/penguins.csv"
      ],
      "metadata": {
        "id": "z1CurplUQact"
      }
    },
    {
      "cell_type": "code",
      "source": [
        "# Configuração e Carregamento\n",
        "import pandas as pd\n",
        "import matplotlib.pyplot as plt"
      ],
      "metadata": {
        "id": "ZhLPfPqPeDLi"
      },
      "execution_count": 397,
      "outputs": []
    },
    {
      "cell_type": "code",
      "source": [
        "penguins_raw = pd.read_csv(\"https://raw.githubusercontent.com/allisonhorst/palmerpenguins/main/inst/extdata/penguins.csv\")"
      ],
      "metadata": {
        "id": "QKPp44JEa8DD"
      },
      "execution_count": 398,
      "outputs": []
    },
    {
      "cell_type": "code",
      "source": [
        "penguins_raw.head()"
      ],
      "metadata": {
        "colab": {
          "base_uri": "https://localhost:8080/",
          "height": 206
        },
        "id": "qcBYhCf5anSP",
        "outputId": "9f6dd59e-165d-4966-e71b-1e50d5494329"
      },
      "execution_count": 399,
      "outputs": [
        {
          "output_type": "execute_result",
          "data": {
            "text/plain": [
              "  species     island  bill_length_mm  bill_depth_mm  flipper_length_mm  \\\n",
              "0  Adelie  Torgersen            39.1           18.7              181.0   \n",
              "1  Adelie  Torgersen            39.5           17.4              186.0   \n",
              "2  Adelie  Torgersen            40.3           18.0              195.0   \n",
              "3  Adelie  Torgersen             NaN            NaN                NaN   \n",
              "4  Adelie  Torgersen            36.7           19.3              193.0   \n",
              "\n",
              "   body_mass_g     sex  year  \n",
              "0       3750.0    male  2007  \n",
              "1       3800.0  female  2007  \n",
              "2       3250.0  female  2007  \n",
              "3          NaN     NaN  2007  \n",
              "4       3450.0  female  2007  "
            ],
            "text/html": [
              "\n",
              "  <div id=\"df-cc2bbed3-0f1f-4c97-8d15-2c030554e6df\" class=\"colab-df-container\">\n",
              "    <div>\n",
              "<style scoped>\n",
              "    .dataframe tbody tr th:only-of-type {\n",
              "        vertical-align: middle;\n",
              "    }\n",
              "\n",
              "    .dataframe tbody tr th {\n",
              "        vertical-align: top;\n",
              "    }\n",
              "\n",
              "    .dataframe thead th {\n",
              "        text-align: right;\n",
              "    }\n",
              "</style>\n",
              "<table border=\"1\" class=\"dataframe\">\n",
              "  <thead>\n",
              "    <tr style=\"text-align: right;\">\n",
              "      <th></th>\n",
              "      <th>species</th>\n",
              "      <th>island</th>\n",
              "      <th>bill_length_mm</th>\n",
              "      <th>bill_depth_mm</th>\n",
              "      <th>flipper_length_mm</th>\n",
              "      <th>body_mass_g</th>\n",
              "      <th>sex</th>\n",
              "      <th>year</th>\n",
              "    </tr>\n",
              "  </thead>\n",
              "  <tbody>\n",
              "    <tr>\n",
              "      <th>0</th>\n",
              "      <td>Adelie</td>\n",
              "      <td>Torgersen</td>\n",
              "      <td>39.1</td>\n",
              "      <td>18.7</td>\n",
              "      <td>181.0</td>\n",
              "      <td>3750.0</td>\n",
              "      <td>male</td>\n",
              "      <td>2007</td>\n",
              "    </tr>\n",
              "    <tr>\n",
              "      <th>1</th>\n",
              "      <td>Adelie</td>\n",
              "      <td>Torgersen</td>\n",
              "      <td>39.5</td>\n",
              "      <td>17.4</td>\n",
              "      <td>186.0</td>\n",
              "      <td>3800.0</td>\n",
              "      <td>female</td>\n",
              "      <td>2007</td>\n",
              "    </tr>\n",
              "    <tr>\n",
              "      <th>2</th>\n",
              "      <td>Adelie</td>\n",
              "      <td>Torgersen</td>\n",
              "      <td>40.3</td>\n",
              "      <td>18.0</td>\n",
              "      <td>195.0</td>\n",
              "      <td>3250.0</td>\n",
              "      <td>female</td>\n",
              "      <td>2007</td>\n",
              "    </tr>\n",
              "    <tr>\n",
              "      <th>3</th>\n",
              "      <td>Adelie</td>\n",
              "      <td>Torgersen</td>\n",
              "      <td>NaN</td>\n",
              "      <td>NaN</td>\n",
              "      <td>NaN</td>\n",
              "      <td>NaN</td>\n",
              "      <td>NaN</td>\n",
              "      <td>2007</td>\n",
              "    </tr>\n",
              "    <tr>\n",
              "      <th>4</th>\n",
              "      <td>Adelie</td>\n",
              "      <td>Torgersen</td>\n",
              "      <td>36.7</td>\n",
              "      <td>19.3</td>\n",
              "      <td>193.0</td>\n",
              "      <td>3450.0</td>\n",
              "      <td>female</td>\n",
              "      <td>2007</td>\n",
              "    </tr>\n",
              "  </tbody>\n",
              "</table>\n",
              "</div>\n",
              "    <div class=\"colab-df-buttons\">\n",
              "\n",
              "  <div class=\"colab-df-container\">\n",
              "    <button class=\"colab-df-convert\" onclick=\"convertToInteractive('df-cc2bbed3-0f1f-4c97-8d15-2c030554e6df')\"\n",
              "            title=\"Convert this dataframe to an interactive table.\"\n",
              "            style=\"display:none;\">\n",
              "\n",
              "  <svg xmlns=\"http://www.w3.org/2000/svg\" height=\"24px\" viewBox=\"0 -960 960 960\">\n",
              "    <path d=\"M120-120v-720h720v720H120Zm60-500h600v-160H180v160Zm220 220h160v-160H400v160Zm0 220h160v-160H400v160ZM180-400h160v-160H180v160Zm440 0h160v-160H620v160ZM180-180h160v-160H180v160Zm440 0h160v-160H620v160Z\"/>\n",
              "  </svg>\n",
              "    </button>\n",
              "\n",
              "  <style>\n",
              "    .colab-df-container {\n",
              "      display:flex;\n",
              "      gap: 12px;\n",
              "    }\n",
              "\n",
              "    .colab-df-convert {\n",
              "      background-color: #E8F0FE;\n",
              "      border: none;\n",
              "      border-radius: 50%;\n",
              "      cursor: pointer;\n",
              "      display: none;\n",
              "      fill: #1967D2;\n",
              "      height: 32px;\n",
              "      padding: 0 0 0 0;\n",
              "      width: 32px;\n",
              "    }\n",
              "\n",
              "    .colab-df-convert:hover {\n",
              "      background-color: #E2EBFA;\n",
              "      box-shadow: 0px 1px 2px rgba(60, 64, 67, 0.3), 0px 1px 3px 1px rgba(60, 64, 67, 0.15);\n",
              "      fill: #174EA6;\n",
              "    }\n",
              "\n",
              "    .colab-df-buttons div {\n",
              "      margin-bottom: 4px;\n",
              "    }\n",
              "\n",
              "    [theme=dark] .colab-df-convert {\n",
              "      background-color: #3B4455;\n",
              "      fill: #D2E3FC;\n",
              "    }\n",
              "\n",
              "    [theme=dark] .colab-df-convert:hover {\n",
              "      background-color: #434B5C;\n",
              "      box-shadow: 0px 1px 3px 1px rgba(0, 0, 0, 0.15);\n",
              "      filter: drop-shadow(0px 1px 2px rgba(0, 0, 0, 0.3));\n",
              "      fill: #FFFFFF;\n",
              "    }\n",
              "  </style>\n",
              "\n",
              "    <script>\n",
              "      const buttonEl =\n",
              "        document.querySelector('#df-cc2bbed3-0f1f-4c97-8d15-2c030554e6df button.colab-df-convert');\n",
              "      buttonEl.style.display =\n",
              "        google.colab.kernel.accessAllowed ? 'block' : 'none';\n",
              "\n",
              "      async function convertToInteractive(key) {\n",
              "        const element = document.querySelector('#df-cc2bbed3-0f1f-4c97-8d15-2c030554e6df');\n",
              "        const dataTable =\n",
              "          await google.colab.kernel.invokeFunction('convertToInteractive',\n",
              "                                                    [key], {});\n",
              "        if (!dataTable) return;\n",
              "\n",
              "        const docLinkHtml = 'Like what you see? Visit the ' +\n",
              "          '<a target=\"_blank\" href=https://colab.research.google.com/notebooks/data_table.ipynb>data table notebook</a>'\n",
              "          + ' to learn more about interactive tables.';\n",
              "        element.innerHTML = '';\n",
              "        dataTable['output_type'] = 'display_data';\n",
              "        await google.colab.output.renderOutput(dataTable, element);\n",
              "        const docLink = document.createElement('div');\n",
              "        docLink.innerHTML = docLinkHtml;\n",
              "        element.appendChild(docLink);\n",
              "      }\n",
              "    </script>\n",
              "  </div>\n",
              "\n",
              "\n",
              "    <div id=\"df-59f7bc02-18ee-4ae4-9a04-a22b75958869\">\n",
              "      <button class=\"colab-df-quickchart\" onclick=\"quickchart('df-59f7bc02-18ee-4ae4-9a04-a22b75958869')\"\n",
              "                title=\"Suggest charts\"\n",
              "                style=\"display:none;\">\n",
              "\n",
              "<svg xmlns=\"http://www.w3.org/2000/svg\" height=\"24px\"viewBox=\"0 0 24 24\"\n",
              "     width=\"24px\">\n",
              "    <g>\n",
              "        <path d=\"M19 3H5c-1.1 0-2 .9-2 2v14c0 1.1.9 2 2 2h14c1.1 0 2-.9 2-2V5c0-1.1-.9-2-2-2zM9 17H7v-7h2v7zm4 0h-2V7h2v10zm4 0h-2v-4h2v4z\"/>\n",
              "    </g>\n",
              "</svg>\n",
              "      </button>\n",
              "\n",
              "<style>\n",
              "  .colab-df-quickchart {\n",
              "      --bg-color: #E8F0FE;\n",
              "      --fill-color: #1967D2;\n",
              "      --hover-bg-color: #E2EBFA;\n",
              "      --hover-fill-color: #174EA6;\n",
              "      --disabled-fill-color: #AAA;\n",
              "      --disabled-bg-color: #DDD;\n",
              "  }\n",
              "\n",
              "  [theme=dark] .colab-df-quickchart {\n",
              "      --bg-color: #3B4455;\n",
              "      --fill-color: #D2E3FC;\n",
              "      --hover-bg-color: #434B5C;\n",
              "      --hover-fill-color: #FFFFFF;\n",
              "      --disabled-bg-color: #3B4455;\n",
              "      --disabled-fill-color: #666;\n",
              "  }\n",
              "\n",
              "  .colab-df-quickchart {\n",
              "    background-color: var(--bg-color);\n",
              "    border: none;\n",
              "    border-radius: 50%;\n",
              "    cursor: pointer;\n",
              "    display: none;\n",
              "    fill: var(--fill-color);\n",
              "    height: 32px;\n",
              "    padding: 0;\n",
              "    width: 32px;\n",
              "  }\n",
              "\n",
              "  .colab-df-quickchart:hover {\n",
              "    background-color: var(--hover-bg-color);\n",
              "    box-shadow: 0 1px 2px rgba(60, 64, 67, 0.3), 0 1px 3px 1px rgba(60, 64, 67, 0.15);\n",
              "    fill: var(--button-hover-fill-color);\n",
              "  }\n",
              "\n",
              "  .colab-df-quickchart-complete:disabled,\n",
              "  .colab-df-quickchart-complete:disabled:hover {\n",
              "    background-color: var(--disabled-bg-color);\n",
              "    fill: var(--disabled-fill-color);\n",
              "    box-shadow: none;\n",
              "  }\n",
              "\n",
              "  .colab-df-spinner {\n",
              "    border: 2px solid var(--fill-color);\n",
              "    border-color: transparent;\n",
              "    border-bottom-color: var(--fill-color);\n",
              "    animation:\n",
              "      spin 1s steps(1) infinite;\n",
              "  }\n",
              "\n",
              "  @keyframes spin {\n",
              "    0% {\n",
              "      border-color: transparent;\n",
              "      border-bottom-color: var(--fill-color);\n",
              "      border-left-color: var(--fill-color);\n",
              "    }\n",
              "    20% {\n",
              "      border-color: transparent;\n",
              "      border-left-color: var(--fill-color);\n",
              "      border-top-color: var(--fill-color);\n",
              "    }\n",
              "    30% {\n",
              "      border-color: transparent;\n",
              "      border-left-color: var(--fill-color);\n",
              "      border-top-color: var(--fill-color);\n",
              "      border-right-color: var(--fill-color);\n",
              "    }\n",
              "    40% {\n",
              "      border-color: transparent;\n",
              "      border-right-color: var(--fill-color);\n",
              "      border-top-color: var(--fill-color);\n",
              "    }\n",
              "    60% {\n",
              "      border-color: transparent;\n",
              "      border-right-color: var(--fill-color);\n",
              "    }\n",
              "    80% {\n",
              "      border-color: transparent;\n",
              "      border-right-color: var(--fill-color);\n",
              "      border-bottom-color: var(--fill-color);\n",
              "    }\n",
              "    90% {\n",
              "      border-color: transparent;\n",
              "      border-bottom-color: var(--fill-color);\n",
              "    }\n",
              "  }\n",
              "</style>\n",
              "\n",
              "      <script>\n",
              "        async function quickchart(key) {\n",
              "          const quickchartButtonEl =\n",
              "            document.querySelector('#' + key + ' button');\n",
              "          quickchartButtonEl.disabled = true;  // To prevent multiple clicks.\n",
              "          quickchartButtonEl.classList.add('colab-df-spinner');\n",
              "          try {\n",
              "            const charts = await google.colab.kernel.invokeFunction(\n",
              "                'suggestCharts', [key], {});\n",
              "          } catch (error) {\n",
              "            console.error('Error during call to suggestCharts:', error);\n",
              "          }\n",
              "          quickchartButtonEl.classList.remove('colab-df-spinner');\n",
              "          quickchartButtonEl.classList.add('colab-df-quickchart-complete');\n",
              "        }\n",
              "        (() => {\n",
              "          let quickchartButtonEl =\n",
              "            document.querySelector('#df-59f7bc02-18ee-4ae4-9a04-a22b75958869 button');\n",
              "          quickchartButtonEl.style.display =\n",
              "            google.colab.kernel.accessAllowed ? 'block' : 'none';\n",
              "        })();\n",
              "      </script>\n",
              "    </div>\n",
              "\n",
              "    </div>\n",
              "  </div>\n"
            ],
            "application/vnd.google.colaboratory.intrinsic+json": {
              "type": "dataframe",
              "variable_name": "penguins_raw",
              "summary": "{\n  \"name\": \"penguins_raw\",\n  \"rows\": 344,\n  \"fields\": [\n    {\n      \"column\": \"species\",\n      \"properties\": {\n        \"dtype\": \"category\",\n        \"num_unique_values\": 3,\n        \"samples\": [\n          \"Adelie\",\n          \"Gentoo\",\n          \"Chinstrap\"\n        ],\n        \"semantic_type\": \"\",\n        \"description\": \"\"\n      }\n    },\n    {\n      \"column\": \"island\",\n      \"properties\": {\n        \"dtype\": \"category\",\n        \"num_unique_values\": 3,\n        \"samples\": [\n          \"Torgersen\",\n          \"Biscoe\",\n          \"Dream\"\n        ],\n        \"semantic_type\": \"\",\n        \"description\": \"\"\n      }\n    },\n    {\n      \"column\": \"bill_length_mm\",\n      \"properties\": {\n        \"dtype\": \"number\",\n        \"std\": 5.4595837139265315,\n        \"min\": 32.1,\n        \"max\": 59.6,\n        \"num_unique_values\": 164,\n        \"samples\": [\n          49.4,\n          43.8,\n          43.4\n        ],\n        \"semantic_type\": \"\",\n        \"description\": \"\"\n      }\n    },\n    {\n      \"column\": \"bill_depth_mm\",\n      \"properties\": {\n        \"dtype\": \"number\",\n        \"std\": 1.9747931568167818,\n        \"min\": 13.1,\n        \"max\": 21.5,\n        \"num_unique_values\": 80,\n        \"samples\": [\n          16.9,\n          18.7,\n          18.6\n        ],\n        \"semantic_type\": \"\",\n        \"description\": \"\"\n      }\n    },\n    {\n      \"column\": \"flipper_length_mm\",\n      \"properties\": {\n        \"dtype\": \"number\",\n        \"std\": 14.061713679356888,\n        \"min\": 172.0,\n        \"max\": 231.0,\n        \"num_unique_values\": 55,\n        \"samples\": [\n          201.0,\n          180.0,\n          211.0\n        ],\n        \"semantic_type\": \"\",\n        \"description\": \"\"\n      }\n    },\n    {\n      \"column\": \"body_mass_g\",\n      \"properties\": {\n        \"dtype\": \"number\",\n        \"std\": 801.9545356980958,\n        \"min\": 2700.0,\n        \"max\": 6300.0,\n        \"num_unique_values\": 94,\n        \"samples\": [\n          4350.0,\n          4150.0,\n          5700.0\n        ],\n        \"semantic_type\": \"\",\n        \"description\": \"\"\n      }\n    },\n    {\n      \"column\": \"sex\",\n      \"properties\": {\n        \"dtype\": \"category\",\n        \"num_unique_values\": 2,\n        \"samples\": [\n          \"female\",\n          \"male\"\n        ],\n        \"semantic_type\": \"\",\n        \"description\": \"\"\n      }\n    },\n    {\n      \"column\": \"year\",\n      \"properties\": {\n        \"dtype\": \"number\",\n        \"std\": 0,\n        \"min\": 2007,\n        \"max\": 2009,\n        \"num_unique_values\": 3,\n        \"samples\": [\n          2007,\n          2008\n        ],\n        \"semantic_type\": \"\",\n        \"description\": \"\"\n      }\n    }\n  ]\n}"
            }
          },
          "metadata": {},
          "execution_count": 399
        }
      ]
    },
    {
      "cell_type": "code",
      "source": [
        "# Análise e Limpeza\n",
        "penguins_raw.info()"
      ],
      "metadata": {
        "colab": {
          "base_uri": "https://localhost:8080/"
        },
        "id": "C-ZTnChgeNU7",
        "outputId": "8ad105ec-e39f-49f1-a814-3f5543866ead"
      },
      "execution_count": 400,
      "outputs": [
        {
          "output_type": "stream",
          "name": "stdout",
          "text": [
            "<class 'pandas.core.frame.DataFrame'>\n",
            "RangeIndex: 344 entries, 0 to 343\n",
            "Data columns (total 8 columns):\n",
            " #   Column             Non-Null Count  Dtype  \n",
            "---  ------             --------------  -----  \n",
            " 0   species            344 non-null    object \n",
            " 1   island             344 non-null    object \n",
            " 2   bill_length_mm     342 non-null    float64\n",
            " 3   bill_depth_mm      342 non-null    float64\n",
            " 4   flipper_length_mm  342 non-null    float64\n",
            " 5   body_mass_g        342 non-null    float64\n",
            " 6   sex                333 non-null    object \n",
            " 7   year               344 non-null    int64  \n",
            "dtypes: float64(4), int64(1), object(3)\n",
            "memory usage: 21.6+ KB\n"
          ]
        }
      ]
    },
    {
      "cell_type": "code",
      "source": [
        "print(\"\\n--- Dados Faltantes Antes da Limpeza ---\")\n",
        "penguins_raw.isnull().sum()"
      ],
      "metadata": {
        "colab": {
          "base_uri": "https://localhost:8080/",
          "height": 370
        },
        "id": "fiJvhOW5eWtA",
        "outputId": "ee452909-24c9-40f8-e2d8-d2d43932b5d3"
      },
      "execution_count": 401,
      "outputs": [
        {
          "output_type": "stream",
          "name": "stdout",
          "text": [
            "\n",
            "--- Dados Faltantes Antes da Limpeza ---\n"
          ]
        },
        {
          "output_type": "execute_result",
          "data": {
            "text/plain": [
              "species               0\n",
              "island                0\n",
              "bill_length_mm        2\n",
              "bill_depth_mm         2\n",
              "flipper_length_mm     2\n",
              "body_mass_g           2\n",
              "sex                  11\n",
              "year                  0\n",
              "dtype: int64"
            ],
            "text/html": [
              "<div>\n",
              "<style scoped>\n",
              "    .dataframe tbody tr th:only-of-type {\n",
              "        vertical-align: middle;\n",
              "    }\n",
              "\n",
              "    .dataframe tbody tr th {\n",
              "        vertical-align: top;\n",
              "    }\n",
              "\n",
              "    .dataframe thead th {\n",
              "        text-align: right;\n",
              "    }\n",
              "</style>\n",
              "<table border=\"1\" class=\"dataframe\">\n",
              "  <thead>\n",
              "    <tr style=\"text-align: right;\">\n",
              "      <th></th>\n",
              "      <th>0</th>\n",
              "    </tr>\n",
              "  </thead>\n",
              "  <tbody>\n",
              "    <tr>\n",
              "      <th>species</th>\n",
              "      <td>0</td>\n",
              "    </tr>\n",
              "    <tr>\n",
              "      <th>island</th>\n",
              "      <td>0</td>\n",
              "    </tr>\n",
              "    <tr>\n",
              "      <th>bill_length_mm</th>\n",
              "      <td>2</td>\n",
              "    </tr>\n",
              "    <tr>\n",
              "      <th>bill_depth_mm</th>\n",
              "      <td>2</td>\n",
              "    </tr>\n",
              "    <tr>\n",
              "      <th>flipper_length_mm</th>\n",
              "      <td>2</td>\n",
              "    </tr>\n",
              "    <tr>\n",
              "      <th>body_mass_g</th>\n",
              "      <td>2</td>\n",
              "    </tr>\n",
              "    <tr>\n",
              "      <th>sex</th>\n",
              "      <td>11</td>\n",
              "    </tr>\n",
              "    <tr>\n",
              "      <th>year</th>\n",
              "      <td>0</td>\n",
              "    </tr>\n",
              "  </tbody>\n",
              "</table>\n",
              "</div><br><label><b>dtype:</b> int64</label>"
            ]
          },
          "metadata": {},
          "execution_count": 401
        }
      ]
    },
    {
      "cell_type": "code",
      "source": [
        "# Removendo linhas com qualquer valor nulo\n",
        "penguins = penguins_raw.dropna().copy()\n",
        "\n",
        "print(\"\\n--- Informações Após a Limpeza ---\")\n",
        "penguins.info()"
      ],
      "metadata": {
        "colab": {
          "base_uri": "https://localhost:8080/"
        },
        "id": "tF9rDIdVejO8",
        "outputId": "3a1b64d9-5067-439e-9fa3-a50d0c6dc450"
      },
      "execution_count": 402,
      "outputs": [
        {
          "output_type": "stream",
          "name": "stdout",
          "text": [
            "\n",
            "--- Informações Após a Limpeza ---\n",
            "<class 'pandas.core.frame.DataFrame'>\n",
            "Index: 333 entries, 0 to 343\n",
            "Data columns (total 8 columns):\n",
            " #   Column             Non-Null Count  Dtype  \n",
            "---  ------             --------------  -----  \n",
            " 0   species            333 non-null    object \n",
            " 1   island             333 non-null    object \n",
            " 2   bill_length_mm     333 non-null    float64\n",
            " 3   bill_depth_mm      333 non-null    float64\n",
            " 4   flipper_length_mm  333 non-null    float64\n",
            " 5   body_mass_g        333 non-null    float64\n",
            " 6   sex                333 non-null    object \n",
            " 7   year               333 non-null    int64  \n",
            "dtypes: float64(4), int64(1), object(3)\n",
            "memory usage: 23.4+ KB\n"
          ]
        }
      ]
    },
    {
      "cell_type": "code",
      "source": [
        "penguins['species'].unique()"
      ],
      "metadata": {
        "colab": {
          "base_uri": "https://localhost:8080/"
        },
        "id": "0ISkuGNqggNN",
        "outputId": "1f748ab1-6e0c-4d37-abea-a38948c3df79"
      },
      "execution_count": 403,
      "outputs": [
        {
          "output_type": "execute_result",
          "data": {
            "text/plain": [
              "array(['Adelie', 'Gentoo', 'Chinstrap'], dtype=object)"
            ]
          },
          "metadata": {},
          "execution_count": 403
        }
      ]
    },
    {
      "cell_type": "code",
      "source": [
        "# Calcular a massa média por espécie\n",
        "massa_media_especie = penguins.groupby('species')['body_mass_g'].mean()\n",
        "\n",
        "plt.figure(figsize=(8, 6))\n",
        "plt.bar(massa_media_especie.index, massa_media_especie.values, color=['red', 'green', 'blue'])\n",
        "plt.title('Massa Corporal Média por Espécie de Pinguim', fontsize=16)\n",
        "plt.xlabel('Espécie', fontsize=12)\n",
        "plt.ylabel('Massa Corporal Média (g)', fontsize=12)\n",
        "plt.grid(axis='y', linestyle='--')\n",
        "plt.show()"
      ],
      "metadata": {
        "colab": {
          "base_uri": "https://localhost:8080/",
          "height": 572
        },
        "id": "RGkGbaTkeomE",
        "outputId": "d2886af7-1085-4f8f-9342-5fad9304d14f"
      },
      "execution_count": 404,
      "outputs": [
        {
          "output_type": "display_data",
          "data": {
            "text/plain": [
              "<Figure size 800x600 with 1 Axes>"
            ],
            "image/png": "[encoded data removed]"
          },
          "metadata": {}
        }
      ]
    },
    {
      "cell_type": "code",
      "source": [
        "plt.figure(figsize=(12, 8))\n",
        "\n",
        "especie = 'Adelie'\n",
        "subset = penguins[penguins['species'] == especie] # Filtar o dataset pela espécie\n",
        "plt.scatter(subset['bill_length_mm'], subset['bill_depth_mm'], # Eixo X e Y\n",
        "            c='red', label=especie) # Legendas\n",
        "\n",
        "especie = 'Chinstrap'\n",
        "subset = penguins[penguins['species'] == especie]\n",
        "plt.scatter(subset['bill_length_mm'], subset['bill_depth_mm'],\n",
        "            c='green', label=especie)\n",
        "\n",
        "especie = 'Gentoo'\n",
        "subset = penguins[penguins['species'] == especie]\n",
        "plt.scatter(subset['bill_length_mm'], subset['bill_depth_mm'],\n",
        "            c='blue', label=especie)\n",
        "\n",
        "plt.title('Comprimento vs. Profundidade do Bico por Espécie', fontsize=16)\n",
        "plt.xlabel('Comprimento do Bico (mm)', fontsize=12)\n",
        "plt.ylabel('Profundidade do Bico (mm)', fontsize=12)\n",
        "plt.legend()\n",
        "plt.grid(True, linestyle='--')\n",
        "plt.show()"
      ],
      "metadata": {
        "colab": {
          "base_uri": "https://localhost:8080/",
          "height": 726
        },
        "id": "7FFKJXOCe13C",
        "outputId": "1b5c354c-ac69-4c3f-a67a-86435b45351c"
      },
      "execution_count": 405,
      "outputs": [
        {
          "output_type": "display_data",
          "data": {
            "text/plain": [
              "<Figure size 1200x800 with 1 Axes>"
            ],
            "image/png": "[encoded data removed]"
          },
          "metadata": {}
        }
      ]
    },
    {
      "cell_type": "code",
      "source": [
        "# Ordenar o DataFrame pela coluna que irá para o eixo X\n",
        "gentoo = penguins[penguins[\"species\"] == \"Gentoo\"]\n",
        "gentoo_sorted = gentoo.sort_values(by='body_mass_g')\n",
        "\n",
        "plt.figure(figsize=(12, 6))\n",
        "\n",
        "# Eixo X: Massa corporal em ordem crescente\n",
        "# Eixo Y: Comprimento do bico correspondente\n",
        "plt.plot(gentoo_sorted['body_mass_g'], gentoo_sorted['flipper_length_mm'])\n",
        "\n",
        "plt.title('Comprimento do Nadadeira vs. Massa Corporal', fontsize=16)\n",
        "plt.xlabel('Massa Corporal (g) - Ordenado', fontsize=12)\n",
        "plt.ylabel('Comprimento do Bico (mm)', fontsize=12)\n",
        "plt.grid(True, linestyle='--')\n",
        "plt.show()"
      ],
      "metadata": {
        "colab": {
          "base_uri": "https://localhost:8080/",
          "height": 570
        },
        "id": "5GhcNN2oksno",
        "outputId": "0fcdc65a-804a-4c43-97fb-2db4f4e76d2a"
      },
      "execution_count": 406,
      "outputs": [
        {
          "output_type": "display_data",
          "data": {
            "text/plain": [
              "<Figure size 1200x600 with 1 Axes>"
            ],
            "image/png": "[encoded data removed]"
          },
          "metadata": {}
        }
      ]
    },
    {
      "cell_type": "markdown",
      "source": [
        "# OCULTO"
      ],
      "metadata": {
        "id": "3adH7FFCyqlR"
      }
    },
    {
      "cell_type": "markdown",
      "source": [
        "## Numpy\n",
        "\n",
        "Por que usar `NumPy` em Biologia?\n",
        "\n",
        "- Velocidade: Operações matemáticas em arrays `NumPy` podem ser dezenas ou centenas de vezes mais rápidas.\n",
        "\n",
        "- Conveniência: Permite realizar cálculos complexos em todo o conjunto de dados com uma única linha de código (vetorização).\n",
        "\n",
        "- Base para outras bibliotecas: Ferramentas como `SciPy`, `Scikit-learn`, que não veremos aqui no curso, e outras como `Matplotlib` e `Pandas`, que serão exploradas, são essenciais para a análise de dados biológicos, e são construídas sobre o `NumPy`."
      ],
      "metadata": {
        "id": "uqoHgYj2RzYh"
      }
    },
    {
      "cell_type": "markdown",
      "source": [
        "Primeiro, vamos importar a biblioteca. A convenção é importá-la com o apelido `np`."
      ],
      "metadata": {
        "id": "9LzY6jcGY6D9"
      }
    },
    {
      "cell_type": "code",
      "source": [
        "import numpy as np\n",
        "\n",
        "print(\"NumPy importado com sucesso! Versão\", np.__version__)\n"
      ],
      "metadata": {
        "id": "iGKxfTNSSWBl",
        "colab": {
          "base_uri": "https://localhost:8080/"
        },
        "outputId": "c57141f8-cd33-4c70-eb78-83a305bd5f84"
      },
      "execution_count": 407,
      "outputs": [
        {
          "output_type": "stream",
          "name": "stdout",
          "text": [
            "NumPy importado com sucesso! Versão 2.0.2\n"
          ]
        }
      ]
    },
    {
      "cell_type": "markdown",
      "source": [
        "## Criando Arrays NumPy com Dados Biológicos\n",
        "A estrutura de dados central do NumPy é o array. Ele é semelhante a uma lista, mas todos os seus elementos devem ser do mesmo tipo (por exemplo, todos números inteiros ou todos de ponto flutuante)."
      ],
      "metadata": {
        "id": "FDGTIdH8ZFdx"
      }
    },
    {
      "cell_type": "markdown",
      "source": [
        "### Exemplo 1: Pesos Moleculares de Proteínas\n",
        "Vamos criar um array com os pesos moleculares (em kDa) de algumas proteínas."
      ],
      "metadata": {
        "id": "Y5osOLpRaEsi"
      }
    },
    {
      "cell_type": "code",
      "source": [
        "pesos_proteinas_lista = [45.5, 120.2, 33.8, 78.0, 45.5]"
      ],
      "metadata": {
        "id": "t1SlGV5KZXva"
      },
      "execution_count": 408,
      "outputs": []
    },
    {
      "cell_type": "code",
      "source": [
        "print(\"Tipo do objeto:\", type(pesos_proteinas_lista))"
      ],
      "metadata": {
        "id": "LHy4J9A2Zsg6",
        "colab": {
          "base_uri": "https://localhost:8080/"
        },
        "outputId": "ff47ed88-2f42-49e2-c0d6-7f3c1dff635a"
      },
      "execution_count": 409,
      "outputs": [
        {
          "output_type": "stream",
          "name": "stdout",
          "text": [
            "Tipo do objeto: <class 'list'>\n"
          ]
        }
      ]
    },
    {
      "cell_type": "code",
      "source": [
        "pesos_proteinas_np = np.array(pesos_proteinas_lista)"
      ],
      "metadata": {
        "id": "Kl3nNAmrZcR3"
      },
      "execution_count": 410,
      "outputs": []
    },
    {
      "cell_type": "code",
      "source": [
        "print(\"Tipo do objeto:\", type(pesos_proteinas_np))"
      ],
      "metadata": {
        "id": "5Tl0nOliZdhX",
        "colab": {
          "base_uri": "https://localhost:8080/"
        },
        "outputId": "72f1489e-ba71-4abf-fb68-b1cfafea1243"
      },
      "execution_count": 411,
      "outputs": [
        {
          "output_type": "stream",
          "name": "stdout",
          "text": [
            "Tipo do objeto: <class 'numpy.ndarray'>\n"
          ]
        }
      ]
    },
    {
      "cell_type": "code",
      "source": [
        "print(\"Array de pesos:\", pesos_proteinas_np)"
      ],
      "metadata": {
        "id": "j0zynC4PZfTH",
        "colab": {
          "base_uri": "https://localhost:8080/"
        },
        "outputId": "e779a49a-93bb-43e6-8dd5-0103d151351f"
      },
      "execution_count": 412,
      "outputs": [
        {
          "output_type": "stream",
          "name": "stdout",
          "text": [
            "Array de pesos: [ 45.5 120.2  33.8  78.   45.5]\n"
          ]
        }
      ]
    },
    {
      "cell_type": "code",
      "source": [
        "print(\"Tipo de dados no array:\", pesos_proteinas_np.dtype) # float64 = ponto flutuante de alta precisão"
      ],
      "metadata": {
        "id": "n-r4Tcs-ZgLg",
        "colab": {
          "base_uri": "https://localhost:8080/"
        },
        "outputId": "9d998591-44e5-423d-dc01-91f306d68ed2"
      },
      "execution_count": 413,
      "outputs": [
        {
          "output_type": "stream",
          "name": "stdout",
          "text": [
            "Tipo de dados no array: float64\n"
          ]
        }
      ]
    },
    {
      "cell_type": "markdown",
      "source": [
        "### Exemplo 2: Dados de Expressão Gênica (Matriz)\n",
        "Em biologia molecular, é comum ter dados de expressão gênica de várias amostras. Uma matriz 2D (linhas e colunas) é perfeita para isso.\n",
        "\n",
        "Vamos criar uma matriz onde:\n",
        "- Linhas representam diferentes genes (Gene A, Gene B, Gene C).\n",
        "- Colunas representam diferentes amostras (Controle, Tratamento 1, Tratamento 2)."
      ],
      "metadata": {
        "id": "L90t1Rj5Z5dU"
      }
    },
    {
      "cell_type": "code",
      "source": [
        "# Dados de expressão (ex: leituras de RNA-Seq normalizadas)\n",
        "dados_expressao = np.array([\n",
        "    [10.2, 15.5, 12.1, 15.3],  # Gene A\n",
        "    [5.0, 25.8, 18.3, 50.6],   # Gene B\n",
        "    [8.9, 9.1, 9.0, 6.78]      # Gene C\n",
        "])"
      ],
      "metadata": {
        "id": "tYcVQxXDZ9nM"
      },
      "execution_count": 414,
      "outputs": []
    },
    {
      "cell_type": "code",
      "source": [
        "print(\"Matriz de expressão gênica:\\n\", dados_expressao)"
      ],
      "metadata": {
        "id": "9F5YWLHlaz-V",
        "colab": {
          "base_uri": "https://localhost:8080/"
        },
        "outputId": "625d8a1f-36a4-4d6e-d02a-f86b0c008bde"
      },
      "execution_count": 415,
      "outputs": [
        {
          "output_type": "stream",
          "name": "stdout",
          "text": [
            "Matriz de expressão gênica:\n",
            " [[10.2  15.5  12.1  15.3 ]\n",
            " [ 5.   25.8  18.3  50.6 ]\n",
            " [ 8.9   9.1   9.    6.78]]\n"
          ]
        }
      ]
    },
    {
      "cell_type": "code",
      "source": [
        "print(\"\\nDimensões da matriz (linhas, colunas):\", dados_expressao.shape)"
      ],
      "metadata": {
        "id": "x5GSkLeza11F",
        "colab": {
          "base_uri": "https://localhost:8080/"
        },
        "outputId": "b0bcca6f-fd02-49fa-f061-2e02524dcd2e"
      },
      "execution_count": 416,
      "outputs": [
        {
          "output_type": "stream",
          "name": "stdout",
          "text": [
            "\n",
            "Dimensões da matriz (linhas, colunas): (3, 4)\n"
          ]
        }
      ]
    },
    {
      "cell_type": "markdown",
      "source": [
        "## Indexação e Fatiamento (Slicing): Acessando Dados Específicos\n",
        "Uma das grandes vantagens do NumPy é a facilidade para acessar subconjuntos de dados."
      ],
      "metadata": {
        "id": "wiCBXVJKbGWa"
      }
    },
    {
      "cell_type": "markdown",
      "source": [
        "### Exemplo 3: Acessando a Expressão de um Gene Específico\n",
        "Usando a matriz `dados_expressao` que criamos, como podemos ver os dados apenas do Gene B?\n",
        "\n",
        "O Gene B está na segunda linha (índice 1, pois a contagem começa em 0)."
      ],
      "metadata": {
        "id": "lxuxiMBFdNBU"
      }
    },
    {
      "cell_type": "code",
      "source": [
        "expressao_gene_b = dados_expressao[1, :] # Linha de índice 1, todas as colunas (:)\n",
        "\n",
        "print(f\"Dados de expressão apenas para o Gene B: {expressao_gene_b}\")"
      ],
      "metadata": {
        "id": "Ol-nL24uceFG",
        "colab": {
          "base_uri": "https://localhost:8080/"
        },
        "outputId": "af75bdcd-951c-4b78-937a-7359fe6cc3a1"
      },
      "execution_count": 417,
      "outputs": [
        {
          "output_type": "stream",
          "name": "stdout",
          "text": [
            "Dados de expressão apenas para o Gene B: [ 5.  25.8 18.3 50.6]\n"
          ]
        }
      ]
    },
    {
      "cell_type": "markdown",
      "source": [
        "### Exemplo 4: Comparando Amostras de Tratamento\n",
        "Agora, vamos obter os dados de expressão de todos os genes, mas apenas das amostras de `Tratamento 1` e `Tratamento 2`.\n",
        "\n",
        "Elas estão nas colunas de índice 1 e 2."
      ],
      "metadata": {
        "id": "FrxkXasAdPsL"
      }
    },
    {
      "cell_type": "code",
      "source": [
        "dados_tratamentos = dados_expressao[:, 1:] # Todas as linhas (:), colunas do índice 1 até o final\n",
        "\n",
        "print(\"Dados de expressão apenas das amostras de tratamento:\\n\", dados_tratamentos)"
      ],
      "metadata": {
        "id": "i503p64rdXu_",
        "colab": {
          "base_uri": "https://localhost:8080/"
        },
        "outputId": "a7db58aa-2f6a-4d65-a577-3516c165c670"
      },
      "execution_count": 418,
      "outputs": [
        {
          "output_type": "stream",
          "name": "stdout",
          "text": [
            "Dados de expressão apenas das amostras de tratamento:\n",
            " [[15.5  12.1  15.3 ]\n",
            " [25.8  18.3  50.6 ]\n",
            " [ 9.1   9.    6.78]]\n"
          ]
        }
      ]
    },
    {
      "cell_type": "markdown",
      "source": [
        "## Operações Matemáticas e Estatísticas\n",
        "NumPy permite aplicar funções matemáticas e estatísticas a arrays inteiros de uma só vez, de forma muito rápida."
      ],
      "metadata": {
        "id": "MkCbxuOpdtpA"
      }
    },
    {
      "cell_type": "markdown",
      "source": [
        "### Exemplo 5: Análise de Comprimento de Peixes\n",
        "Imagine que você mediu o comprimento (em cm) de uma amostra de peixes de um lago."
      ],
      "metadata": {
        "id": "uLLJxwWRd0_d"
      }
    },
    {
      "cell_type": "code",
      "source": [
        "comprimentos_peixes = np.array([12.1, 15.3, 11.8, 10.2, 18.9, 14.5, 13.3, 11.2, 16.4])"
      ],
      "metadata": {
        "id": "lvTb8KEMd7Z9"
      },
      "execution_count": 419,
      "outputs": []
    },
    {
      "cell_type": "code",
      "source": [
        "len(comprimentos_peixes) # Quantidade de indivíduos"
      ],
      "metadata": {
        "id": "T6ieGCFofqd9",
        "colab": {
          "base_uri": "https://localhost:8080/"
        },
        "outputId": "7dca41a3-f383-4548-851f-05aa2ad341d6"
      },
      "execution_count": 420,
      "outputs": [
        {
          "output_type": "execute_result",
          "data": {
            "text/plain": [
              "9"
            ]
          },
          "metadata": {},
          "execution_count": 420
        }
      ]
    },
    {
      "cell_type": "code",
      "source": [
        "np.mean(comprimentos_peixes) # Comprimento médio"
      ],
      "metadata": {
        "id": "qGeHXBrXfviW",
        "colab": {
          "base_uri": "https://localhost:8080/"
        },
        "outputId": "bf7733f5-ff72-4b4c-a650-d6affbf35418"
      },
      "execution_count": 421,
      "outputs": [
        {
          "output_type": "execute_result",
          "data": {
            "text/plain": [
              "np.float64(13.744444444444444)"
            ]
          },
          "metadata": {},
          "execution_count": 421
        }
      ]
    },
    {
      "cell_type": "code",
      "source": [
        "np.std(comprimentos_peixes) # Desvio padrão"
      ],
      "metadata": {
        "id": "0G8aMjQCfwL2",
        "colab": {
          "base_uri": "https://localhost:8080/"
        },
        "outputId": "5628b3ee-d4d0-4877-e728-0befc91a4889"
      },
      "execution_count": 422,
      "outputs": [
        {
          "output_type": "execute_result",
          "data": {
            "text/plain": [
              "np.float64(2.631903033975019)"
            ]
          },
          "metadata": {},
          "execution_count": 422
        }
      ]
    },
    {
      "cell_type": "code",
      "source": [
        "np.max(comprimentos_peixes) # Comprimento máximo"
      ],
      "metadata": {
        "id": "hI2CfVvrfw2d",
        "colab": {
          "base_uri": "https://localhost:8080/"
        },
        "outputId": "824c05aa-bcb4-4bc6-bbd8-1b10de509e8f"
      },
      "execution_count": 423,
      "outputs": [
        {
          "output_type": "execute_result",
          "data": {
            "text/plain": [
              "np.float64(18.9)"
            ]
          },
          "metadata": {},
          "execution_count": 423
        }
      ]
    },
    {
      "cell_type": "code",
      "source": [
        "np.min(comprimentos_peixes) # Comprimento mínimo"
      ],
      "metadata": {
        "id": "lYu1rCBZd9-s",
        "colab": {
          "base_uri": "https://localhost:8080/"
        },
        "outputId": "a84c0b42-3b3e-4ecd-a98e-72fc194170ac"
      },
      "execution_count": 424,
      "outputs": [
        {
          "output_type": "execute_result",
          "data": {
            "text/plain": [
              "np.float64(10.2)"
            ]
          },
          "metadata": {},
          "execution_count": 424
        }
      ]
    },
    {
      "cell_type": "markdown",
      "source": [
        "## Vetorização: O Superpoder do NumPy\n",
        "Vetorização é a capacidade de executar operações em arrays inteiros sem a necessidade de escrever laços for. Isso torna o código mais limpo, legível e muito mais rápido."
      ],
      "metadata": {
        "id": "A7ExrXqNgnxV"
      }
    },
    {
      "cell_type": "markdown",
      "source": [
        "### Exemplo 6: Corrigindo Medições de pH\n",
        "Você tem um conjunto de medições de pH, mas depois descobre que seu medidor estava descalibrado e todas as leituras estão 0.15 unidades abaixo do valor real. Como corrigir todas de uma vez?"
      ],
      "metadata": {
        "id": "3AsyY1xpgsqL"
      }
    },
    {
      "cell_type": "code",
      "source": [
        "leituras_ph = np.array([6.8, 7.1, 6.9, 7.4, 6.5])\n",
        "ph_corrigido = leituras_ph + 0.15\n",
        "\n",
        "print(f\"Leituras Originais: {leituras_ph}\")\n",
        "print(f\"Leituras Corrigidas: {ph_corrigido}\")"
      ],
      "metadata": {
        "id": "7sQB2ffzgxs0",
        "colab": {
          "base_uri": "https://localhost:8080/"
        },
        "outputId": "c0446ca1-22b1-478d-849e-937e5f46ac7e"
      },
      "execution_count": 425,
      "outputs": [
        {
          "output_type": "stream",
          "name": "stdout",
          "text": [
            "Leituras Originais: [6.8 7.1 6.9 7.4 6.5]\n",
            "Leituras Corrigidas: [6.95 7.25 7.05 7.55 6.65]\n"
          ]
        }
      ]
    },
    {
      "cell_type": "markdown",
      "source": [
        "### Exemplo 7: Modelagem de Crescimento Populacional Simples\n",
        "\n",
        "Vamos modelar o crescimento de uma cultura de bactérias. A fórmula simplificada é: $N(t) = N_0 \\times 2^{t/T}$, onde:\n",
        "* $N(t)$ é o número de células no tempo $t$.\n",
        "* $N_0$ é o número inicial de células.\n",
        "* $t$ é o tempo.\n",
        "* $T$ é o tempo de duplicação.\n",
        "\n",
        "Com NumPy, podemos calcular o tamanho da população em vários pontos no tempo de uma só vez."
      ],
      "metadata": {
        "id": "aC719bG4hTL9"
      }
    },
    {
      "cell_type": "code",
      "source": [
        "n0 = 1000  # População inicial\n",
        "T_duplicacao = 20 # Tempo de duplicação em minutos"
      ],
      "metadata": {
        "id": "UpGHm52RjvUM"
      },
      "execution_count": 426,
      "outputs": []
    },
    {
      "cell_type": "code",
      "source": [
        "# Criando um array de tempo: de 0 a 120 minutos, com intervalos de 10 minutos\n",
        "tempos = np.arange(0, 121, 10)"
      ],
      "metadata": {
        "id": "784qhTKFkA9_"
      },
      "execution_count": 427,
      "outputs": []
    },
    {
      "cell_type": "code",
      "source": [
        "tempos"
      ],
      "metadata": {
        "id": "Krss5CxJmODJ",
        "colab": {
          "base_uri": "https://localhost:8080/"
        },
        "outputId": "85f60126-f65a-46c1-c9dd-5f6839d0b2a9"
      },
      "execution_count": 428,
      "outputs": [
        {
          "output_type": "execute_result",
          "data": {
            "text/plain": [
              "array([  0,  10,  20,  30,  40,  50,  60,  70,  80,  90, 100, 110, 120])"
            ]
          },
          "metadata": {},
          "execution_count": 428
        }
      ]
    },
    {
      "cell_type": "code",
      "source": [
        "# Calculando o tamanho da população para todos os tempos de uma vez!\n",
        "populacao = n0 * 2**(tempos / T_duplicacao)"
      ],
      "metadata": {
        "id": "1f7WdvwDkCpZ"
      },
      "execution_count": 429,
      "outputs": []
    },
    {
      "cell_type": "code",
      "source": [
        "np.round(populacao).astype(int)"
      ],
      "metadata": {
        "id": "PxFEJUfEkED5",
        "colab": {
          "base_uri": "https://localhost:8080/"
        },
        "outputId": "b9152732-edab-46f9-9f72-3da136195304"
      },
      "execution_count": 430,
      "outputs": [
        {
          "output_type": "execute_result",
          "data": {
            "text/plain": [
              "array([ 1000,  1414,  2000,  2828,  4000,  5657,  8000, 11314, 16000,\n",
              "       22627, 32000, 45255, 64000])"
            ]
          },
          "metadata": {},
          "execution_count": 430
        }
      ]
    },
    {
      "cell_type": "markdown",
      "source": [
        "## Filtragem com Máscaras Booleanas\n",
        "\n",
        "Podemos usar operadores relacionais para criar \"máscaras\" booleanas (`True`/`False`) e usá-las para filtrar nossos dados."
      ],
      "metadata": {
        "id": "SP-mB819nCOv"
      }
    },
    {
      "cell_type": "markdown",
      "source": [
        "### Exemplo 8: Identificando Genes Superexpressos\n",
        "Vamos voltar aos nossos dados de expressão gênica. Suponha que queremos identificar quais genes no grupo \"Tratamento 1\" tiveram uma expressão maior que 20."
      ],
      "metadata": {
        "id": "vrMgHVG5nZ7y"
      }
    },
    {
      "cell_type": "code",
      "source": [
        "dados_tratamento1 = dados_expressao[:, 1] # Pega a coluna do Tratamento 1"
      ],
      "metadata": {
        "id": "aE5IJc5rnua9"
      },
      "execution_count": 431,
      "outputs": []
    },
    {
      "cell_type": "code",
      "source": [
        "dados_tratamento1"
      ],
      "metadata": {
        "id": "1LE3y88ooGtD",
        "colab": {
          "base_uri": "https://localhost:8080/"
        },
        "outputId": "11effa8c-057a-486f-c5b1-1a0dc60965fc"
      },
      "execution_count": 432,
      "outputs": [
        {
          "output_type": "execute_result",
          "data": {
            "text/plain": [
              "array([15.5, 25.8,  9.1])"
            ]
          },
          "metadata": {},
          "execution_count": 432
        }
      ]
    },
    {
      "cell_type": "code",
      "source": [
        "mascara_superexpressos = dados_tratamento1 > 20"
      ],
      "metadata": {
        "id": "KaR2lCkUoEen"
      },
      "execution_count": 433,
      "outputs": []
    },
    {
      "cell_type": "code",
      "source": [
        "mascara_superexpressos"
      ],
      "metadata": {
        "id": "X8SsyqTPoF6p",
        "colab": {
          "base_uri": "https://localhost:8080/"
        },
        "outputId": "785bd0c5-06d4-4126-9dc8-edf9f9d32a36"
      },
      "execution_count": 434,
      "outputs": [
        {
          "output_type": "execute_result",
          "data": {
            "text/plain": [
              "array([False,  True, False])"
            ]
          },
          "metadata": {},
          "execution_count": 434
        }
      ]
    },
    {
      "cell_type": "code",
      "source": [
        "valores_superexpressos = dados_tratamento1[mascara_superexpressos]"
      ],
      "metadata": {
        "id": "LMGjG5kvoFwi"
      },
      "execution_count": 435,
      "outputs": []
    },
    {
      "cell_type": "code",
      "source": [
        "valores_superexpressos"
      ],
      "metadata": {
        "id": "0Ei7xhWwoFkd",
        "colab": {
          "base_uri": "https://localhost:8080/"
        },
        "outputId": "15338e08-eddd-48a8-ddd2-b718d9a66be4"
      },
      "execution_count": 436,
      "outputs": [
        {
          "output_type": "execute_result",
          "data": {
            "text/plain": [
              "array([25.8])"
            ]
          },
          "metadata": {},
          "execution_count": 436
        }
      ]
    },
    {
      "cell_type": "code",
      "source": [
        "nomes_genes = np.array([\"Gene A\", \"Gene B\", \"Gene C\"])"
      ],
      "metadata": {
        "id": "NSP2Nk1coFd3"
      },
      "execution_count": 437,
      "outputs": []
    },
    {
      "cell_type": "code",
      "source": [
        "nomes_genes[mascara_superexpressos]"
      ],
      "metadata": {
        "id": "cO_JP-0joFQS",
        "colab": {
          "base_uri": "https://localhost:8080/"
        },
        "outputId": "b1562e78-2b17-4531-8bdd-78264305bc7f"
      },
      "execution_count": 438,
      "outputs": [
        {
          "output_type": "execute_result",
          "data": {
            "text/plain": [
              "array(['Gene B'], dtype='<U6')"
            ]
          },
          "metadata": {},
          "execution_count": 438
        }
      ]
    },
    {
      "cell_type": "markdown",
      "source": [
        "## Múltiplos Gráficos em Uma Figura (`plt.subplots`)\n",
        "Em publicações, é comum exibir vários gráficos relacionados em uma única figura com painéis"
      ],
      "metadata": {
        "id": "__t6Rc1-cxKi"
      }
    },
    {
      "cell_type": "markdown",
      "source": [
        "### Exemplo 2: Relação entre Peso e Comprimento de Peixes\n",
        "Imagine que, além de medir o comprimento dos peixes, você também mediu o peso. Existe uma correlação entre as duas variáveis?"
      ],
      "metadata": {
        "id": "AGbc-AnTcMjJ"
      }
    },
    {
      "cell_type": "code",
      "source": [
        "comprimentos = np.array([12.1, 15.3, 11.8, 10.2, 18.9, 14.5, 13.3, 11.2, 16.4])\n",
        "pesos = np.array([25.5, 55.1, 23.9, 18.0, 95.3, 49.0, 38.8, 22.1, 68.2])"
      ],
      "metadata": {
        "id": "YhIF1NV7dmRX"
      },
      "execution_count": 439,
      "outputs": []
    },
    {
      "cell_type": "code",
      "source": [
        "plt.scatter(comprimentos, pesos)\n",
        "\n",
        "plt.title(\"Relação entre Comprimento e Peso em Peixes\")\n",
        "plt.xlabel(\"Comprimento (cm)\")\n",
        "plt.ylabel(\"Peso (g)\")\n",
        "\n",
        "# Mostra uma grade para facilitar a leitura\n",
        "plt.grid(True, linestyle='--', alpha=0.6)\n",
        "\n",
        "plt.show()"
      ],
      "metadata": {
        "colab": {
          "base_uri": "https://localhost:8080/",
          "height": 472
        },
        "id": "XSO47altcOx_",
        "outputId": "7831b8ec-1451-4b08-ce64-9d81e6beb5fb"
      },
      "execution_count": 440,
      "outputs": [
        {
          "output_type": "display_data",
          "data": {
            "text/plain": [
              "<Figure size 640x480 with 1 Axes>"
            ],
            "image/png": "[encoded data removed]"
          },
          "metadata": {}
        }
      ]
    },
    {
      "cell_type": "markdown",
      "source": [
        "### Exemplo 3: Expressão Gênica Média entre Amostras\n",
        "Vamos visualizar a expressão média de 3 genes diferentes em um experimento."
      ],
      "metadata": {
        "id": "VrSJqOtqcUUy"
      }
    },
    {
      "cell_type": "code",
      "source": [
        "nomes_genes = [\"Gene A\", \"Gene B\", \"Gene C\"]\n",
        "expressao_media = [12.6, 20.1, 8.9]\n",
        "erro_padrao = [1.5, 2.5, 0.8] # Barras de erro são importantes!"
      ],
      "metadata": {
        "id": "fS4k_k06dxu-"
      },
      "execution_count": 441,
      "outputs": []
    },
    {
      "cell_type": "code",
      "source": [
        "plt.bar(nomes_genes, expressao_media, yerr=erro_padrao, capsize=5, color=['blue', 'orange', 'green'])\n",
        "\n",
        "plt.title(\"Expressão Gênica Média\")\n",
        "plt.xlabel(\"Gene\")\n",
        "plt.ylabel(\"Nível de Expressão Normalizado\")\n",
        "\n",
        "plt.show()"
      ],
      "metadata": {
        "colab": {
          "base_uri": "https://localhost:8080/",
          "height": 472
        },
        "id": "QxUIncrDcRdB",
        "outputId": "2258069a-4dae-488a-8d2c-05cf4f944226"
      },
      "execution_count": 442,
      "outputs": [
        {
          "output_type": "display_data",
          "data": {
            "text/plain": [
              "<Figure size 640x480 with 1 Axes>"
            ],
            "image/png": "[encoded data removed]"
          },
          "metadata": {}
        }
      ]
    },
    {
      "cell_type": "markdown",
      "source": [
        "### Exemplo 4: Melhorando o Gráfico de Crescimento\n",
        "Vamos adicionar marcadores, mudar a cor e o estilo da linha, adicionar uma legenda e salvar a figura."
      ],
      "metadata": {
        "id": "6f1iIDSOcsiR"
      }
    },
    {
      "cell_type": "code",
      "source": [
        "# plt.figure() permite definir o tamanho da figura antes de criá-la\n",
        "plt.figure(figsize=(8, 6))\n",
        "\n",
        "plt.plot(tempos, populacao,\n",
        "         color='red',               # Cor da linha\n",
        "         linestyle='--',            # Estilo da linha (tracejada)\n",
        "         marker='o',                # Adiciona marcadores de círculo em cada ponto\n",
        "         label='Crescimento Estimado') # Rótulo para a legenda\n",
        "\n",
        "# Adicionando Título e Rótulos com tamanho de fonte maior\n",
        "plt.title(\"Curva de Crescimento Bacteriano\", fontsize=16)\n",
        "plt.xlabel(\"Tempo (minutos)\", fontsize=12)\n",
        "plt.ylabel(\"Número de Células (Estimado)\", fontsize=12)\n",
        "\n",
        "# Adicionando a legenda\n",
        "plt.legend()\n",
        "\n",
        "# Salvando a figura em alta resolução (dpi = dots per inch)\n",
        "plt.savefig(\"curva_crescimento_bacteriano.png\", dpi=300)\n",
        "\n",
        "plt.show()"
      ],
      "metadata": {
        "colab": {
          "base_uri": "https://localhost:8080/",
          "height": 570
        },
        "id": "imLoAMEncpbK",
        "outputId": "e7220932-b163-40ee-d920-a0eb2c931b3a"
      },
      "execution_count": 443,
      "outputs": [
        {
          "output_type": "display_data",
          "data": {
            "text/plain": [
              "<Figure size 800x600 with 1 Axes>"
            ],
            "image/png": "[encoded data removed]"
          },
          "metadata": {}
        }
      ]
    },
    {
      "cell_type": "markdown",
      "source": [
        "### Exemplo 5: Análise de Expressão Gênica (Controle vs. Tratamento)\n",
        "Vamos comparar a expressão de 3 genes em duas condições: Controle e Tratamento."
      ],
      "metadata": {
        "id": "cFaEmdrtczEL"
      }
    },
    {
      "cell_type": "code",
      "source": [
        "# fig é a figura inteira; axes é um array com os eixos de cada painel\n",
        "fig, axes = plt.subplots(nrows=1, ncols=2, figsize=(12, 5))\n",
        "\n",
        "# Dados\n",
        "nomes_genes = [\"Gene A\", \"Gene B\", \"Gene C\"]\n",
        "expressao_controle = [10.2, 5.0, 8.9]\n",
        "expressao_tratamento = [15.5, 25.8, 9.1]\n",
        "\n",
        "# --- Painel 1: Controle ---\n",
        "axes[0].bar(nomes_genes, expressao_controle, color='skyblue')\n",
        "axes[0].set_title('Condição Controle')\n",
        "axes[0].set_ylabel('Nível de Expressão')\n",
        "axes[0].set_ylim(0, 30) # Fixa o limite do eixo Y para facilitar a comparação\n",
        "\n",
        "# --- Painel 2: Tratamento ---\n",
        "axes[1].bar(nomes_genes, expressao_tratamento, color='salmon')\n",
        "axes[1].set_title('Condição Tratamento')\n",
        "axes[1].set_ylim(0, 30) # Usa o mesmo limite do outro gráfico\n",
        "\n",
        "fig.suptitle('Comparação de Expressão Gênica', fontsize=16)\n",
        "\n",
        "plt.show()"
      ],
      "metadata": {
        "colab": {
          "base_uri": "https://localhost:8080/",
          "height": 495
        },
        "id": "qDVHcKaUcvkw",
        "outputId": "472dada8-6316-4b38-e598-656af91b3b87"
      },
      "execution_count": 444,
      "outputs": [
        {
          "output_type": "display_data",
          "data": {
            "text/plain": [
              "<Figure size 1200x500 with 2 Axes>"
            ],
            "image/png": "[encoded data removed]"
          },
          "metadata": {}
        }
      ]
    },
    {
      "cell_type": "markdown",
      "source": [
        "#### Limite"
      ],
      "metadata": {
        "id": "mP4GkHwUPQOO"
      }
    },
    {
      "cell_type": "markdown",
      "source": [
        "#### Exemplo 1: Curva de Crescimento Bacteriano\n",
        "Vamos usar os dados de crescimento populacional que geramos no notebook de NumPy para visualizar como a cultura de bactérias cresce ao longo do tempo."
      ],
      "metadata": {
        "id": "PMu8B1djZbsy"
      }
    },
    {
      "cell_type": "code",
      "source": [
        "tempos = np.arange(0, 121, 10)\n",
        "populacao = np.array([1000, 1414, 2000, 2828, 4000, 5657, 8000, 11314, 16000, 22627, 32000, 45255, 64000])"
      ],
      "metadata": {
        "id": "qHwhW0Om1LV4"
      },
      "execution_count": 445,
      "outputs": []
    },
    {
      "cell_type": "code",
      "source": [
        "# Criando o gráfico\n",
        "plt.plot(iris[\"sepal_length\"], iris['petal_length'])\n",
        "\n",
        "# Adicionando Título e Rótulos (Labels) - Boas práticas sempre!\n",
        "plt.title(\"Curva de Crescimento Bacteriano\")\n",
        "plt.xlabel(\"Tempo (minutos)\")\n",
        "plt.ylabel(\"Número de Células (Estimado)\")\n",
        "\n",
        "# Exibindo o gráfico\n",
        "plt.show()"
      ],
      "metadata": {
        "id": "m_Mpf8iUdRaN",
        "colab": {
          "base_uri": "https://localhost:8080/",
          "height": 472
        },
        "outputId": "03a710c5-8057-486b-e5e1-e927f547911c"
      },
      "execution_count": 446,
      "outputs": [
        {
          "output_type": "display_data",
          "data": {
            "text/plain": [
              "<Figure size 640x480 with 1 Axes>"
            ],
            "image/png": "[encoded data removed]"
          },
          "metadata": {}
        }
      ]
    }
  ]
}