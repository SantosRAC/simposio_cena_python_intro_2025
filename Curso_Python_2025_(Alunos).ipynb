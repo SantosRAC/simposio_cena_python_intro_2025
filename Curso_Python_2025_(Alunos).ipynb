{
  "nbformat": 4,
  "nbformat_minor": 0,
  "metadata": {
    "colab": {
      "provenance": [],
      "collapsed_sections": [
        "IvjfQ3xjtUvV",
        "wtPM-GbHpgv5",
        "eUj5urr4PpqQ",
        "8vFhOIo-QTQk",
        "wVj0WRzvlzFW",
        "y68ByJrWl-f4",
        "hFBxoJdCmrr5",
        "7DGo4XLR4crF",
        "tO9jmdl1yJVr",
        "g4yvG-yO6iCu",
        "WqmDyauRy6co",
        "5EuH7SoOEUVV",
        "VV27da1kOx7e",
        "M00suIeQHcPP",
        "e5hVakREwnED",
        "aw20HdSEJ0Nd",
        "3eea99ab",
        "3b3fecd1",
        "bd10ff95",
        "3bed0aad",
        "e9f9e83e",
        "KwAQzVLHWyqh",
        "UkqqnkrWT9aG",
        "A6x39QFzgiG5",
        "HBKbXtebg0A3",
        "9P73DWKHhI_m",
        "phJbxcdHiea1",
        "HMFJ3LLutaCC",
        "uxR2kJW_ZSZJ",
        "TCBjOGWkcKBx"
      ]
    },
    "kernelspec": {
      "name": "python3",
      "display_name": "Python 3"
    },
    "language_info": {
      "name": "python"
    }
  },
  "cells": [
    {
      "cell_type": "markdown",
      "source": [
        "#**Escrevendo seu primeiro código em python**\n",
        "\n",
        "Nesse primeiro código iremos utilizar a função `print()` para escrever um texto na tela."
      ],
      "metadata": {
        "id": "IvjfQ3xjtUvV"
      }
    },
    {
      "cell_type": "code",
      "source": [],
      "metadata": {
        "id": "QmyL_k16Mypu"
      },
      "execution_count": null,
      "outputs": []
    },
    {
      "cell_type": "markdown",
      "source": [
        "* Por que utilizar aspas? E os parênteses?\n",
        "* Essa formatação é obrigatória?\n",
        "* O que mais se pode fazer com python?\n",
        "\n",
        "Vamos explicar essas questões nas próximas seções..."
      ],
      "metadata": {
        "id": "kf0ptvWJ1WH5"
      }
    },
    {
      "cell_type": "markdown",
      "source": [
        "# **Tipos de dados e variáveis em Python**\n",
        "\n",
        "Em Python, todo dado pertence a um tipo. Os tipos mais comuns são:\n",
        "\n",
        "- **int** → números inteiros  \n",
        "- **float** → números decimais  \n",
        "- **str** → textos (strings)  \n",
        "- **bool** → valores lógicos (True ou False)  \n",
        "- **list** → coleções ordenadas de dados  \n",
        "- **dict** → pares chave/valor\n",
        "\n",
        "Para facilitar o uso desses dados, podemos **associá-los a nomes escolhidos por nós**.  Esses nomes são chamados de **variáveis**."
      ],
      "metadata": {
        "id": "wO6F-WXYnUMo"
      }
    },
    {
      "cell_type": "markdown",
      "source": [
        "# **Variáveis**\n",
        "\n",
        "Uma **variável** funciona como uma “caixa com etiqueta”, onde guardamos um valor para reutilizá-lo depois.\n",
        "\n",
        "Usamos o operador `=` para **atribuir** um valor a uma variável.\n",
        "\n",
        "Os nomes de variáveis em Python podem conter letras (A-Z, a-z), números (0-9) e o caractere sublinhado (_). Porém, eles não podem começar com números nem usar símbolos especiais, como @, & ou #, ou espaços. Além disso, letras maiúsculas e minúsculas são tratadas de modo distinto.\n",
        "\n",
        "Agora, vamos criar duas variáveis diferentes, e atribuir seu valor."
      ],
      "metadata": {
        "id": "76if-2aToFhY"
      }
    },
    {
      "cell_type": "code",
      "source": [],
      "metadata": {
        "id": "OHPFXhyAoJx2"
      },
      "execution_count": null,
      "outputs": []
    },
    {
      "cell_type": "code",
      "source": [],
      "metadata": {
        "id": "Cor4L3jCP2p3"
      },
      "execution_count": null,
      "outputs": []
    },
    {
      "cell_type": "markdown",
      "source": [
        "### **Verificando o conteúdo de uma variável**\n",
        "\n",
        "Para verificar o conteúdo de uma variável pode-se utilizar a função **`print()`**.  \n",
        "Essa função **imprime na tela** o que passarmos entre parênteses.\n",
        "\n",
        "Vamos verificar o conteúdo das variáveis criadas anteriormente:"
      ],
      "metadata": {
        "id": "wtPM-GbHpgv5"
      }
    },
    {
      "cell_type": "code",
      "source": [],
      "metadata": {
        "id": "eWTwsUd0NPZF"
      },
      "execution_count": null,
      "outputs": []
    },
    {
      "cell_type": "code",
      "source": [],
      "metadata": {
        "id": "QGYZzyJHNPNb"
      },
      "execution_count": null,
      "outputs": []
    },
    {
      "cell_type": "markdown",
      "source": [
        "Também é possível utilizar o print() diretamente com um texto, número ou qualquer outro tipo de dado em Python.\n",
        "Além disso, é possível exibir mais de um objeto ao mesmo tempo, separando-os por vírgulas:"
      ],
      "metadata": {
        "id": "khnDKBYIz8lZ"
      }
    },
    {
      "cell_type": "code",
      "source": [],
      "metadata": {
        "id": "d2kjg1owNhsx"
      },
      "execution_count": null,
      "outputs": []
    },
    {
      "cell_type": "markdown",
      "source": [
        "### **Verificando o tipo de uma variável**\n",
        "\n",
        "Para descobrir o tipo de dado armazenado em uma variável usamos a função **`type()`**.  \n",
        "Ela retorna a **classe** do valor, como `<class 'int'>`, `<class 'str'>`, `<class 'float'>`, etc."
      ],
      "metadata": {
        "id": "KCDsWAbjlRFs"
      }
    },
    {
      "cell_type": "markdown",
      "source": [
        "### - Strings (textos)\n",
        "\n",
        "Strings são sequências de caracteres, ou seja, textos.  \n",
        "Usamos aspas simples `' '` ou aspas duplas `\" \"` para defini-las.\n",
        "\n",
        "Abaixo, criei uma variável com um dado em string, depois imprima seu tipo:"
      ],
      "metadata": {
        "id": "eUj5urr4PpqQ"
      }
    },
    {
      "cell_type": "code",
      "source": [],
      "metadata": {
        "id": "gwDsgis5N-dP"
      },
      "execution_count": null,
      "outputs": []
    },
    {
      "cell_type": "code",
      "source": [],
      "metadata": {
        "id": "trhVVw1CN-aG"
      },
      "execution_count": null,
      "outputs": []
    },
    {
      "cell_type": "markdown",
      "source": [
        "### - Números (int e float)\n",
        "\n",
        "Podemos trabalhar com números inteiros (`int`) ou decimais (`float`).\n",
        "\n",
        "Defina uma variável com número inteiro e verifique seu tipo. Depois, faça o mesmo, porém, com um número decimal."
      ],
      "metadata": {
        "id": "8vFhOIo-QTQk"
      }
    },
    {
      "cell_type": "code",
      "source": [],
      "metadata": {
        "id": "D3mmHF-fQFwN"
      },
      "execution_count": null,
      "outputs": []
    },
    {
      "cell_type": "code",
      "source": [],
      "metadata": {
        "id": "-NgGxe1LQFqg"
      },
      "execution_count": null,
      "outputs": []
    },
    {
      "cell_type": "code",
      "source": [],
      "metadata": {
        "id": "c1I_yV64O3vc"
      },
      "execution_count": null,
      "outputs": []
    },
    {
      "cell_type": "code",
      "source": [],
      "metadata": {
        "id": "idcQGoR7O3lP"
      },
      "execution_count": null,
      "outputs": []
    },
    {
      "cell_type": "markdown",
      "source": [
        "### - Booleanos (valores lógicos)\n",
        "\n",
        "Booleanos podem ser apenas **True** (verdadeiro) ou **False** (falso).  \n",
        "Eles são usados principalmente em testes de condições."
      ],
      "metadata": {
        "id": "wVj0WRzvlzFW"
      }
    },
    {
      "cell_type": "code",
      "source": [],
      "metadata": {
        "id": "Q91O3WlaQHRO"
      },
      "execution_count": null,
      "outputs": []
    },
    {
      "cell_type": "code",
      "source": [],
      "metadata": {
        "id": "zUDFTeRFPF2M"
      },
      "execution_count": null,
      "outputs": []
    },
    {
      "cell_type": "markdown",
      "source": [
        "### - Listas\n",
        "\n",
        "Listas guardam uma coleção de valores **ordenados**, que podem ser de variados tipos.  \n",
        "Cada item tem uma posição chamada **índice**, que começa em zero.\n",
        "\n",
        "Vamos criar uma variável com uma lista e depois imprimir seu tipo:"
      ],
      "metadata": {
        "id": "y68ByJrWl-f4"
      }
    },
    {
      "cell_type": "code",
      "source": [],
      "metadata": {
        "id": "X2IK2xE0PoJV"
      },
      "execution_count": null,
      "outputs": []
    },
    {
      "cell_type": "markdown",
      "source": [
        "Cada item da lista possui um **índice numérico**, atribuído automaticamente a partir de zero:\n",
        "\n",
        "| Índice | Valor |\n",
        "|--------|-------|\n",
        "| 0      | 'Dom' |\n",
        "| 1      | 'Seg' |\n",
        "| 2      | 'Ter' |\n",
        "| 3      | 'Qua' |\n",
        "| 4      | 'Qui' |\n",
        "| 5      | 'Sex' |\n",
        "| 6      | 'Sab' |\n",
        "\n",
        "Agora, vamos imprimir alguns índices, como o primeiro e último dia:"
      ],
      "metadata": {
        "id": "UxjS2Fu3mO7L"
      }
    },
    {
      "cell_type": "code",
      "source": [],
      "metadata": {
        "id": "_pTE0q7gQAU6"
      },
      "execution_count": null,
      "outputs": []
    },
    {
      "cell_type": "code",
      "source": [],
      "metadata": {
        "id": "mK9vZzEkPzYM"
      },
      "execution_count": null,
      "outputs": []
    },
    {
      "cell_type": "code",
      "source": [],
      "metadata": {
        "id": "uy12oR1OQBmA"
      },
      "execution_count": null,
      "outputs": []
    },
    {
      "cell_type": "markdown",
      "source": [
        "### - Dicionários\n",
        "\n",
        "Dicionários guardam pares **chave → valor**.  \n",
        "São muito usados para representar dados estruturados (como se fossem tabelas com dados que são *nomeados* ou *rotulados*).\n",
        "\n",
        "Crie uma variável com um dicionário, depois imprima ela e seu tipo:"
      ],
      "metadata": {
        "id": "hFBxoJdCmrr5"
      }
    },
    {
      "cell_type": "code",
      "source": [],
      "metadata": {
        "id": "lg09M4qzQPtH"
      },
      "execution_count": null,
      "outputs": []
    },
    {
      "cell_type": "code",
      "source": [],
      "metadata": {
        "id": "wns08LFCQPei"
      },
      "execution_count": null,
      "outputs": []
    },
    {
      "cell_type": "markdown",
      "source": [
        "Podemos acessar os valores de um dicionário utilizando **o nome do dicionário** seguido da **chave correspondente entre colchetes**.\n",
        "\n",
        "Agora, vamos acessar o valor de algumas chaves do dicionário, imprimindo-as na tela:"
      ],
      "metadata": {
        "id": "qHO27gp-m592"
      }
    },
    {
      "cell_type": "code",
      "source": [],
      "metadata": {
        "id": "zb47WR9zQxok"
      },
      "execution_count": null,
      "outputs": []
    },
    {
      "cell_type": "code",
      "source": [],
      "metadata": {
        "id": "u8RO3GhyQxe2"
      },
      "execution_count": null,
      "outputs": []
    },
    {
      "cell_type": "code",
      "source": [],
      "metadata": {
        "id": "SP8mlwjqQxYH"
      },
      "execution_count": null,
      "outputs": []
    },
    {
      "cell_type": "markdown",
      "source": [
        "**Atenção!**\n",
        "Observe que tudo o que inserimos após o `#` no código é destacado em verde e é considerado como um comentário.\n",
        "Isso significa que o Python não executa o que vem depois do `#`.\n",
        "Comentários são usados para explicar o código ou anotar observações, sem afetar a execução."
      ],
      "metadata": {
        "id": "0Ml1fCE8EW3m"
      }
    },
    {
      "cell_type": "markdown",
      "source": [
        "# **Expressões**\n",
        "\n",
        "Uma expressão é uma combinação de valores, variáveis e operadores. Dentro seus tipos existem:\n",
        "- Operadores de Atribuição: Para atribuir valores em variáveis.\n",
        "\n",
        "- Operadores Aritméticos: Para realizar operações matemáticas.\n",
        "\n",
        "- Operadores Relacionais: Para comparar valores.\n",
        "\n",
        "- Operadores Lógicos: Para combinar expressões booleanas.\n",
        "\n",
        "- Operadores de Filiação: Para verificar se um valor pertence a uma sequência."
      ],
      "metadata": {
        "id": "7DGo4XLR4crF"
      }
    },
    {
      "cell_type": "markdown",
      "source": [
        "### **Operadores de Atribuição**\n",
        "\n",
        "Consiste no uso do operador `=` para atribuir um valor a uma variável."
      ],
      "metadata": {
        "id": "tO9jmdl1yJVr"
      }
    },
    {
      "cell_type": "code",
      "source": [],
      "metadata": {
        "id": "vVfJKEa6RIC8"
      },
      "execution_count": null,
      "outputs": []
    },
    {
      "cell_type": "code",
      "source": [],
      "metadata": {
        "id": "paP6SkLDRIAS"
      },
      "execution_count": null,
      "outputs": []
    },
    {
      "cell_type": "code",
      "source": [],
      "metadata": {
        "id": "Db1qLRazRH9L"
      },
      "execution_count": null,
      "outputs": []
    },
    {
      "cell_type": "markdown",
      "source": [
        "### **Operadores Aritméticos**\n",
        "\n",
        "As 4 operações básicas: adição, subtração, multiplicação e divisão estão presentes aqui."
      ],
      "metadata": {
        "id": "g4yvG-yO6iCu"
      }
    },
    {
      "cell_type": "code",
      "source": [],
      "metadata": {
        "id": "WZc8Le3VRM6r"
      },
      "execution_count": null,
      "outputs": []
    },
    {
      "cell_type": "code",
      "source": [],
      "metadata": {
        "id": "yGuytM1BRM3a"
      },
      "execution_count": null,
      "outputs": []
    },
    {
      "cell_type": "code",
      "source": [],
      "metadata": {
        "id": "GshUaxmcRM0E"
      },
      "execution_count": null,
      "outputs": []
    },
    {
      "cell_type": "code",
      "source": [],
      "metadata": {
        "id": "76bSZ_AERMV4"
      },
      "execution_count": null,
      "outputs": []
    },
    {
      "cell_type": "markdown",
      "source": [
        "Com esses operadores, também podemos realizar operações como:\n",
        "- Exponenciação\n",
        "- Resto\n",
        "- Divisão inteira"
      ],
      "metadata": {
        "id": "GBR9GpJ0__8I"
      }
    },
    {
      "cell_type": "code",
      "source": [],
      "metadata": {
        "id": "M3Xgf89gRSlj"
      },
      "execution_count": null,
      "outputs": []
    },
    {
      "cell_type": "code",
      "source": [],
      "metadata": {
        "id": "VRFfmaFnRSbV"
      },
      "execution_count": null,
      "outputs": []
    },
    {
      "cell_type": "code",
      "source": [],
      "metadata": {
        "id": "1XxOv1RZRSXr"
      },
      "execution_count": null,
      "outputs": []
    },
    {
      "cell_type": "code",
      "source": [],
      "metadata": {
        "id": "aYG40ml4RRSB"
      },
      "execution_count": null,
      "outputs": []
    },
    {
      "cell_type": "markdown",
      "source": [
        "### **Operadores de Atribuição Compostos** **(Ocultar?)**\n",
        "\n",
        "Consistem na junção do operador `=` com os operadores aritméticos."
      ],
      "metadata": {
        "id": "WqmDyauRy6co"
      }
    },
    {
      "cell_type": "code",
      "source": [],
      "metadata": {
        "id": "qts_z79RRgC9"
      },
      "execution_count": null,
      "outputs": []
    },
    {
      "cell_type": "code",
      "source": [],
      "metadata": {
        "id": "xxf3g6GIRf_b"
      },
      "execution_count": null,
      "outputs": []
    },
    {
      "cell_type": "code",
      "source": [],
      "metadata": {
        "id": "Yx2dTjOsRf7R"
      },
      "execution_count": null,
      "outputs": []
    },
    {
      "cell_type": "code",
      "source": [],
      "metadata": {
        "id": "k5ntmhGyRf3y"
      },
      "execution_count": null,
      "outputs": []
    },
    {
      "cell_type": "code",
      "source": [],
      "metadata": {
        "id": "ceNV1RQjRfzv"
      },
      "execution_count": null,
      "outputs": []
    },
    {
      "cell_type": "code",
      "source": [],
      "metadata": {
        "id": "1PpGSrzoRfwN"
      },
      "execution_count": null,
      "outputs": []
    },
    {
      "cell_type": "code",
      "source": [],
      "metadata": {
        "id": "g0dUJHSYRfsp"
      },
      "execution_count": null,
      "outputs": []
    },
    {
      "cell_type": "markdown",
      "source": [
        "### Ordem de precedência aritmética\n",
        "\n",
        "Python segue a ordem de precedência da matemática que aprendemos no ensino fundamental. Também é possível utilizar parênteses para alterar a ordem que as operações devem ser executadas."
      ],
      "metadata": {
        "id": "5EuH7SoOEUVV"
      }
    },
    {
      "cell_type": "code",
      "source": [],
      "metadata": {
        "id": "aUAo43gLR8df"
      },
      "execution_count": null,
      "outputs": []
    },
    {
      "cell_type": "code",
      "source": [],
      "metadata": {
        "id": "D3DxEWInR8aU"
      },
      "execution_count": null,
      "outputs": []
    },
    {
      "cell_type": "code",
      "source": [],
      "metadata": {
        "id": "HROYXahrR8Xg"
      },
      "execution_count": null,
      "outputs": []
    },
    {
      "cell_type": "markdown",
      "source": [
        "### Manipulação de Strings com operadores aritméticos\n",
        "\n",
        "Não somente dados numéricos podem ser manipulados por esses operadores, porém, com as strings o funcionamento é um pouco diferente. Operações como adição e multiplicação estão presentes aqui também."
      ],
      "metadata": {
        "id": "VV27da1kOx7e"
      }
    },
    {
      "cell_type": "code",
      "source": [],
      "metadata": {
        "id": "zMq-nosASHBT"
      },
      "execution_count": null,
      "outputs": []
    },
    {
      "cell_type": "code",
      "source": [],
      "metadata": {
        "id": "JROFSwMVSG9s"
      },
      "execution_count": null,
      "outputs": []
    },
    {
      "cell_type": "code",
      "source": [],
      "metadata": {
        "id": "qSFItGBGSG6C"
      },
      "execution_count": null,
      "outputs": []
    },
    {
      "cell_type": "code",
      "source": [],
      "metadata": {
        "id": "Nmke4eUeSG2Q"
      },
      "execution_count": null,
      "outputs": []
    },
    {
      "cell_type": "markdown",
      "source": [
        "Mas operações como subtração e divisão não podem ser usadas..."
      ],
      "metadata": {
        "id": "I_bjL8MuavQp"
      }
    },
    {
      "cell_type": "code",
      "source": [],
      "metadata": {
        "id": "ZdHgn0KbSMuN"
      },
      "execution_count": null,
      "outputs": []
    },
    {
      "cell_type": "code",
      "source": [],
      "metadata": {
        "id": "RygB14O7SMq3"
      },
      "execution_count": null,
      "outputs": []
    },
    {
      "cell_type": "markdown",
      "source": [
        "### **Operadores Relacionais**\n",
        "\n",
        "> Adicionar aspas\n",
        "\n",
        "Os operadores relacionais são usados para comparar dois valores. Os resultados dessas operações são sempre um valor booleano: True (verdadeiro) ou False (falso).\n",
        "\n",
        "Dentre os operadores relacionais, estão:\n",
        "- igual (`==`)\n",
        "- diferente (`!=`)\n",
        "- maior que (`>`)\n",
        "- menor que (`<`)\n",
        "- maior ou igual (`>=`)\n",
        "- menor ou igual (`<=`)\n",
        "\n",
        "Agora, vamos definir algumas variáveis e testá-las:"
      ],
      "metadata": {
        "id": "M00suIeQHcPP"
      }
    },
    {
      "cell_type": "code",
      "source": [],
      "metadata": {
        "id": "y7cxGj34TDjH"
      },
      "execution_count": null,
      "outputs": []
    },
    {
      "cell_type": "code",
      "source": [],
      "metadata": {
        "id": "G2ctHIabTDcW"
      },
      "execution_count": null,
      "outputs": []
    },
    {
      "cell_type": "code",
      "source": [],
      "metadata": {
        "id": "D3slUd1eTDV7"
      },
      "execution_count": null,
      "outputs": []
    },
    {
      "cell_type": "code",
      "source": [],
      "metadata": {
        "id": "ULlu-m5RTDOs"
      },
      "execution_count": null,
      "outputs": []
    },
    {
      "cell_type": "code",
      "source": [],
      "metadata": {
        "id": "3-r0k219TDHm"
      },
      "execution_count": null,
      "outputs": []
    },
    {
      "cell_type": "code",
      "source": [],
      "metadata": {
        "id": "lztESQgcTC_w"
      },
      "execution_count": null,
      "outputs": []
    },
    {
      "cell_type": "code",
      "source": [],
      "metadata": {
        "id": "bqAmd-ImTC1m"
      },
      "execution_count": null,
      "outputs": []
    },
    {
      "cell_type": "markdown",
      "source": [
        "### **Operadores Lógicos**\n",
        "\n",
        "Os operadores lógicos são usados para combinar expressões booleanas. Eles são fundamentais para criar lógicas de controle em nossos programas (como em `if`).\n",
        "\n",
        "Sendo `and`, `or` e `not`.\n",
        "\n",
        "Vamos criar algumas variáveis contendo expressões que tem um valor lógico atribuido como resultado, depois, vamos combinar as expressões e testar seus resultados:"
      ],
      "metadata": {
        "id": "e5hVakREwnED"
      }
    },
    {
      "cell_type": "code",
      "source": [],
      "metadata": {
        "id": "gBPQ41jjTuwQ"
      },
      "execution_count": null,
      "outputs": []
    },
    {
      "cell_type": "code",
      "source": [],
      "metadata": {
        "id": "FuUM67XZTxl4"
      },
      "execution_count": null,
      "outputs": []
    },
    {
      "cell_type": "code",
      "source": [],
      "metadata": {
        "id": "k_rztUEKT0HH"
      },
      "execution_count": null,
      "outputs": []
    },
    {
      "cell_type": "code",
      "source": [],
      "metadata": {
        "id": "a9-4ay-7T0AT"
      },
      "execution_count": null,
      "outputs": []
    },
    {
      "cell_type": "code",
      "source": [],
      "metadata": {
        "id": "NnQ2SW0rTxgP"
      },
      "execution_count": null,
      "outputs": []
    },
    {
      "cell_type": "code",
      "source": [],
      "metadata": {
        "id": "tvR9sNdzTxbh"
      },
      "execution_count": null,
      "outputs": []
    },
    {
      "cell_type": "code",
      "source": [],
      "metadata": {
        "id": "0OS37JO7TxVy"
      },
      "execution_count": null,
      "outputs": []
    },
    {
      "cell_type": "code",
      "source": [],
      "metadata": {
        "id": "TxG9lrxkTxO9"
      },
      "execution_count": null,
      "outputs": []
    },
    {
      "cell_type": "code",
      "source": [],
      "metadata": {
        "id": "vi-AvNWoTxKD"
      },
      "execution_count": null,
      "outputs": []
    },
    {
      "cell_type": "code",
      "source": [],
      "metadata": {
        "id": "bE-iDUQdTxAf"
      },
      "execution_count": null,
      "outputs": []
    },
    {
      "cell_type": "markdown",
      "source": [
        "### **Operadores de Filiação**\n",
        "\n",
        " São usados para nos certificarmos se um ou mais valores estão presentes em um grupo de valores. Os resultados dessas operações são sempre um valor booleano: True (verdadeiro) ou False (falso).\n",
        "\n",
        " Podem ser:\n",
        " - `in` (presente no conjunto)\n",
        " - `not in` (não presente no conjunto)\n",
        "\n",
        " Vamos criar uma variável e testá-la:"
      ],
      "metadata": {
        "id": "aw20HdSEJ0Nd"
      }
    },
    {
      "cell_type": "code",
      "source": [],
      "metadata": {
        "id": "k3gV8hN3US7X"
      },
      "execution_count": null,
      "outputs": []
    },
    {
      "cell_type": "code",
      "source": [],
      "metadata": {
        "id": "TAyo-Bp8US1Q"
      },
      "execution_count": null,
      "outputs": []
    },
    {
      "cell_type": "code",
      "source": [],
      "metadata": {
        "id": "LYeqWavkUSvc"
      },
      "execution_count": null,
      "outputs": []
    },
    {
      "cell_type": "code",
      "source": [],
      "metadata": {
        "id": "9Q64geBUUSnR"
      },
      "execution_count": null,
      "outputs": []
    },
    {
      "cell_type": "markdown",
      "source": [
        "Operações de filiação não se limitam à listas, podendo ser também strings, dicionários, entre outros..."
      ],
      "metadata": {
        "id": "MkWrijF6pMvu"
      }
    },
    {
      "cell_type": "code",
      "source": [],
      "metadata": {
        "id": "YE7DSmLtUYOP"
      },
      "execution_count": null,
      "outputs": []
    },
    {
      "cell_type": "code",
      "source": [],
      "metadata": {
        "id": "lAtDdnR7UYKS"
      },
      "execution_count": null,
      "outputs": []
    },
    {
      "cell_type": "code",
      "source": [],
      "metadata": {
        "id": "nkdNmAgJUYFf"
      },
      "execution_count": null,
      "outputs": []
    },
    {
      "cell_type": "code",
      "source": [],
      "metadata": {
        "id": "DVXZjJ0OUX_B"
      },
      "execution_count": null,
      "outputs": []
    },
    {
      "cell_type": "code",
      "source": [],
      "metadata": {
        "id": "Q1iV2uiEUWAp"
      },
      "execution_count": null,
      "outputs": []
    },
    {
      "cell_type": "markdown",
      "source": [
        " = = = = = = = = = = = = = = = = = = = = = = = = = = = = = = = = = = = = = = = = = = = = = = = = = = = = = = = = = = = = = = = = = = = = = = = = = ="
      ],
      "metadata": {
        "id": "ToXH8DCsyzPC"
      }
    },
    {
      "cell_type": "code",
      "source": [],
      "metadata": {
        "id": "3f8djj6DVOsP"
      },
      "execution_count": null,
      "outputs": []
    },
    {
      "cell_type": "code",
      "source": [],
      "metadata": {
        "id": "1wwiwvF-VMup"
      },
      "execution_count": null,
      "outputs": []
    },
    {
      "cell_type": "code",
      "source": [],
      "metadata": {
        "id": "XTVZVd0ZVMq0"
      },
      "execution_count": null,
      "outputs": []
    },
    {
      "cell_type": "code",
      "source": [],
      "metadata": {
        "id": "ax7pVNtdVMmC"
      },
      "execution_count": null,
      "outputs": []
    },
    {
      "cell_type": "code",
      "source": [],
      "metadata": {
        "id": "bwSWnJq5VMhe"
      },
      "execution_count": null,
      "outputs": []
    },
    {
      "cell_type": "code",
      "source": [],
      "metadata": {
        "id": "3GHAzTCzVMc1"
      },
      "execution_count": null,
      "outputs": []
    },
    {
      "cell_type": "code",
      "source": [],
      "metadata": {
        "id": "R6c1CRS6VMZM"
      },
      "execution_count": null,
      "outputs": []
    },
    {
      "cell_type": "markdown",
      "metadata": {
        "id": "3eea99ab"
      },
      "source": [
        "# **Estruturas condicionais: if, elif e else**\n",
        "\n",
        "Em Python, podemos fazer com que nossos programas tomem decisões com base em condições. Isso é feito usando as estruturas `if`, `elif` (else if) e `else`. Elas nos permitem executar blocos de código diferentes dependendo se uma expressão booleana é `True` ou `False`.\n",
        "\n",
        "**Observações importantes:**\n",
        "* Apenas o primeiro bloco cuja condição for verdadeira será executado.\n",
        "* Os blocos `elif` e `else` não são necessários para se utilizar o `if`, mas só podem ser usados após ele.\n",
        "* O bloco `else` não precisa de condição: ele é usado como “último caso”, sendo executado apenas se todas as condições anteriores (`if` e `elif`) forem falsas."
      ]
    },
    {
      "cell_type": "markdown",
      "metadata": {
        "id": "3b3fecd1"
      },
      "source": [
        "**Identação em Python**\n",
        "\n",
        "Para a execução correta das estruturas condicionais, a identação (o espaço no início de uma linha de código) é muito importante. Ela ajuda a definir **blocos de código**.\n",
        "\n",
        "Quando você usa estruturas de controle, por exemplo, o código que faz parte dessa estrutura é colocado em um novo bloco e deve ser **identado**.\n",
        "\n",
        "Geralmente usamos 4 espaços ou um tab para cada nível de identação, contudo, não podemos misturar esses dois tipos de representação, devemos escolher um e seguir pelo código inteiro com o mesmo.\n",
        "\n",
        "Veja o exemplo da estrutura condicional novamente, com a identação destacada:"
      ]
    },
    {
      "cell_type": "markdown",
      "metadata": {
        "id": "bd10ff95"
      },
      "source": [
        "### `if`\n",
        "Inicia a estrutura condicional e testa a primeira condição. Se a expressão booleana após o `if` for verdadeira (`True`), o bloco de código indentado abaixo dele será executado."
      ]
    },
    {
      "cell_type": "code",
      "source": [],
      "metadata": {
        "id": "tAvwYFbEViyK"
      },
      "execution_count": null,
      "outputs": []
    },
    {
      "cell_type": "markdown",
      "source": [
        "= = = = = = = = = = = = = = = = = = = = = = = = = = = = = = = = = = = = = = = = = = = = = = = = = = = = = = = = = = = = = = = = = = = = = = = = = ="
      ],
      "metadata": {
        "id": "HDDI75zrVmXz"
      }
    },
    {
      "cell_type": "code",
      "source": [],
      "metadata": {
        "id": "AIA_EOumViea"
      },
      "execution_count": null,
      "outputs": []
    },
    {
      "cell_type": "code",
      "source": [],
      "metadata": {
        "id": "EAmCXrkjVk8H"
      },
      "execution_count": null,
      "outputs": []
    },
    {
      "cell_type": "code",
      "source": [],
      "metadata": {
        "id": "iuWMHEifV0Rm"
      },
      "execution_count": null,
      "outputs": []
    },
    {
      "cell_type": "markdown",
      "metadata": {
        "id": "670e91b8"
      },
      "source": [
        "*Exemplo 1: Classificação de Planta por Idade*\n",
        "\n",
        "Vamos usar `if`, `elif` e `else` juntos para classificar uma planta com base na sua idade em semanas, como no exemplo anterior, mas agora com a estrutura separada."
      ]
    },
    {
      "cell_type": "code",
      "source": [],
      "metadata": {
        "id": "s2ec4aySWJOs"
      },
      "execution_count": null,
      "outputs": []
    },
    {
      "cell_type": "code",
      "source": [],
      "metadata": {
        "id": "d0B-p0LsWH_D"
      },
      "execution_count": null,
      "outputs": []
    },
    {
      "cell_type": "markdown",
      "metadata": {
        "id": "f740156e"
      },
      "source": [
        "*Exemplo 2: Verificando e Classificando umidade e temperatura*"
      ]
    },
    {
      "cell_type": "code",
      "source": [],
      "metadata": {
        "id": "qTCeayexWXfD"
      },
      "execution_count": null,
      "outputs": []
    },
    {
      "cell_type": "markdown",
      "source": [
        "*Exemplo 3: Verificando determinada sequência em outra*"
      ],
      "metadata": {
        "id": "oT0wyHNxFPzO"
      }
    },
    {
      "cell_type": "code",
      "source": [],
      "metadata": {
        "id": "emwp0avFWdh1"
      },
      "execution_count": null,
      "outputs": []
    },
    {
      "cell_type": "markdown",
      "metadata": {
        "id": "3bed0aad"
      },
      "source": [
        "### `else`\n",
        "É o bloco padrão, executado apenas se *todas* as condições anteriores (`if` e `elif`s) forem falsas (`False`). O `else` não tem condição associada."
      ]
    },
    {
      "cell_type": "code",
      "source": [],
      "metadata": {
        "id": "DFy-ONyyWh2Q"
      },
      "execution_count": null,
      "outputs": []
    },
    {
      "cell_type": "markdown",
      "metadata": {
        "id": "e9f9e83e"
      },
      "source": [
        "### `elif`\n",
        "Usado para testar outras condições alternativas caso a condição do `if` (e de quaisquer `elif`s anteriores) seja falsa (`False`). Você pode ter quantos blocos `elif` precisar em sequência."
      ]
    },
    {
      "cell_type": "code",
      "source": [],
      "metadata": {
        "id": "RV9y8IEyWuBT"
      },
      "execution_count": null,
      "outputs": []
    },
    {
      "cell_type": "markdown",
      "source": [
        "# **Hora de praticar!**\n",
        "\n",
        "Você é um pesquisador analisando características morfológicas de plantas (0 = ausente; 1 = presente). Seu objetivo é classificar cada planta em Briófitas, Pteridófitas, Gimnospermas ou Angiospermas usando dicionários, operadores relacionais, lógica booleana e estruturas condicionais para automatizar o processo.\n",
        "\n",
        "| Planta     | Flores | Frutos | Sementes | Vasos condutores | Raiz verdadeira |\n",
        "|------------|--------|--------|----------|------------------|-----------------|\n",
        "| Musgo      |    0   |    0   |     0    |         0        |         0       |\n",
        "| Samambaia  |    0   |    0   |     0    |         1        |         1       |\n",
        "| Pinheiro   |    0   |    0   |     1    |         1        |         1       |\n",
        "| Laranjeira |    1   |    1   |     1    |         1        |         1       |\n",
        "| Orquidea   |    1   |    1   |     1    |         1        |         1       |\n",
        "\n",
        "Aqui vão algumas regras para critérios mínimos:\n",
        "- Briófitas: não possuem vasos, raiz, sementes, flores ou frutos.\n",
        "- Pteridófitas: possuem vasos e raiz, mas não possuem sementes (logo, também não têm flores nem frutos).\n",
        "- Gimnospermas: possuem sementes, mas não possuem flores nem frutos.\n",
        "- Angiospermas: possuem todas as características analisadas.\n",
        "\n",
        "Tarefas:\n",
        "1. Com os dados coletados de cada planta, crie um dicionário (caracteristicas).\n",
        "2. Defina quatro “regras-alvo” (um dicionário para cada grupo filogenético).\n",
        "3. Usando operadores lógicos, classifique uma planta escolhida.\n",
        "4. Valide sua conclusão comparando o registro da planta com as regras-alvo (ex.: caracteristicas[\"Laranjeira\"] == angiospermas)."
      ],
      "metadata": {
        "id": "KwAQzVLHWyqh"
      }
    },
    {
      "cell_type": "code",
      "source": [],
      "metadata": {
        "id": "TsTb968gnITN"
      },
      "execution_count": null,
      "outputs": []
    },
    {
      "cell_type": "code",
      "source": [],
      "metadata": {
        "id": "XPAaHUBPnIHO"
      },
      "execution_count": null,
      "outputs": []
    },
    {
      "cell_type": "code",
      "source": [],
      "metadata": {
        "id": "TjpORb1NnH4e"
      },
      "execution_count": null,
      "outputs": []
    },
    {
      "cell_type": "markdown",
      "source": [
        "# **Bibliotecas em Python**\n",
        "\n",
        "Python possui uma vasta coleção de bibliotecas externos que estendem suas funcionalidades, facilitando muito o desenvolvimento e a análise de dados.\n",
        "\n",
        "## Por que usar biblioteca?\n",
        "\n",
        "Muitas operações comuns, especialmente em análise de dados e estatística, demandam cálculos complexos e manipulação eficiente de grandes volumes de dados. Ao invés de programar tudo do zero, utilizamos bibliotecas já desenvolvidos e testados pela comunidade. Isso traz várias vantagens:\n",
        "\n",
        "* Economia de tempo: Funções prontas executam tarefas que seriam demoradas para implementar manualmente.\n",
        "*  Confiabilidade: Bibliotecas populares passam por testes rigorosos e são amplamente utilizados, reduzindo chances de erros.\n",
        "* Simplicidade: Usar funções já implementadas deixa o código mais limpo e fácil de entender.\n",
        "* Eficiência: Bibliotecas como numpy são otimizados para performance, especialmente com grandes volumes de dados.\n",
        "\n",
        "Algumas bibliotecas são longas ou usadas com frequência no código, como numpy e pandas. Para facilitar a digitação e tornar o código mais legível, é comum importar essas bibliotecas com um apelido utilizando a palavra-chave `as`\n"
      ],
      "metadata": {
        "id": "FQfGoiCtZP3A"
      }
    },
    {
      "cell_type": "code",
      "source": [
        "import pandas as pd"
      ],
      "metadata": {
        "id": "GD46Q-ecZyqS"
      },
      "execution_count": null,
      "outputs": []
    },
    {
      "cell_type": "markdown",
      "source": [
        "# **Biblioteca Pandas**\n",
        "\n",
        "O pandas é uma biblioteca para manipulação e análise de dados tabulares. Através dos **DataFrames**, podemos trabalhar facilmente com conjuntos de dados e realizar análises estatísticas de forma simples e organizada.\n",
        "\n",
        "### DataFrames\n",
        "É uma tabela de dados bidimensional (linhas e colunas), que pode ser criada a partir de dicionários, listas, arrays ou arquivos externos.\n",
        "\n",
        "Exemplo:\n",
        "\n",
        "| Especie | Altura_cm | Idade_sem | Folhas |\n",
        "|---------|-----------|-----------|--------|\n",
        "| Miilho  | 35        | 5         | 10     |\n",
        "| Trigo   | 120       | 12        | 24     |\n"
      ],
      "metadata": {
        "id": "VD-A3Ov3Z8BG"
      }
    },
    {
      "cell_type": "markdown",
      "source": [
        "### Importando o Pandas\n",
        "\n",
        "Para utilizar uma biblioteca em Python, precisamos importá-la, ou seja, tornar seus métodos e funções disponíveis no nosso código.\n"
      ],
      "metadata": {
        "id": "00swT2FZbCCs"
      }
    },
    {
      "cell_type": "code",
      "source": [],
      "metadata": {
        "id": "WOxItfzbbFMl"
      },
      "execution_count": null,
      "outputs": []
    },
    {
      "cell_type": "markdown",
      "source": [
        "###Criando DataFrames\n",
        "\n",
        "Podemos criar um DataFrame a partir de um dicionário, associando nomes de colunas a listas de valores:\n",
        "\n",
        "\n"
      ],
      "metadata": {
        "id": "PcwYB86NbKfe"
      }
    },
    {
      "cell_type": "code",
      "source": [],
      "metadata": {
        "id": "kRVdjBfobUz7"
      },
      "execution_count": null,
      "outputs": []
    },
    {
      "cell_type": "markdown",
      "source": [],
      "metadata": {
        "id": "GOatydresTKg"
      }
    },
    {
      "cell_type": "markdown",
      "source": [
        "Para transformar o dicionário em um DataFrame, usamos a função `pd.Dataframe()`."
      ],
      "metadata": {
        "id": "4t00tZd0O5h3"
      }
    },
    {
      "cell_type": "code",
      "source": [],
      "metadata": {
        "id": "mvsMIJOsbYk_"
      },
      "execution_count": null,
      "outputs": []
    },
    {
      "cell_type": "code",
      "source": [],
      "metadata": {
        "id": "A6vxEpJynYIa"
      },
      "execution_count": null,
      "outputs": []
    },
    {
      "cell_type": "markdown",
      "source": [
        "### **Agora é a sua vez!**\n",
        "\n",
        "Crie um DataFrame a partir de um dicionário e exiba suas principais informações."
      ],
      "metadata": {
        "id": "UkqqnkrWT9aG"
      }
    },
    {
      "cell_type": "markdown",
      "source": [
        "Também podemos criar um dataframe a partir de um arquivo como **csv** (\"comma-separated values\").\n",
        "No caso estaremos lendo um arquivo disponível online, mas o caminho pode ser para um arquivo local também"
      ],
      "metadata": {
        "id": "NULH1QGRshNF"
      }
    },
    {
      "cell_type": "code",
      "source": [
        "url = \"https://raw.githubusercontent.com/mwaskom/seaborn-data/master/iris.csv\"\n"
      ],
      "metadata": {
        "id": "DZ74eDGzshNG"
      },
      "execution_count": null,
      "outputs": []
    },
    {
      "cell_type": "code",
      "source": [],
      "metadata": {
        "id": "Y9FLg_1oswpe"
      },
      "execution_count": null,
      "outputs": []
    },
    {
      "cell_type": "markdown",
      "source": [
        "No caso do excel seria um caminho parecido, mas utilizando `pd.read_excel()`."
      ],
      "metadata": {
        "id": "zpeyVy_6shNG"
      }
    },
    {
      "cell_type": "markdown",
      "source": [
        "Para ter uma amostra do conteúdo do DataFrame, podemos usar o método `head()`"
      ],
      "metadata": {
        "id": "jdPdRlILshNG"
      }
    },
    {
      "cell_type": "code",
      "source": [],
      "metadata": {
        "id": "vwiNx856szxD"
      },
      "execution_count": null,
      "outputs": []
    },
    {
      "cell_type": "markdown",
      "source": [
        "Outras funções úteis são:\n",
        "\n",
        "* `.shape` para número de linhas e colunas\n",
        "* `.info()` para informações sobre colunas e tipos de dados\n",
        "* `.describe()` para estatísticas básicas (média, desvio padrão, mínimo, máximo)\n",
        "* `.columns` para nomes das colunas"
      ],
      "metadata": {
        "id": "wd7lYUmDshNH"
      }
    },
    {
      "cell_type": "code",
      "source": [],
      "metadata": {
        "id": "7v-_4khws2Z6"
      },
      "execution_count": null,
      "outputs": []
    },
    {
      "cell_type": "code",
      "source": [],
      "metadata": {
        "id": "KG5NbtjLs2T7"
      },
      "execution_count": null,
      "outputs": []
    },
    {
      "cell_type": "code",
      "source": [],
      "metadata": {
        "id": "JgIZWgYYs2N-"
      },
      "execution_count": null,
      "outputs": []
    },
    {
      "cell_type": "code",
      "source": [],
      "metadata": {
        "id": "ebSY2Rqls2E2"
      },
      "execution_count": null,
      "outputs": []
    },
    {
      "cell_type": "markdown",
      "source": [
        "### Selecionando dados\n",
        "\n",
        "Podemos acessar colunas de um DataFrame escrevendo o **nome do DataFrame** seguido do nome da coluna entre colchete."
      ],
      "metadata": {
        "id": "A6x39QFzgiG5"
      }
    },
    {
      "cell_type": "code",
      "source": [],
      "metadata": {
        "id": "WDe0lGC_noPT"
      },
      "execution_count": null,
      "outputs": []
    },
    {
      "cell_type": "code",
      "source": [],
      "metadata": {
        "id": "u2mhcq8vnp9T"
      },
      "execution_count": null,
      "outputs": []
    },
    {
      "cell_type": "markdown",
      "source": [
        "Também podemos filtrar linhas usando condições:"
      ],
      "metadata": {
        "id": "gAaN9xdKgx2N"
      }
    },
    {
      "cell_type": "code",
      "source": [],
      "metadata": {
        "id": "_igEQdaenrUh"
      },
      "execution_count": null,
      "outputs": []
    },
    {
      "cell_type": "markdown",
      "source": [
        "### Criando novas colunas\n",
        "\n",
        "É possível criar colunas a partir de cálculos com outras colunas. Cada nova coluna será automaticamente adicionada ao DataFrame."
      ],
      "metadata": {
        "id": "HBKbXtebg0A3"
      }
    },
    {
      "cell_type": "code",
      "source": [],
      "metadata": {
        "id": "vqlpYQOGnuF4"
      },
      "execution_count": null,
      "outputs": []
    },
    {
      "cell_type": "code",
      "source": [],
      "metadata": {
        "id": "Ho3DDi2Hnt7L"
      },
      "execution_count": null,
      "outputs": []
    },
    {
      "cell_type": "code",
      "source": [],
      "metadata": {
        "id": "sE8u5LX4nt1M"
      },
      "execution_count": null,
      "outputs": []
    },
    {
      "cell_type": "markdown",
      "source": [
        "### Estatísticas básicas\n",
        "\n",
        "O Pandas oferece várias funções para calcular estatísticas de forma rápida em colunas de um DataFrame."
      ],
      "metadata": {
        "id": "9P73DWKHhI_m"
      }
    },
    {
      "cell_type": "markdown",
      "source": [
        "Média (`.mean()`)\n",
        "\n",
        "Calcula o valor médio da coluna."
      ],
      "metadata": {
        "id": "NEuxJAnvhdo1"
      }
    },
    {
      "cell_type": "code",
      "source": [],
      "metadata": {
        "id": "BZwUGUB3nw_z"
      },
      "execution_count": null,
      "outputs": []
    },
    {
      "cell_type": "markdown",
      "source": [
        "Mediana (`.median()`)\n",
        "\n",
        "O valor central, menos afetado por valores muito altos ou baixos."
      ],
      "metadata": {
        "id": "NnilVtJihrKC"
      }
    },
    {
      "cell_type": "code",
      "source": [],
      "metadata": {
        "id": "_6gHRmqGnyex"
      },
      "execution_count": null,
      "outputs": []
    },
    {
      "cell_type": "markdown",
      "source": [
        "Moda (`.mode()`)\n",
        "\n",
        "O valor mais frequente."
      ],
      "metadata": {
        "id": "51ZVHsoJh3Gt"
      }
    },
    {
      "cell_type": "code",
      "source": [],
      "metadata": {
        "id": "tv9WCuUGn001"
      },
      "execution_count": null,
      "outputs": []
    },
    {
      "cell_type": "markdown",
      "source": [
        "Mínimo (`.min()`) e Máximo (`.max()`)\n",
        "\n",
        "\n",
        "Valores extremos da coluna."
      ],
      "metadata": {
        "id": "1rIvKyGBiC9H"
      }
    },
    {
      "cell_type": "code",
      "source": [],
      "metadata": {
        "id": "gNHb6-qcn2mr"
      },
      "execution_count": null,
      "outputs": []
    },
    {
      "cell_type": "markdown",
      "source": [
        "Desvio padrão (`.std()`)\n",
        "\n",
        "\n",
        "Mede o quanto os valores variam em torno da média."
      ],
      "metadata": {
        "id": "pUtWA82YiGGV"
      }
    },
    {
      "cell_type": "code",
      "source": [],
      "metadata": {
        "id": "n7uWn0ktn4Rq"
      },
      "execution_count": null,
      "outputs": []
    },
    {
      "cell_type": "markdown",
      "source": [
        "Variância (`.var()`)\n",
        "\n",
        "\n",
        "Parecido com o desvio padrão, mas elevado ao quadrado."
      ],
      "metadata": {
        "id": "fzVlfCFAiKcx"
      }
    },
    {
      "cell_type": "code",
      "source": [],
      "metadata": {
        "id": "FGIQCafsn5U8"
      },
      "execution_count": null,
      "outputs": []
    },
    {
      "cell_type": "markdown",
      "source": [
        "Contagem (`.count()`)\n",
        "\n",
        "Quantos valores existem (não nulos)."
      ],
      "metadata": {
        "id": "TqGg0OXCiNmY"
      }
    },
    {
      "cell_type": "code",
      "source": [],
      "metadata": {
        "id": "i4KJWBiEn6oc"
      },
      "execution_count": null,
      "outputs": []
    },
    {
      "cell_type": "markdown",
      "source": [
        "### Ordenando e filtrando\n",
        "\n",
        "Para organizar os dados podemos ordenar colunas utilizando `.sort_values()` e passando como parâmetro `by` a coluna de referência para a ordenação dos dados."
      ],
      "metadata": {
        "id": "phJbxcdHiea1"
      }
    },
    {
      "cell_type": "code",
      "source": [],
      "metadata": {
        "id": "zWC8NBrUoDWP"
      },
      "execution_count": null,
      "outputs": []
    },
    {
      "cell_type": "markdown",
      "source": [
        "Já a filtragem de dados pode ser feita ao comparar uma determinada coluna com o valor desejado e, em seguida, utilizar essa condição dentro de `[]` no DataFrame."
      ],
      "metadata": {
        "id": "m_mMIZNEi0G1"
      }
    },
    {
      "cell_type": "code",
      "source": [],
      "metadata": {
        "id": "OlVBM_R2oEuS"
      },
      "execution_count": null,
      "outputs": []
    },
    {
      "cell_type": "markdown",
      "source": [
        "### Tratamento de dados\n",
        "\n",
        "Na prática, muitas vezes temos dados faltantes.\n",
        "Vamos criar um exemplo com um dataset de plantas que possui valores ausentes (NaN)"
      ],
      "metadata": {
        "id": "WfN6j1Tzi_Yo"
      }
    },
    {
      "cell_type": "code",
      "source": [],
      "metadata": {
        "id": "nyRwW4aqoKHq"
      },
      "execution_count": null,
      "outputs": []
    },
    {
      "cell_type": "code",
      "source": [],
      "metadata": {
        "id": "_cn1vd_coMmb"
      },
      "execution_count": null,
      "outputs": []
    },
    {
      "cell_type": "code",
      "source": [],
      "metadata": {
        "id": "IDZjOMq8oMZ7"
      },
      "execution_count": null,
      "outputs": []
    },
    {
      "cell_type": "markdown",
      "source": [
        "Não se preocupe agora com np.nan, ele está nos auxiliando a atribuir um valor nulo no DataFrame."
      ],
      "metadata": {
        "id": "OyfXhutb4G2a"
      }
    },
    {
      "cell_type": "code",
      "source": [],
      "metadata": {
        "id": "419gekNWoOMC"
      },
      "execution_count": null,
      "outputs": []
    },
    {
      "cell_type": "markdown",
      "source": [
        "Verificar valores ausentes"
      ],
      "metadata": {
        "id": "8uLWomYLjYbe"
      }
    },
    {
      "cell_type": "code",
      "source": [],
      "metadata": {
        "id": "12F5BckuoPDX"
      },
      "execution_count": null,
      "outputs": []
    },
    {
      "cell_type": "markdown",
      "source": [
        "Podemos utilizar a função `fillna()` para auxiliar a preencher os espaços nulos."
      ],
      "metadata": {
        "id": "dxTfdoIT4Y9M"
      }
    },
    {
      "cell_type": "code",
      "source": [],
      "metadata": {
        "id": "iRoESiJZoRJp"
      },
      "execution_count": null,
      "outputs": []
    },
    {
      "cell_type": "code",
      "source": [],
      "metadata": {
        "id": "kOAHNI0joRCB"
      },
      "execution_count": null,
      "outputs": []
    },
    {
      "cell_type": "code",
      "source": [],
      "metadata": {
        "id": "WABFJSdyoQ5_"
      },
      "execution_count": null,
      "outputs": []
    },
    {
      "cell_type": "code",
      "source": [],
      "metadata": {
        "id": "4PREBvJPoQxG"
      },
      "execution_count": null,
      "outputs": []
    },
    {
      "cell_type": "markdown",
      "source": [
        "Ou utilizar a função `dropna()` para remover as linhas com pelo menos um valor nulo"
      ],
      "metadata": {
        "id": "1hHW6t9A4kxg"
      }
    },
    {
      "cell_type": "code",
      "source": [],
      "metadata": {
        "id": "DuZL1XaDoT3-"
      },
      "execution_count": null,
      "outputs": []
    },
    {
      "cell_type": "code",
      "source": [],
      "metadata": {
        "id": "dKh5cqRcoTzv"
      },
      "execution_count": null,
      "outputs": []
    },
    {
      "cell_type": "markdown",
      "source": [
        "Remoção de linhas duplicadas.\n",
        "Observe que o DataFrame abaixo possui uma linha duplicada"
      ],
      "metadata": {
        "id": "FXqIRcnRkpiJ"
      }
    },
    {
      "cell_type": "code",
      "source": [],
      "metadata": {
        "id": "cwNq4moZoU-k"
      },
      "execution_count": null,
      "outputs": []
    },
    {
      "cell_type": "markdown",
      "source": [
        "O pandas consegue identificá-las e eliminá-las através da função `drop_duplicates()`"
      ],
      "metadata": {
        "id": "tMDqeYiT46-i"
      }
    },
    {
      "cell_type": "code",
      "source": [],
      "metadata": {
        "id": "5U0OVDE6oWCo"
      },
      "execution_count": null,
      "outputs": []
    },
    {
      "cell_type": "code",
      "source": [],
      "metadata": {
        "id": "FJC6W8TfoV9F"
      },
      "execution_count": null,
      "outputs": []
    },
    {
      "cell_type": "markdown",
      "source": [
        "### **🐧 Exercício: Explorando o Pandas com o Conjunto de Dados Palmer Penguins**\n",
        "\n",
        "O conjunto de dados Penguins contém informações sobre três espécies de pinguins coletadas nas ilhas do arquipélago Palmer, incluindo características físicas como o comprimento e a profundidade do bico, o comprimento da nadadeira e o peso corporal.\n",
        "\n",
        "URL para o CSV do conjunto de dados:\n",
        "https://raw.githubusercontent.com/allisonhorst/palmerpenguins/main/inst/extdata/penguins.csv\n",
        "\n",
        "1. Estamos interessados em saber qual é a massa corporal média dos pinguins de cada espécie.\n",
        "\n",
        "    **DICA:**\n",
        "    Utilize o conjunto de dados para calcular a média de body_mass_g agrupando por species e exiba o resultado em uma nova tabela ou com um print organizado no console.\n",
        "\n",
        "2. Também queremos investigar se existe diferença no comprimento médio do bico (bill_length_mm) entre pinguins machos e fêmeas.\n",
        "\n",
        "    **DICA:**\n",
        "    Agrupe os dados por sex e calcule a média dessa variável, exibindo o resultado.\n",
        "\n",
        "💡 Observação: Antes de iniciar as análises, verifique se há valores ausentes no conjunto de dados e, se necessário, trate-os adequadamente (por exemplo, removendo linhas com dados faltantes ou preenchendo valores)."
      ],
      "metadata": {
        "id": "HMFJ3LLutaCC"
      }
    },
    {
      "cell_type": "code",
      "source": [],
      "metadata": {
        "id": "o_pglGbptkwe"
      },
      "execution_count": null,
      "outputs": []
    },
    {
      "cell_type": "code",
      "source": [],
      "metadata": {
        "id": "UMBHTNL2tkra"
      },
      "execution_count": null,
      "outputs": []
    },
    {
      "cell_type": "code",
      "source": [],
      "metadata": {
        "id": "58IKkT7Ztkm8"
      },
      "execution_count": null,
      "outputs": []
    },
    {
      "cell_type": "markdown",
      "source": [
        "# **Biblioteca Matplotlib**\n",
        "\n",
        "A biblioteca `Matplotlib` é a ferramenta mais fundamental e amplamente utilizada para criar gráficos estáticos em Python. Ela oferece um controle incrível sobre cada aspecto de uma figura, desde os eixos e rótulos até cores e legendas. Permitindo criar gráficos com a qualidade exigida para artigos e apresentações."
      ],
      "metadata": {
        "id": "FABMIEb8Wvqq"
      }
    },
    {
      "cell_type": "markdown",
      "source": [
        "\n",
        "Primeiro, vamos importar o submódulo `pyplot` da `matplotlib`, A convenção é importá-lo com o apelido `plt`"
      ],
      "metadata": {
        "id": "phYLzRItXPWk"
      }
    },
    {
      "cell_type": "code",
      "source": [],
      "metadata": {
        "id": "JwdnAKG7tu5H"
      },
      "execution_count": null,
      "outputs": []
    },
    {
      "cell_type": "code",
      "source": [],
      "metadata": {
        "id": "Ml4tezB6tu01"
      },
      "execution_count": null,
      "outputs": []
    },
    {
      "cell_type": "code",
      "source": [],
      "metadata": {
        "id": "jJfj7dgvtwwp"
      },
      "execution_count": null,
      "outputs": []
    },
    {
      "cell_type": "code",
      "source": [],
      "metadata": {
        "id": "_XB7t54BtwqF"
      },
      "execution_count": null,
      "outputs": []
    },
    {
      "cell_type": "code",
      "source": [],
      "metadata": {
        "id": "6W9rUmAdtuw2"
      },
      "execution_count": null,
      "outputs": []
    },
    {
      "cell_type": "markdown",
      "source": [
        "Vamos analisar o dataset de Iris..."
      ],
      "metadata": {
        "id": "ucnRM65rhUNc"
      }
    },
    {
      "cell_type": "markdown",
      "source": [
        "### Gráfico de Linha (`plt.plot`)\n"
      ],
      "metadata": {
        "id": "uxR2kJW_ZSZJ"
      }
    },
    {
      "cell_type": "code",
      "source": [],
      "metadata": {
        "id": "ZTlemF4puAOR"
      },
      "execution_count": null,
      "outputs": []
    },
    {
      "cell_type": "code",
      "source": [],
      "metadata": {
        "id": "KY1MeEf0t_7S"
      },
      "execution_count": null,
      "outputs": []
    },
    {
      "cell_type": "code",
      "source": [],
      "metadata": {
        "id": "LldFGVg4uEND"
      },
      "execution_count": null,
      "outputs": []
    },
    {
      "cell_type": "code",
      "source": [],
      "metadata": {
        "id": "4KxVr5h_uEIr"
      },
      "execution_count": null,
      "outputs": []
    },
    {
      "cell_type": "code",
      "source": [],
      "metadata": {
        "id": "l5TP74fJuEEZ"
      },
      "execution_count": null,
      "outputs": []
    },
    {
      "cell_type": "code",
      "source": [],
      "metadata": {
        "id": "vvcOxJOfuC9U"
      },
      "execution_count": null,
      "outputs": []
    },
    {
      "cell_type": "code",
      "source": [],
      "metadata": {
        "id": "_Kza-VMCuBdw"
      },
      "execution_count": null,
      "outputs": []
    },
    {
      "cell_type": "code",
      "source": [],
      "metadata": {
        "id": "TfV74iRit_uH"
      },
      "execution_count": null,
      "outputs": []
    },
    {
      "cell_type": "markdown",
      "source": [
        "##  Gráfico de Dispersão (`plt.scatter`)\n",
        "Gráficos de dispersão (scatter plots) são ideais para investigar a relação entre duas variáveis numéricas."
      ],
      "metadata": {
        "id": "TCBjOGWkcKBx"
      }
    },
    {
      "cell_type": "code",
      "source": [],
      "metadata": {
        "id": "1wRPSLeyuM5v"
      },
      "execution_count": null,
      "outputs": []
    },
    {
      "cell_type": "code",
      "source": [],
      "metadata": {
        "id": "ggSZUnKUuM0y"
      },
      "execution_count": null,
      "outputs": []
    },
    {
      "cell_type": "code",
      "source": [],
      "metadata": {
        "id": "SorH2FPkuLxy"
      },
      "execution_count": null,
      "outputs": []
    },
    {
      "cell_type": "code",
      "source": [],
      "metadata": {
        "id": "Ox5CYts1uLBe"
      },
      "execution_count": null,
      "outputs": []
    },
    {
      "cell_type": "code",
      "source": [],
      "metadata": {
        "id": "X4OECkxNuKqy"
      },
      "execution_count": null,
      "outputs": []
    },
    {
      "cell_type": "code",
      "source": [],
      "metadata": {
        "id": "h6QP6_3ruKL4"
      },
      "execution_count": null,
      "outputs": []
    },
    {
      "cell_type": "code",
      "source": [],
      "metadata": {
        "id": "oRYYQejZuNt3"
      },
      "execution_count": null,
      "outputs": []
    },
    {
      "cell_type": "markdown",
      "source": [
        "## Gráfico de Barras (`plt.bar`)\n",
        "Gráficos de barras são excelentes para comparar valores entre diferentes categorias."
      ],
      "metadata": {
        "id": "GxFOAalwcRzG"
      }
    },
    {
      "cell_type": "code",
      "source": [],
      "metadata": {
        "id": "qbiUYjtvuS0R"
      },
      "execution_count": null,
      "outputs": []
    },
    {
      "cell_type": "code",
      "source": [],
      "metadata": {
        "id": "ZnvrxX51uSwH"
      },
      "execution_count": null,
      "outputs": []
    },
    {
      "cell_type": "code",
      "source": [],
      "metadata": {
        "id": "iGWapziruSrc"
      },
      "execution_count": null,
      "outputs": []
    },
    {
      "cell_type": "code",
      "source": [],
      "metadata": {
        "id": "LqcLS48duSnO"
      },
      "execution_count": null,
      "outputs": []
    },
    {
      "cell_type": "markdown",
      "source": [
        "### **Exercício Prático: Análise Morfológica de Pinguins na Antártida**\n",
        "\n",
        "Imagine que você é um(a) biólogo(a) pesquisador(a) trabalhando na Antártida. Sua equipe coletou dados valiosos de três espécies de pinguins (_Adelie_, _Chinstrap_ e _Gentoo_) que vivem em três ilhas diferentes no arquipélago Palmer. Medidas corporais, como as dimensões do bico, o comprimento da nadadeira e a massa corporal, são cruciais para entender como essas espécies se adaptaram e se diferenciam.\n",
        "\n",
        "Sua tarefa é usar a visualização de dados para encontrar padrões que ajudem a diferenciar as espécies e a entender melhor sua morfologia e distribuição:\n",
        "- 1º: Limpar registros com dados nulos ou inconsistentes;\n",
        "- 2º: Verifique qual das espécies de pinguins é em média mais pesada que as outras e forneça uma visualização;\n",
        "- 3º: Compare a distribuição dos comprimentos dos bicos pelas profundidades dos bicos entre espécies;\n",
        "- 4º: Verifique se há aumento do tamanho da asa conforme o aumento do peso da espécie identificada como mais pesada em 2ª.\n",
        "\n",
        "O dataset está disponível na url: https://raw.githubusercontent.com/allisonhorst/palmerpenguins/main/inst/extdata/penguins.csv"
      ],
      "metadata": {
        "id": "z1CurplUQact"
      }
    },
    {
      "cell_type": "markdown",
      "source": [
        "Configuração e carregamento:"
      ],
      "metadata": {
        "id": "7HHbsE-Wuwm3"
      }
    },
    {
      "cell_type": "code",
      "source": [],
      "metadata": {
        "id": "hflyAztAuinQ"
      },
      "execution_count": null,
      "outputs": []
    },
    {
      "cell_type": "code",
      "source": [],
      "metadata": {
        "id": "gI_wEUpYuiYW"
      },
      "execution_count": null,
      "outputs": []
    },
    {
      "cell_type": "code",
      "source": [],
      "metadata": {
        "id": "UOXQnGf3uiGV"
      },
      "execution_count": null,
      "outputs": []
    },
    {
      "cell_type": "code",
      "source": [],
      "metadata": {
        "id": "PJFETyM3ulUK"
      },
      "execution_count": null,
      "outputs": []
    },
    {
      "cell_type": "markdown",
      "source": [
        "Análise e limpeza:"
      ],
      "metadata": {
        "id": "D6lcH1euu5Gf"
      }
    },
    {
      "cell_type": "code",
      "source": [],
      "metadata": {
        "id": "Xx7XiP19umcw"
      },
      "execution_count": null,
      "outputs": []
    },
    {
      "cell_type": "code",
      "source": [],
      "metadata": {
        "id": "tM653lyhuq36"
      },
      "execution_count": null,
      "outputs": []
    },
    {
      "cell_type": "code",
      "source": [],
      "metadata": {
        "id": "071kZzK0uqr-"
      },
      "execution_count": null,
      "outputs": []
    },
    {
      "cell_type": "markdown",
      "source": [
        "Removendo linhas com qualquer valor nulo:"
      ],
      "metadata": {
        "id": "rjpsiCWivAyz"
      }
    },
    {
      "cell_type": "code",
      "source": [],
      "metadata": {
        "id": "LY-vwmH3vF6Q"
      },
      "execution_count": null,
      "outputs": []
    },
    {
      "cell_type": "code",
      "source": [],
      "metadata": {
        "id": "gKRRNAY9vF2Q"
      },
      "execution_count": null,
      "outputs": []
    },
    {
      "cell_type": "code",
      "source": [],
      "metadata": {
        "id": "t3iSmWxkvFxq"
      },
      "execution_count": null,
      "outputs": []
    },
    {
      "cell_type": "code",
      "source": [],
      "metadata": {
        "id": "vyXK5RcAus6F"
      },
      "execution_count": null,
      "outputs": []
    },
    {
      "cell_type": "markdown",
      "source": [
        "Calcular a massa média por espécie:"
      ],
      "metadata": {
        "id": "GCa39f3cvGiM"
      }
    },
    {
      "cell_type": "code",
      "source": [],
      "metadata": {
        "id": "pd7-_4cLvMHT"
      },
      "execution_count": null,
      "outputs": []
    },
    {
      "cell_type": "code",
      "source": [],
      "metadata": {
        "id": "fAwm2wJ0vMDQ"
      },
      "execution_count": null,
      "outputs": []
    },
    {
      "cell_type": "code",
      "source": [],
      "metadata": {
        "id": "vaVl-CfnvL_d"
      },
      "execution_count": null,
      "outputs": []
    },
    {
      "cell_type": "code",
      "source": [],
      "metadata": {
        "id": "wlwgoBSJvL7f"
      },
      "execution_count": null,
      "outputs": []
    },
    {
      "cell_type": "code",
      "source": [],
      "metadata": {
        "id": "ZTSRqFk2vL3B"
      },
      "execution_count": null,
      "outputs": []
    },
    {
      "cell_type": "code",
      "source": [],
      "metadata": {
        "id": "xtoSTRo2vLyU"
      },
      "execution_count": null,
      "outputs": []
    },
    {
      "cell_type": "code",
      "source": [],
      "metadata": {
        "id": "GDrd40VuvLts"
      },
      "execution_count": null,
      "outputs": []
    },
    {
      "cell_type": "code",
      "source": [],
      "metadata": {
        "id": "zscLYk4cvLo6"
      },
      "execution_count": null,
      "outputs": []
    },
    {
      "cell_type": "code",
      "source": [],
      "metadata": {
        "id": "tB8yBYfgvRIb"
      },
      "execution_count": null,
      "outputs": []
    },
    {
      "cell_type": "code",
      "source": [],
      "metadata": {
        "id": "zzYm3vLHvRCF"
      },
      "execution_count": null,
      "outputs": []
    },
    {
      "cell_type": "code",
      "source": [],
      "metadata": {
        "id": "nPYTq7j2vQ9S"
      },
      "execution_count": null,
      "outputs": []
    },
    {
      "cell_type": "code",
      "source": [],
      "metadata": {
        "id": "WOj1ekv4vQ5A"
      },
      "execution_count": null,
      "outputs": []
    },
    {
      "cell_type": "code",
      "source": [],
      "metadata": {
        "id": "OAwJVUSpvQ0v"
      },
      "execution_count": null,
      "outputs": []
    },
    {
      "cell_type": "code",
      "source": [],
      "metadata": {
        "id": "IIslVfiYvQwU"
      },
      "execution_count": null,
      "outputs": []
    },
    {
      "cell_type": "code",
      "source": [],
      "metadata": {
        "id": "Vu8yF5j4vQsG"
      },
      "execution_count": null,
      "outputs": []
    }
  ]
}